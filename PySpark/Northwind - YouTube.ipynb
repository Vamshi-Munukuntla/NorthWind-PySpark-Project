{
 "cells": [
  {
   "cell_type": "code",
   "execution_count": 0,
   "metadata": {
    "application/vnd.databricks.v1+cell": {
     "cellMetadata": {
      "byteLimit": 2048000,
      "rowLimit": 10000
     },
     "inputWidgets": {},
     "nuid": "4a68e30a-5a5e-453c-9cc9-45551e736746",
     "showTitle": false,
     "title": ""
    }
   },
   "outputs": [],
   "source": [
    "# File uploaded to /FileStore/tables/Northwind_Curbal/Categories.csv\n",
    "# File uploaded to /FileStore/tables/Northwind_Curbal/Calendar.csv\n",
    "# File uploaded to /FileStore/tables/Northwind_Curbal/Customers.csv\n",
    "# File uploaded to /FileStore/tables/Northwind_Curbal/Employees.csv\n",
    "# File uploaded to /FileStore/tables/Northwind_Curbal/Products.csv\n",
    "# File uploaded to /FileStore/tables/Northwind_Curbal/Orders.csv\n",
    "# File uploaded to /FileStore/tables/Northwind_Curbal/Suppliers.csv"
   ]
  },
  {
   "cell_type": "markdown",
   "metadata": {
    "application/vnd.databricks.v1+cell": {
     "cellMetadata": {
      "byteLimit": 2048000,
      "rowLimit": 10000
     },
     "inputWidgets": {},
     "nuid": "5a705064-b0be-410a-9bd9-bb862963750c",
     "showTitle": false,
     "title": ""
    }
   },
   "source": [
    "## Import Libraries"
   ]
  },
  {
   "cell_type": "code",
   "execution_count": 0,
   "metadata": {
    "application/vnd.databricks.v1+cell": {
     "cellMetadata": {
      "byteLimit": 2048000,
      "rowLimit": 10000
     },
     "inputWidgets": {},
     "nuid": "0eb50666-ad79-46d7-a3d5-e72cb75083dd",
     "showTitle": false,
     "title": ""
    }
   },
   "outputs": [],
   "source": [
    "from pyspark.sql.functions import *\n",
    "from pyspark.sql.types import *\n",
    "from pyspark.sql.window import Window"
   ]
  },
  {
   "cell_type": "markdown",
   "metadata": {
    "application/vnd.databricks.v1+cell": {
     "cellMetadata": {
      "byteLimit": 2048000,
      "rowLimit": 10000
     },
     "inputWidgets": {},
     "nuid": "98de1946-2881-4166-a086-d11f0d2ac222",
     "showTitle": false,
     "title": ""
    }
   },
   "source": [
    "## Load the data"
   ]
  },
  {
   "cell_type": "markdown",
   "metadata": {
    "application/vnd.databricks.v1+cell": {
     "cellMetadata": {
      "byteLimit": 2048000,
      "rowLimit": 10000
     },
     "inputWidgets": {},
     "nuid": "a863b3db-b50e-4523-ac9b-4e6ebe4a4ec0",
     "showTitle": false,
     "title": ""
    }
   },
   "source": [
    "### Products"
   ]
  },
  {
   "cell_type": "code",
   "execution_count": 0,
   "metadata": {
    "application/vnd.databricks.v1+cell": {
     "cellMetadata": {
      "byteLimit": 2048000,
      "rowLimit": 10000
     },
     "inputWidgets": {},
     "nuid": "1f4e425a-c6b2-4f5c-a520-0606c91fb8de",
     "showTitle": false,
     "title": ""
    }
   },
   "outputs": [],
   "source": [
    "products_path = \"/FileStore/tables/Northwind_Curbal/Products.csv\" \n",
    "\n",
    "products = spark.read.format('csv')\\\n",
    "                .option('header','True')\\\n",
    "                .option('inferSchema','True')\\\n",
    "                .load(products_path)"
   ]
  },
  {
   "cell_type": "markdown",
   "metadata": {
    "application/vnd.databricks.v1+cell": {
     "cellMetadata": {
      "byteLimit": 2048000,
      "rowLimit": 10000
     },
     "inputWidgets": {},
     "nuid": "e3ed226b-cc7f-45fc-9830-8dc430c9fddb",
     "showTitle": false,
     "title": ""
    }
   },
   "source": [
    "### Orders"
   ]
  },
  {
   "cell_type": "code",
   "execution_count": 0,
   "metadata": {
    "application/vnd.databricks.v1+cell": {
     "cellMetadata": {
      "byteLimit": 2048000,
      "rowLimit": 10000
     },
     "inputWidgets": {},
     "nuid": "9d747b39-0a5f-4e6f-beb3-7b83b59ceaea",
     "showTitle": false,
     "title": ""
    }
   },
   "outputs": [],
   "source": [
    "orders_path = \"/FileStore/tables/Northwind_Curbal/Orders.csv\"\n",
    "orders = spark.read.format('csv')\\\n",
    "                .option('header','True')\\\n",
    "                .option('inferSchema','True')\\\n",
    "                .load(orders_path)"
   ]
  },
  {
   "cell_type": "markdown",
   "metadata": {
    "application/vnd.databricks.v1+cell": {
     "cellMetadata": {
      "byteLimit": 2048000,
      "rowLimit": 10000
     },
     "inputWidgets": {},
     "nuid": "c45d3f15-e607-4432-a00b-49f262e7397d",
     "showTitle": false,
     "title": ""
    }
   },
   "source": [
    "### Customers"
   ]
  },
  {
   "cell_type": "code",
   "execution_count": 0,
   "metadata": {
    "application/vnd.databricks.v1+cell": {
     "cellMetadata": {
      "byteLimit": 2048000,
      "rowLimit": 10000
     },
     "inputWidgets": {},
     "nuid": "819e98f3-2fd7-4b37-a0e3-a4019c985c7b",
     "showTitle": false,
     "title": ""
    }
   },
   "outputs": [],
   "source": [
    "customers_path = \"/FileStore/tables/Northwind_Curbal/Customers.csv\"\n",
    "customers = spark.read.format('csv')\\\n",
    "                .option('header','True')\\\n",
    "                .option('inferSchema','True')\\\n",
    "                .load(customers_path)"
   ]
  },
  {
   "cell_type": "markdown",
   "metadata": {
    "application/vnd.databricks.v1+cell": {
     "cellMetadata": {
      "byteLimit": 2048000,
      "rowLimit": 10000
     },
     "inputWidgets": {},
     "nuid": "aaf079ad-7642-4623-bff5-57047f07e25b",
     "showTitle": false,
     "title": ""
    }
   },
   "source": [
    "### Employees"
   ]
  },
  {
   "cell_type": "code",
   "execution_count": 0,
   "metadata": {
    "application/vnd.databricks.v1+cell": {
     "cellMetadata": {
      "byteLimit": 2048000,
      "rowLimit": 10000
     },
     "inputWidgets": {},
     "nuid": "c8bb8856-10ad-4969-a967-d9b7a2192698",
     "showTitle": false,
     "title": ""
    }
   },
   "outputs": [],
   "source": [
    "employees_path = \"/FileStore/tables/Northwind_Curbal/Employees.csv\"\n",
    "\n",
    "employees = spark.read.format('csv')\\\n",
    "                .option(\"header\", 'True')\\\n",
    "                .option(\"inferSchema\",'True')\\\n",
    "                .load(employees_path)"
   ]
  },
  {
   "cell_type": "markdown",
   "metadata": {
    "application/vnd.databricks.v1+cell": {
     "cellMetadata": {
      "byteLimit": 2048000,
      "rowLimit": 10000
     },
     "inputWidgets": {},
     "nuid": "bcdbc72c-5d7f-4d24-ac7b-f98bc4f25c59",
     "showTitle": false,
     "title": ""
    }
   },
   "source": [
    "### Suppliers"
   ]
  },
  {
   "cell_type": "code",
   "execution_count": 0,
   "metadata": {
    "application/vnd.databricks.v1+cell": {
     "cellMetadata": {
      "byteLimit": 2048000,
      "rowLimit": 10000
     },
     "inputWidgets": {},
     "nuid": "89a96363-37be-48e5-bda7-db5683afafda",
     "showTitle": false,
     "title": ""
    }
   },
   "outputs": [],
   "source": [
    "suppliers_path = \"/FileStore/tables/Northwind_Curbal/Suppliers.csv\"\n",
    "suppliers = spark.read.format(\"csv\")\\\n",
    "                .option('header','True')\\\n",
    "                .option('inferSchema','True').load(suppliers_path)"
   ]
  },
  {
   "cell_type": "markdown",
   "metadata": {
    "application/vnd.databricks.v1+cell": {
     "cellMetadata": {
      "byteLimit": 2048000,
      "rowLimit": 10000
     },
     "inputWidgets": {},
     "nuid": "9adfe8b7-64e5-4ebf-a576-158ec0ce54d4",
     "showTitle": false,
     "title": ""
    }
   },
   "source": [
    "## Questions"
   ]
  },
  {
   "cell_type": "markdown",
   "metadata": {
    "application/vnd.databricks.v1+cell": {
     "cellMetadata": {
      "byteLimit": 2048000,
      "rowLimit": 10000
     },
     "inputWidgets": {},
     "nuid": "1606f08a-915d-4763-acaa-098d7558c933",
     "showTitle": false,
     "title": ""
    }
   },
   "source": [
    "### 1. How many current products cost less than $20?"
   ]
  },
  {
   "cell_type": "markdown",
   "metadata": {
    "application/vnd.databricks.v1+cell": {
     "cellMetadata": {
      "byteLimit": 2048000,
      "rowLimit": 10000
     },
     "inputWidgets": {},
     "nuid": "4eeef8d7-0381-4eae-98ac-3ddebc09e3cb",
     "showTitle": false,
     "title": ""
    }
   },
   "source": [
    "1. Apply filter conditions"
   ]
  },
  {
   "cell_type": "code",
   "execution_count": 0,
   "metadata": {
    "application/vnd.databricks.v1+cell": {
     "cellMetadata": {
      "byteLimit": 2048000,
      "rowLimit": 10000
     },
     "inputWidgets": {},
     "nuid": "84f7620e-fc5c-4933-b975-01a478fe33ee",
     "showTitle": false,
     "title": ""
    }
   },
   "outputs": [
    {
     "output_type": "display_data",
     "data": {
      "text/html": [
       "<style scoped>\n",
       "  .table-result-container {\n",
       "    max-height: 300px;\n",
       "    overflow: auto;\n",
       "  }\n",
       "  table, th, td {\n",
       "    border: 1px solid black;\n",
       "    border-collapse: collapse;\n",
       "  }\n",
       "  th, td {\n",
       "    padding: 5px;\n",
       "  }\n",
       "  th {\n",
       "    text-align: left;\n",
       "  }\n",
       "</style><div class='table-result-container'><table class='table-result'><thead style='background-color: white'><tr><th>ProductID</th><th>ProductName</th><th>SupplierID</th><th>CategoryID</th><th>QuantityPerUnit</th><th>UnitPrice</th><th>UnitsInStock</th><th>UnitsOnOrder</th><th>ReorderLevel</th><th>Discontinued</th></tr></thead><tbody><tr><td>1</td><td>Chai</td><td>1</td><td>1</td><td>10 boxes x 20 bags</td><td>18.0</td><td>39</td><td>0</td><td>10</td><td>false</td></tr><tr><td>2</td><td>Chang</td><td>1</td><td>1</td><td>24 - 12 oz bottles</td><td>19.0</td><td>17</td><td>40</td><td>25</td><td>false</td></tr><tr><td>3</td><td>Aniseed Syrup</td><td>1</td><td>2</td><td>12 - 550 ml bottles</td><td>10.0</td><td>13</td><td>70</td><td>25</td><td>false</td></tr><tr><td>13</td><td>Konbu</td><td>6</td><td>8</td><td>2 kg box</td><td>6.0</td><td>24</td><td>0</td><td>5</td><td>false</td></tr><tr><td>15</td><td>Genen Shouyu</td><td>6</td><td>2</td><td>24 - 250 ml bottles</td><td>15.5</td><td>39</td><td>0</td><td>5</td><td>false</td></tr><tr><td>16</td><td>Pavlova</td><td>7</td><td>3</td><td>32 - 500 g boxes</td><td>17.45</td><td>29</td><td>0</td><td>10</td><td>false</td></tr><tr><td>19</td><td>Teatime Chocolate Biscuits</td><td>8</td><td>3</td><td>10 boxes x 12 pieces</td><td>9.2</td><td>25</td><td>0</td><td>5</td><td>false</td></tr><tr><td>21</td><td>Sir Rodney's Scones</td><td>8</td><td>3</td><td>24 pkgs. x 4 pieces</td><td>10.0</td><td>3</td><td>40</td><td>5</td><td>false</td></tr><tr><td>23</td><td>Tunnbröd</td><td>9</td><td>5</td><td>12 - 250 g pkgs.</td><td>9.0</td><td>61</td><td>0</td><td>25</td><td>false</td></tr><tr><td>25</td><td>NuNuCa Nuß-Nougat-Creme</td><td>11</td><td>3</td><td>20 - 450 g glasses</td><td>14.0</td><td>76</td><td>0</td><td>30</td><td>false</td></tr><tr><td>31</td><td>Gorgonzola Telino</td><td>14</td><td>4</td><td>12 - 100 g pkgs</td><td>12.5</td><td>0</td><td>70</td><td>20</td><td>false</td></tr><tr><td>33</td><td>Geitost</td><td>15</td><td>4</td><td>500 g</td><td>2.5</td><td>112</td><td>0</td><td>20</td><td>false</td></tr><tr><td>34</td><td>Sasquatch Ale</td><td>16</td><td>1</td><td>24 - 12 oz bottles</td><td>14.0</td><td>111</td><td>0</td><td>15</td><td>false</td></tr><tr><td>35</td><td>Steeleye Stout</td><td>16</td><td>1</td><td>24 - 12 oz bottles</td><td>18.0</td><td>20</td><td>0</td><td>15</td><td>false</td></tr><tr><td>36</td><td>Inlagd Sill</td><td>17</td><td>8</td><td>24 - 250 g  jars</td><td>19.0</td><td>112</td><td>0</td><td>20</td><td>false</td></tr><tr><td>39</td><td>Chartreuse verte</td><td>18</td><td>1</td><td>750 cc per bottle</td><td>18.0</td><td>69</td><td>0</td><td>5</td><td>false</td></tr><tr><td>40</td><td>Boston Crab Meat</td><td>19</td><td>8</td><td>24 - 4 oz tins</td><td>18.4</td><td>123</td><td>0</td><td>30</td><td>false</td></tr><tr><td>41</td><td>Jack's New England Clam Chowder</td><td>19</td><td>8</td><td>12 - 12 oz cans</td><td>9.65</td><td>85</td><td>0</td><td>10</td><td>false</td></tr><tr><td>44</td><td>Gula Malacca</td><td>20</td><td>2</td><td>20 - 2 kg bags</td><td>19.45</td><td>27</td><td>0</td><td>15</td><td>false</td></tr><tr><td>45</td><td>Rogede sild</td><td>21</td><td>8</td><td>1k pkg.</td><td>9.5</td><td>5</td><td>70</td><td>15</td><td>false</td></tr><tr><td>46</td><td>Spegesild</td><td>21</td><td>8</td><td>4 - 450 g glasses</td><td>12.0</td><td>95</td><td>0</td><td>0</td><td>false</td></tr><tr><td>47</td><td>Zaanse koeken</td><td>22</td><td>3</td><td>10 - 4 oz boxes</td><td>9.5</td><td>36</td><td>0</td><td>0</td><td>false</td></tr><tr><td>48</td><td>Chocolade</td><td>22</td><td>3</td><td>10 pkgs.</td><td>12.75</td><td>15</td><td>70</td><td>25</td><td>false</td></tr><tr><td>50</td><td>Valkoinen suklaa</td><td>23</td><td>3</td><td>12 - 100 g bars</td><td>16.25</td><td>65</td><td>0</td><td>30</td><td>false</td></tr><tr><td>52</td><td>Filo Mix</td><td>24</td><td>5</td><td>16 - 2 kg boxes</td><td>7.0</td><td>38</td><td>0</td><td>25</td><td>false</td></tr><tr><td>54</td><td>Tourtière</td><td>25</td><td>6</td><td>16 pies</td><td>7.45</td><td>21</td><td>0</td><td>10</td><td>false</td></tr><tr><td>57</td><td>Ravioli Angelo</td><td>26</td><td>5</td><td>24 - 250 g pkgs.</td><td>19.5</td><td>36</td><td>0</td><td>20</td><td>false</td></tr><tr><td>58</td><td>Escargots de Bourgogne</td><td>27</td><td>8</td><td>24 pieces</td><td>13.25</td><td>62</td><td>0</td><td>20</td><td>false</td></tr><tr><td>66</td><td>Louisiana Hot Spiced Okra</td><td>2</td><td>2</td><td>24 - 8 oz jars</td><td>17.0</td><td>4</td><td>100</td><td>20</td><td>false</td></tr><tr><td>67</td><td>Laughing Lumberjack Lager</td><td>16</td><td>1</td><td>24 - 12 oz bottles</td><td>14.0</td><td>52</td><td>0</td><td>10</td><td>false</td></tr><tr><td>68</td><td>Scottish Longbreads</td><td>8</td><td>3</td><td>10 boxes x 8 pieces</td><td>12.5</td><td>6</td><td>10</td><td>15</td><td>false</td></tr><tr><td>70</td><td>Outback Lager</td><td>7</td><td>1</td><td>24 - 355 ml bottles</td><td>15.0</td><td>15</td><td>10</td><td>30</td><td>false</td></tr><tr><td>73</td><td>Röd Kaviar</td><td>17</td><td>8</td><td>24 - 150 g jars</td><td>15.0</td><td>101</td><td>0</td><td>5</td><td>false</td></tr><tr><td>74</td><td>Longlife Tofu</td><td>4</td><td>7</td><td>5 kg pkg.</td><td>10.0</td><td>4</td><td>20</td><td>5</td><td>false</td></tr><tr><td>75</td><td>Rhönbräu Klosterbier</td><td>12</td><td>1</td><td>24 - 0.5 l bottles</td><td>7.75</td><td>125</td><td>0</td><td>25</td><td>false</td></tr><tr><td>76</td><td>Lakkalikööri</td><td>23</td><td>1</td><td>500 ml</td><td>18.0</td><td>57</td><td>0</td><td>20</td><td>false</td></tr><tr><td>77</td><td>Original Frankfurter grüne Soße</td><td>12</td><td>2</td><td>12 boxes</td><td>13.0</td><td>32</td><td>0</td><td>15</td><td>false</td></tr></tbody></table></div>"
      ]
     },
     "metadata": {
      "application/vnd.databricks.v1+output": {
       "addedWidgets": {},
       "aggData": [],
       "aggError": "",
       "aggOverflow": false,
       "aggSchema": [],
       "aggSeriesLimitReached": false,
       "aggType": "",
       "arguments": {},
       "columnCustomDisplayInfos": {},
       "data": [
        [
         1,
         "Chai",
         1,
         1,
         "10 boxes x 20 bags",
         18.0,
         39,
         0,
         10,
         false
        ],
        [
         2,
         "Chang",
         1,
         1,
         "24 - 12 oz bottles",
         19.0,
         17,
         40,
         25,
         false
        ],
        [
         3,
         "Aniseed Syrup",
         1,
         2,
         "12 - 550 ml bottles",
         10.0,
         13,
         70,
         25,
         false
        ],
        [
         13,
         "Konbu",
         6,
         8,
         "2 kg box",
         6.0,
         24,
         0,
         5,
         false
        ],
        [
         15,
         "Genen Shouyu",
         6,
         2,
         "24 - 250 ml bottles",
         15.5,
         39,
         0,
         5,
         false
        ],
        [
         16,
         "Pavlova",
         7,
         3,
         "32 - 500 g boxes",
         17.45,
         29,
         0,
         10,
         false
        ],
        [
         19,
         "Teatime Chocolate Biscuits",
         8,
         3,
         "10 boxes x 12 pieces",
         9.2,
         25,
         0,
         5,
         false
        ],
        [
         21,
         "Sir Rodney's Scones",
         8,
         3,
         "24 pkgs. x 4 pieces",
         10.0,
         3,
         40,
         5,
         false
        ],
        [
         23,
         "Tunnbröd",
         9,
         5,
         "12 - 250 g pkgs.",
         9.0,
         61,
         0,
         25,
         false
        ],
        [
         25,
         "NuNuCa Nuß-Nougat-Creme",
         11,
         3,
         "20 - 450 g glasses",
         14.0,
         76,
         0,
         30,
         false
        ],
        [
         31,
         "Gorgonzola Telino",
         14,
         4,
         "12 - 100 g pkgs",
         12.5,
         0,
         70,
         20,
         false
        ],
        [
         33,
         "Geitost",
         15,
         4,
         "500 g",
         2.5,
         112,
         0,
         20,
         false
        ],
        [
         34,
         "Sasquatch Ale",
         16,
         1,
         "24 - 12 oz bottles",
         14.0,
         111,
         0,
         15,
         false
        ],
        [
         35,
         "Steeleye Stout",
         16,
         1,
         "24 - 12 oz bottles",
         18.0,
         20,
         0,
         15,
         false
        ],
        [
         36,
         "Inlagd Sill",
         17,
         8,
         "24 - 250 g  jars",
         19.0,
         112,
         0,
         20,
         false
        ],
        [
         39,
         "Chartreuse verte",
         18,
         1,
         "750 cc per bottle",
         18.0,
         69,
         0,
         5,
         false
        ],
        [
         40,
         "Boston Crab Meat",
         19,
         8,
         "24 - 4 oz tins",
         18.4,
         123,
         0,
         30,
         false
        ],
        [
         41,
         "Jack's New England Clam Chowder",
         19,
         8,
         "12 - 12 oz cans",
         9.65,
         85,
         0,
         10,
         false
        ],
        [
         44,
         "Gula Malacca",
         20,
         2,
         "20 - 2 kg bags",
         19.45,
         27,
         0,
         15,
         false
        ],
        [
         45,
         "Rogede sild",
         21,
         8,
         "1k pkg.",
         9.5,
         5,
         70,
         15,
         false
        ],
        [
         46,
         "Spegesild",
         21,
         8,
         "4 - 450 g glasses",
         12.0,
         95,
         0,
         0,
         false
        ],
        [
         47,
         "Zaanse koeken",
         22,
         3,
         "10 - 4 oz boxes",
         9.5,
         36,
         0,
         0,
         false
        ],
        [
         48,
         "Chocolade",
         22,
         3,
         "10 pkgs.",
         12.75,
         15,
         70,
         25,
         false
        ],
        [
         50,
         "Valkoinen suklaa",
         23,
         3,
         "12 - 100 g bars",
         16.25,
         65,
         0,
         30,
         false
        ],
        [
         52,
         "Filo Mix",
         24,
         5,
         "16 - 2 kg boxes",
         7.0,
         38,
         0,
         25,
         false
        ],
        [
         54,
         "Tourtière",
         25,
         6,
         "16 pies",
         7.45,
         21,
         0,
         10,
         false
        ],
        [
         57,
         "Ravioli Angelo",
         26,
         5,
         "24 - 250 g pkgs.",
         19.5,
         36,
         0,
         20,
         false
        ],
        [
         58,
         "Escargots de Bourgogne",
         27,
         8,
         "24 pieces",
         13.25,
         62,
         0,
         20,
         false
        ],
        [
         66,
         "Louisiana Hot Spiced Okra",
         2,
         2,
         "24 - 8 oz jars",
         17.0,
         4,
         100,
         20,
         false
        ],
        [
         67,
         "Laughing Lumberjack Lager",
         16,
         1,
         "24 - 12 oz bottles",
         14.0,
         52,
         0,
         10,
         false
        ],
        [
         68,
         "Scottish Longbreads",
         8,
         3,
         "10 boxes x 8 pieces",
         12.5,
         6,
         10,
         15,
         false
        ],
        [
         70,
         "Outback Lager",
         7,
         1,
         "24 - 355 ml bottles",
         15.0,
         15,
         10,
         30,
         false
        ],
        [
         73,
         "Röd Kaviar",
         17,
         8,
         "24 - 150 g jars",
         15.0,
         101,
         0,
         5,
         false
        ],
        [
         74,
         "Longlife Tofu",
         4,
         7,
         "5 kg pkg.",
         10.0,
         4,
         20,
         5,
         false
        ],
        [
         75,
         "Rhönbräu Klosterbier",
         12,
         1,
         "24 - 0.5 l bottles",
         7.75,
         125,
         0,
         25,
         false
        ],
        [
         76,
         "Lakkalikööri",
         23,
         1,
         "500 ml",
         18.0,
         57,
         0,
         20,
         false
        ],
        [
         77,
         "Original Frankfurter grüne Soße",
         12,
         2,
         "12 boxes",
         13.0,
         32,
         0,
         15,
         false
        ]
       ],
       "datasetInfos": [],
       "dbfsResultPath": null,
       "isJsonSchema": true,
       "metadata": {},
       "overflow": false,
       "plotOptions": {
        "customPlotOptions": {},
        "displayType": "table",
        "pivotAggregation": null,
        "pivotColumns": null,
        "xColumns": null,
        "yColumns": null
       },
       "removedWidgets": [],
       "schema": [
        {
         "metadata": "{}",
         "name": "ProductID",
         "type": "\"integer\""
        },
        {
         "metadata": "{}",
         "name": "ProductName",
         "type": "\"string\""
        },
        {
         "metadata": "{}",
         "name": "SupplierID",
         "type": "\"integer\""
        },
        {
         "metadata": "{}",
         "name": "CategoryID",
         "type": "\"integer\""
        },
        {
         "metadata": "{}",
         "name": "QuantityPerUnit",
         "type": "\"string\""
        },
        {
         "metadata": "{}",
         "name": "UnitPrice",
         "type": "\"double\""
        },
        {
         "metadata": "{}",
         "name": "UnitsInStock",
         "type": "\"integer\""
        },
        {
         "metadata": "{}",
         "name": "UnitsOnOrder",
         "type": "\"integer\""
        },
        {
         "metadata": "{}",
         "name": "ReorderLevel",
         "type": "\"integer\""
        },
        {
         "metadata": "{}",
         "name": "Discontinued",
         "type": "\"boolean\""
        }
       ],
       "type": "table"
      }
     },
     "output_type": "display_data"
    }
   ],
   "source": [
    "products.filter((col('UnitPrice') < 20) & (col('Discontinued') == 'false')).display()"
   ]
  },
  {
   "cell_type": "markdown",
   "metadata": {
    "application/vnd.databricks.v1+cell": {
     "cellMetadata": {
      "byteLimit": 2048000,
      "rowLimit": 10000
     },
     "inputWidgets": {},
     "nuid": "7d4ec8bb-dc06-4db6-ad97-8c9b0e70a182",
     "showTitle": false,
     "title": ""
    }
   },
   "source": [
    "### 2. Which product is most expensive?"
   ]
  },
  {
   "cell_type": "markdown",
   "metadata": {
    "application/vnd.databricks.v1+cell": {
     "cellMetadata": {
      "byteLimit": 2048000,
      "rowLimit": 10000
     },
     "inputWidgets": {},
     "nuid": "340cddc3-f1e1-4ed9-a995-01f66e3f09ac",
     "showTitle": false,
     "title": ""
    }
   },
   "source": [
    "#### Method 1"
   ]
  },
  {
   "cell_type": "code",
   "execution_count": 0,
   "metadata": {
    "application/vnd.databricks.v1+cell": {
     "cellMetadata": {
      "byteLimit": 2048000,
      "rowLimit": 10000
     },
     "inputWidgets": {},
     "nuid": "e2502de1-494f-4030-a536-003db230572e",
     "showTitle": false,
     "title": ""
    }
   },
   "outputs": [
    {
     "output_type": "execute_result",
     "data": {
      "text/plain": [
       "Row(ProductName='Côte de Blaye')"
      ]
     },
     "execution_count": 9,
     "metadata": {},
     "output_type": "execute_result"
    }
   ],
   "source": [
    "# 1. Sort the Unit Price by descending order and take the first record using first() method\n",
    "products.sort(desc('UnitPrice')).select('ProductName').first()"
   ]
  },
  {
   "cell_type": "markdown",
   "metadata": {
    "application/vnd.databricks.v1+cell": {
     "cellMetadata": {
      "byteLimit": 2048000,
      "rowLimit": 10000
     },
     "inputWidgets": {},
     "nuid": "93a0aaea-34ce-42c6-9ef8-81527a4e05df",
     "showTitle": false,
     "title": ""
    }
   },
   "source": [
    "#### Method 2"
   ]
  },
  {
   "cell_type": "code",
   "execution_count": 0,
   "metadata": {
    "application/vnd.databricks.v1+cell": {
     "cellMetadata": {
      "byteLimit": 2048000,
      "rowLimit": 10000
     },
     "inputWidgets": {},
     "nuid": "40896d99-71f7-4575-92a0-9f7825baa170",
     "showTitle": false,
     "title": ""
    }
   },
   "outputs": [
    {
     "output_type": "display_data",
     "data": {
      "text/html": [
       "<style scoped>\n",
       "  .table-result-container {\n",
       "    max-height: 300px;\n",
       "    overflow: auto;\n",
       "  }\n",
       "  table, th, td {\n",
       "    border: 1px solid black;\n",
       "    border-collapse: collapse;\n",
       "  }\n",
       "  th, td {\n",
       "    padding: 5px;\n",
       "  }\n",
       "  th {\n",
       "    text-align: left;\n",
       "  }\n",
       "</style><div class='table-result-container'><table class='table-result'><thead style='background-color: white'><tr><th>ProductName</th></tr></thead><tbody><tr><td>Côte de Blaye</td></tr></tbody></table></div>"
      ]
     },
     "metadata": {
      "application/vnd.databricks.v1+output": {
       "addedWidgets": {},
       "aggData": [],
       "aggError": "",
       "aggOverflow": false,
       "aggSchema": [],
       "aggSeriesLimitReached": false,
       "aggType": "",
       "arguments": {},
       "columnCustomDisplayInfos": {},
       "data": [
        [
         "Côte de Blaye"
        ]
       ],
       "datasetInfos": [],
       "dbfsResultPath": null,
       "isJsonSchema": true,
       "metadata": {},
       "overflow": false,
       "plotOptions": {
        "customPlotOptions": {},
        "displayType": "table",
        "pivotAggregation": null,
        "pivotColumns": null,
        "xColumns": null,
        "yColumns": null
       },
       "removedWidgets": [],
       "schema": [
        {
         "metadata": "{}",
         "name": "ProductName",
         "type": "\"string\""
        }
       ],
       "type": "table"
      }
     },
     "output_type": "display_data"
    }
   ],
   "source": [
    "# 1. Sort the Unit Price by descending order and limit the result to 1st row and display it.\n",
    "products.sort(desc('UnitPrice')).limit(1).select('ProductName').display()"
   ]
  },
  {
   "cell_type": "markdown",
   "metadata": {
    "application/vnd.databricks.v1+cell": {
     "cellMetadata": {
      "byteLimit": 2048000,
      "rowLimit": 10000
     },
     "inputWidgets": {},
     "nuid": "b5b7b4f2-68d3-4e78-9f84-83ac0f2d74fe",
     "showTitle": false,
     "title": ""
    }
   },
   "source": [
    "### 3. What is average unit price for our products"
   ]
  },
  {
   "cell_type": "code",
   "execution_count": 0,
   "metadata": {
    "application/vnd.databricks.v1+cell": {
     "cellMetadata": {
      "byteLimit": 2048000,
      "rowLimit": 10000
     },
     "inputWidgets": {},
     "nuid": "7d845999-40b1-4e2b-8e31-fc4653341c66",
     "showTitle": false,
     "title": ""
    }
   },
   "outputs": [
    {
     "output_type": "display_data",
     "data": {
      "text/html": [
       "<style scoped>\n",
       "  .table-result-container {\n",
       "    max-height: 300px;\n",
       "    overflow: auto;\n",
       "  }\n",
       "  table, th, td {\n",
       "    border: 1px solid black;\n",
       "    border-collapse: collapse;\n",
       "  }\n",
       "  th, td {\n",
       "    padding: 5px;\n",
       "  }\n",
       "  th {\n",
       "    text-align: left;\n",
       "  }\n",
       "</style><div class='table-result-container'><table class='table-result'><thead style='background-color: white'><tr><th>AvgPrice</th></tr></thead><tbody><tr><td>28.87</td></tr></tbody></table></div>"
      ]
     },
     "metadata": {
      "application/vnd.databricks.v1+output": {
       "addedWidgets": {},
       "aggData": [],
       "aggError": "",
       "aggOverflow": false,
       "aggSchema": [],
       "aggSeriesLimitReached": false,
       "aggType": "",
       "arguments": {},
       "columnCustomDisplayInfos": {},
       "data": [
        [
         28.87
        ]
       ],
       "datasetInfos": [],
       "dbfsResultPath": null,
       "isJsonSchema": true,
       "metadata": {},
       "overflow": false,
       "plotOptions": {
        "customPlotOptions": {},
        "displayType": "table",
        "pivotAggregation": null,
        "pivotColumns": null,
        "xColumns": null,
        "yColumns": null
       },
       "removedWidgets": [],
       "schema": [
        {
         "metadata": "{}",
         "name": "AvgPrice",
         "type": "\"double\""
        }
       ],
       "type": "table"
      }
     },
     "output_type": "display_data"
    }
   ],
   "source": [
    "# 1. Simply take the average of Unit price column\n",
    "products.agg(round(avg('UnitPrice'),2).alias('AvgPrice')).display()"
   ]
  },
  {
   "cell_type": "markdown",
   "metadata": {
    "application/vnd.databricks.v1+cell": {
     "cellMetadata": {
      "byteLimit": 2048000,
      "rowLimit": 10000
     },
     "inputWidgets": {},
     "nuid": "9335ea6e-46a0-4459-b510-2e6ecf5bc437",
     "showTitle": false,
     "title": ""
    }
   },
   "source": [
    "### 4. How many products are above the average unit price?"
   ]
  },
  {
   "cell_type": "code",
   "execution_count": 0,
   "metadata": {
    "application/vnd.databricks.v1+cell": {
     "cellMetadata": {
      "byteLimit": 2048000,
      "rowLimit": 10000
     },
     "inputWidgets": {},
     "nuid": "05b9bdd5-ae8d-42bc-9c54-7e76433ae448",
     "showTitle": false,
     "title": ""
    }
   },
   "outputs": [
    {
     "output_type": "display_data",
     "data": {
      "text/html": [
       "<style scoped>\n",
       "  .table-result-container {\n",
       "    max-height: 300px;\n",
       "    overflow: auto;\n",
       "  }\n",
       "  table, th, td {\n",
       "    border: 1px solid black;\n",
       "    border-collapse: collapse;\n",
       "  }\n",
       "  th, td {\n",
       "    padding: 5px;\n",
       "  }\n",
       "  th {\n",
       "    text-align: left;\n",
       "  }\n",
       "</style><div class='table-result-container'><table class='table-result'><thead style='background-color: white'><tr><th>ProductID</th><th>ProductName</th><th>SupplierID</th><th>CategoryID</th><th>QuantityPerUnit</th><th>UnitPrice</th><th>UnitsInStock</th><th>UnitsOnOrder</th><th>ReorderLevel</th><th>Discontinued</th></tr></thead><tbody><tr><td>7</td><td>Uncle Bob's Organic Dried Pears</td><td>3</td><td>7</td><td>12 - 1 lb pkgs.</td><td>30.0</td><td>15</td><td>0</td><td>10</td><td>false</td></tr><tr><td>8</td><td>Northwoods Cranberry Sauce</td><td>3</td><td>2</td><td>12 - 12 oz jars</td><td>40.0</td><td>6</td><td>0</td><td>0</td><td>false</td></tr><tr><td>9</td><td>Mishi Kobe Niku</td><td>4</td><td>6</td><td>18 - 500 g pkgs.</td><td>97.0</td><td>29</td><td>0</td><td>0</td><td>true</td></tr><tr><td>10</td><td>Ikura</td><td>4</td><td>8</td><td>12 - 200 ml jars</td><td>31.0</td><td>31</td><td>0</td><td>0</td><td>false</td></tr><tr><td>12</td><td>Queso Manchego La Pastora</td><td>5</td><td>4</td><td>10 - 500 g pkgs.</td><td>38.0</td><td>86</td><td>0</td><td>0</td><td>false</td></tr><tr><td>17</td><td>Alice Mutton</td><td>7</td><td>6</td><td>20 - 1 kg tins</td><td>39.0</td><td>0</td><td>0</td><td>0</td><td>true</td></tr><tr><td>18</td><td>Carnarvon Tigers</td><td>7</td><td>8</td><td>16 kg pkg.</td><td>62.5</td><td>42</td><td>0</td><td>0</td><td>false</td></tr><tr><td>20</td><td>Sir Rodney's Marmalade</td><td>8</td><td>3</td><td>30 gift boxes</td><td>81.0</td><td>40</td><td>0</td><td>0</td><td>false</td></tr><tr><td>26</td><td>Gumbär Gummibärchen</td><td>11</td><td>3</td><td>100 - 250 g bags</td><td>31.23</td><td>15</td><td>0</td><td>0</td><td>false</td></tr><tr><td>27</td><td>Schoggi Schokolade</td><td>11</td><td>3</td><td>100 - 100 g pieces</td><td>43.9</td><td>49</td><td>0</td><td>30</td><td>false</td></tr><tr><td>28</td><td>Rössle Sauerkraut</td><td>12</td><td>7</td><td>25 - 825 g cans</td><td>45.6</td><td>26</td><td>0</td><td>0</td><td>true</td></tr><tr><td>29</td><td>Thüringer Rostbratwurst</td><td>12</td><td>6</td><td>50 bags x 30 sausgs.</td><td>123.79</td><td>0</td><td>0</td><td>0</td><td>true</td></tr><tr><td>32</td><td>Mascarpone Fabioli</td><td>14</td><td>4</td><td>24 - 200 g pkgs.</td><td>32.0</td><td>9</td><td>40</td><td>25</td><td>false</td></tr><tr><td>38</td><td>Côte de Blaye</td><td>18</td><td>1</td><td>12 - 75 cl bottles</td><td>263.5</td><td>17</td><td>0</td><td>15</td><td>false</td></tr><tr><td>43</td><td>Ipoh Coffee</td><td>20</td><td>1</td><td>16 - 500 g tins</td><td>46.0</td><td>17</td><td>10</td><td>25</td><td>false</td></tr><tr><td>51</td><td>Manjimup Dried Apples</td><td>24</td><td>7</td><td>50 - 300 g pkgs.</td><td>53.0</td><td>20</td><td>0</td><td>10</td><td>false</td></tr><tr><td>53</td><td>Perth Pasties</td><td>24</td><td>6</td><td>48 pieces</td><td>32.8</td><td>0</td><td>0</td><td>0</td><td>true</td></tr><tr><td>56</td><td>Gnocchi di nonna Alice</td><td>26</td><td>5</td><td>24 - 250 g pkgs.</td><td>38.0</td><td>21</td><td>10</td><td>30</td><td>false</td></tr><tr><td>59</td><td>Raclette Courdavault</td><td>28</td><td>4</td><td>5 kg pkg.</td><td>55.0</td><td>79</td><td>0</td><td>0</td><td>false</td></tr><tr><td>60</td><td>Camembert Pierrot</td><td>28</td><td>4</td><td>15 - 300 g rounds</td><td>34.0</td><td>19</td><td>0</td><td>0</td><td>false</td></tr><tr><td>62</td><td>Tarte au sucre</td><td>29</td><td>3</td><td>48 pies</td><td>49.3</td><td>17</td><td>0</td><td>0</td><td>false</td></tr><tr><td>63</td><td>Vegie-spread</td><td>7</td><td>2</td><td>15 - 625 g jars</td><td>43.9</td><td>24</td><td>0</td><td>5</td><td>false</td></tr><tr><td>64</td><td>Wimmers gute Semmelknödel</td><td>12</td><td>5</td><td>20 bags x 4 pieces</td><td>33.25</td><td>22</td><td>80</td><td>30</td><td>false</td></tr><tr><td>69</td><td>Gudbrandsdalsost</td><td>15</td><td>4</td><td>10 kg pkg.</td><td>36.0</td><td>26</td><td>0</td><td>15</td><td>false</td></tr><tr><td>72</td><td>Mozzarella di Giovanni</td><td>14</td><td>4</td><td>24 - 200 g pkgs.</td><td>34.8</td><td>14</td><td>0</td><td>0</td><td>false</td></tr></tbody></table></div>"
      ]
     },
     "metadata": {
      "application/vnd.databricks.v1+output": {
       "addedWidgets": {},
       "aggData": [],
       "aggError": "",
       "aggOverflow": false,
       "aggSchema": [],
       "aggSeriesLimitReached": false,
       "aggType": "",
       "arguments": {},
       "columnCustomDisplayInfos": {},
       "data": [
        [
         7,
         "Uncle Bob's Organic Dried Pears",
         3,
         7,
         "12 - 1 lb pkgs.",
         30.0,
         15,
         0,
         10,
         false
        ],
        [
         8,
         "Northwoods Cranberry Sauce",
         3,
         2,
         "12 - 12 oz jars",
         40.0,
         6,
         0,
         0,
         false
        ],
        [
         9,
         "Mishi Kobe Niku",
         4,
         6,
         "18 - 500 g pkgs.",
         97.0,
         29,
         0,
         0,
         true
        ],
        [
         10,
         "Ikura",
         4,
         8,
         "12 - 200 ml jars",
         31.0,
         31,
         0,
         0,
         false
        ],
        [
         12,
         "Queso Manchego La Pastora",
         5,
         4,
         "10 - 500 g pkgs.",
         38.0,
         86,
         0,
         0,
         false
        ],
        [
         17,
         "Alice Mutton",
         7,
         6,
         "20 - 1 kg tins",
         39.0,
         0,
         0,
         0,
         true
        ],
        [
         18,
         "Carnarvon Tigers",
         7,
         8,
         "16 kg pkg.",
         62.5,
         42,
         0,
         0,
         false
        ],
        [
         20,
         "Sir Rodney's Marmalade",
         8,
         3,
         "30 gift boxes",
         81.0,
         40,
         0,
         0,
         false
        ],
        [
         26,
         "Gumbär Gummibärchen",
         11,
         3,
         "100 - 250 g bags",
         31.23,
         15,
         0,
         0,
         false
        ],
        [
         27,
         "Schoggi Schokolade",
         11,
         3,
         "100 - 100 g pieces",
         43.9,
         49,
         0,
         30,
         false
        ],
        [
         28,
         "Rössle Sauerkraut",
         12,
         7,
         "25 - 825 g cans",
         45.6,
         26,
         0,
         0,
         true
        ],
        [
         29,
         "Thüringer Rostbratwurst",
         12,
         6,
         "50 bags x 30 sausgs.",
         123.79,
         0,
         0,
         0,
         true
        ],
        [
         32,
         "Mascarpone Fabioli",
         14,
         4,
         "24 - 200 g pkgs.",
         32.0,
         9,
         40,
         25,
         false
        ],
        [
         38,
         "Côte de Blaye",
         18,
         1,
         "12 - 75 cl bottles",
         263.5,
         17,
         0,
         15,
         false
        ],
        [
         43,
         "Ipoh Coffee",
         20,
         1,
         "16 - 500 g tins",
         46.0,
         17,
         10,
         25,
         false
        ],
        [
         51,
         "Manjimup Dried Apples",
         24,
         7,
         "50 - 300 g pkgs.",
         53.0,
         20,
         0,
         10,
         false
        ],
        [
         53,
         "Perth Pasties",
         24,
         6,
         "48 pieces",
         32.8,
         0,
         0,
         0,
         true
        ],
        [
         56,
         "Gnocchi di nonna Alice",
         26,
         5,
         "24 - 250 g pkgs.",
         38.0,
         21,
         10,
         30,
         false
        ],
        [
         59,
         "Raclette Courdavault",
         28,
         4,
         "5 kg pkg.",
         55.0,
         79,
         0,
         0,
         false
        ],
        [
         60,
         "Camembert Pierrot",
         28,
         4,
         "15 - 300 g rounds",
         34.0,
         19,
         0,
         0,
         false
        ],
        [
         62,
         "Tarte au sucre",
         29,
         3,
         "48 pies",
         49.3,
         17,
         0,
         0,
         false
        ],
        [
         63,
         "Vegie-spread",
         7,
         2,
         "15 - 625 g jars",
         43.9,
         24,
         0,
         5,
         false
        ],
        [
         64,
         "Wimmers gute Semmelknödel",
         12,
         5,
         "20 bags x 4 pieces",
         33.25,
         22,
         80,
         30,
         false
        ],
        [
         69,
         "Gudbrandsdalsost",
         15,
         4,
         "10 kg pkg.",
         36.0,
         26,
         0,
         15,
         false
        ],
        [
         72,
         "Mozzarella di Giovanni",
         14,
         4,
         "24 - 200 g pkgs.",
         34.8,
         14,
         0,
         0,
         false
        ]
       ],
       "datasetInfos": [],
       "dbfsResultPath": null,
       "isJsonSchema": true,
       "metadata": {},
       "overflow": false,
       "plotOptions": {
        "customPlotOptions": {},
        "displayType": "table",
        "pivotAggregation": null,
        "pivotColumns": null,
        "xColumns": null,
        "yColumns": null
       },
       "removedWidgets": [],
       "schema": [
        {
         "metadata": "{}",
         "name": "ProductID",
         "type": "\"integer\""
        },
        {
         "metadata": "{}",
         "name": "ProductName",
         "type": "\"string\""
        },
        {
         "metadata": "{}",
         "name": "SupplierID",
         "type": "\"integer\""
        },
        {
         "metadata": "{}",
         "name": "CategoryID",
         "type": "\"integer\""
        },
        {
         "metadata": "{}",
         "name": "QuantityPerUnit",
         "type": "\"string\""
        },
        {
         "metadata": "{}",
         "name": "UnitPrice",
         "type": "\"double\""
        },
        {
         "metadata": "{}",
         "name": "UnitsInStock",
         "type": "\"integer\""
        },
        {
         "metadata": "{}",
         "name": "UnitsOnOrder",
         "type": "\"integer\""
        },
        {
         "metadata": "{}",
         "name": "ReorderLevel",
         "type": "\"integer\""
        },
        {
         "metadata": "{}",
         "name": "Discontinued",
         "type": "\"boolean\""
        }
       ],
       "type": "table"
      }
     },
     "output_type": "display_data"
    }
   ],
   "source": [
    "# 1. save the avg unit price from the previous query in a variable\n",
    "# 2. Use the variable result to filter.\n",
    "avg_unit_price = products.agg(round(avg('UnitPrice'),2).alias('AvgPrice')).collect()[0]['AvgPrice']\n",
    "\n",
    "products.filter(col('UnitPrice')>avg_unit_price).display()"
   ]
  },
  {
   "cell_type": "code",
   "execution_count": 0,
   "metadata": {
    "application/vnd.databricks.v1+cell": {
     "cellMetadata": {
      "byteLimit": 2048000,
      "rowLimit": 10000
     },
     "inputWidgets": {},
     "nuid": "a840ad6e-f268-469e-a739-a518dca5da58",
     "showTitle": false,
     "title": ""
    }
   },
   "outputs": [
    {
     "output_type": "execute_result",
     "data": {
      "text/plain": [
       "25"
      ]
     },
     "execution_count": 13,
     "metadata": {},
     "output_type": "execute_result"
    }
   ],
   "source": [
    "products.filter(col('UnitPrice')>avg_unit_price).count()"
   ]
  },
  {
   "cell_type": "markdown",
   "metadata": {
    "application/vnd.databricks.v1+cell": {
     "cellMetadata": {
      "byteLimit": 2048000,
      "rowLimit": 10000
     },
     "inputWidgets": {},
     "nuid": "4013ea2f-2adc-4049-9a87-4e7db868ad06",
     "showTitle": false,
     "title": ""
    }
   },
   "source": [
    "### 5. How many products cost between $15 and $25 (inclusive)?"
   ]
  },
  {
   "cell_type": "code",
   "execution_count": 0,
   "metadata": {
    "application/vnd.databricks.v1+cell": {
     "cellMetadata": {
      "byteLimit": 2048000,
      "rowLimit": 10000
     },
     "inputWidgets": {},
     "nuid": "0a84d870-f0bd-4021-9ce4-b73b81704c7e",
     "showTitle": false,
     "title": ""
    }
   },
   "outputs": [
    {
     "output_type": "display_data",
     "data": {
      "text/html": [
       "<style scoped>\n",
       "  .table-result-container {\n",
       "    max-height: 300px;\n",
       "    overflow: auto;\n",
       "  }\n",
       "  table, th, td {\n",
       "    border: 1px solid black;\n",
       "    border-collapse: collapse;\n",
       "  }\n",
       "  th, td {\n",
       "    padding: 5px;\n",
       "  }\n",
       "  th {\n",
       "    text-align: left;\n",
       "  }\n",
       "</style><div class='table-result-container'><table class='table-result'><thead style='background-color: white'><tr><th>ProductID</th><th>ProductName</th><th>SupplierID</th><th>CategoryID</th><th>QuantityPerUnit</th><th>UnitPrice</th><th>UnitsInStock</th><th>UnitsOnOrder</th><th>ReorderLevel</th><th>Discontinued</th></tr></thead><tbody><tr><td>1</td><td>Chai</td><td>1</td><td>1</td><td>10 boxes x 20 bags</td><td>18.0</td><td>39</td><td>0</td><td>10</td><td>false</td></tr><tr><td>2</td><td>Chang</td><td>1</td><td>1</td><td>24 - 12 oz bottles</td><td>19.0</td><td>17</td><td>40</td><td>25</td><td>false</td></tr><tr><td>4</td><td>Chef Anton's Cajun Seasoning</td><td>2</td><td>2</td><td>48 - 6 oz jars</td><td>22.0</td><td>53</td><td>0</td><td>0</td><td>false</td></tr><tr><td>5</td><td>Chef Anton's Gumbo Mix</td><td>2</td><td>2</td><td>36 boxes</td><td>21.35</td><td>0</td><td>0</td><td>0</td><td>true</td></tr><tr><td>6</td><td>Grandma's Boysenberry Spread</td><td>3</td><td>2</td><td>12 - 8 oz jars</td><td>25.0</td><td>120</td><td>0</td><td>25</td><td>false</td></tr><tr><td>11</td><td>Queso Cabrales</td><td>5</td><td>4</td><td>1 kg pkg.</td><td>21.0</td><td>22</td><td>30</td><td>30</td><td>false</td></tr><tr><td>14</td><td>Tofu</td><td>6</td><td>7</td><td>40 - 100 g pkgs.</td><td>23.25</td><td>35</td><td>0</td><td>0</td><td>false</td></tr><tr><td>15</td><td>Genen Shouyu</td><td>6</td><td>2</td><td>24 - 250 ml bottles</td><td>15.5</td><td>39</td><td>0</td><td>5</td><td>false</td></tr><tr><td>16</td><td>Pavlova</td><td>7</td><td>3</td><td>32 - 500 g boxes</td><td>17.45</td><td>29</td><td>0</td><td>10</td><td>false</td></tr><tr><td>22</td><td>Gustaf's Knäckebröd</td><td>9</td><td>5</td><td>24 - 500 g pkgs.</td><td>21.0</td><td>104</td><td>0</td><td>25</td><td>false</td></tr><tr><td>35</td><td>Steeleye Stout</td><td>16</td><td>1</td><td>24 - 12 oz bottles</td><td>18.0</td><td>20</td><td>0</td><td>15</td><td>false</td></tr><tr><td>36</td><td>Inlagd Sill</td><td>17</td><td>8</td><td>24 - 250 g  jars</td><td>19.0</td><td>112</td><td>0</td><td>20</td><td>false</td></tr><tr><td>39</td><td>Chartreuse verte</td><td>18</td><td>1</td><td>750 cc per bottle</td><td>18.0</td><td>69</td><td>0</td><td>5</td><td>false</td></tr><tr><td>40</td><td>Boston Crab Meat</td><td>19</td><td>8</td><td>24 - 4 oz tins</td><td>18.4</td><td>123</td><td>0</td><td>30</td><td>false</td></tr><tr><td>44</td><td>Gula Malacca</td><td>20</td><td>2</td><td>20 - 2 kg bags</td><td>19.45</td><td>27</td><td>0</td><td>15</td><td>false</td></tr><tr><td>49</td><td>Maxilaku</td><td>23</td><td>3</td><td>24 - 50 g pkgs.</td><td>20.0</td><td>10</td><td>60</td><td>15</td><td>false</td></tr><tr><td>50</td><td>Valkoinen suklaa</td><td>23</td><td>3</td><td>12 - 100 g bars</td><td>16.25</td><td>65</td><td>0</td><td>30</td><td>false</td></tr><tr><td>55</td><td>Pâté chinois</td><td>25</td><td>6</td><td>24 boxes x 2 pies</td><td>24.0</td><td>115</td><td>0</td><td>20</td><td>false</td></tr><tr><td>57</td><td>Ravioli Angelo</td><td>26</td><td>5</td><td>24 - 250 g pkgs.</td><td>19.5</td><td>36</td><td>0</td><td>20</td><td>false</td></tr><tr><td>65</td><td>Louisiana Fiery Hot Pepper Sauce</td><td>2</td><td>2</td><td>32 - 8 oz bottles</td><td>21.05</td><td>76</td><td>0</td><td>0</td><td>false</td></tr><tr><td>66</td><td>Louisiana Hot Spiced Okra</td><td>2</td><td>2</td><td>24 - 8 oz jars</td><td>17.0</td><td>4</td><td>100</td><td>20</td><td>false</td></tr><tr><td>70</td><td>Outback Lager</td><td>7</td><td>1</td><td>24 - 355 ml bottles</td><td>15.0</td><td>15</td><td>10</td><td>30</td><td>false</td></tr><tr><td>71</td><td>Flotemysost</td><td>15</td><td>4</td><td>10 - 500 g pkgs.</td><td>21.5</td><td>26</td><td>0</td><td>0</td><td>false</td></tr><tr><td>73</td><td>Röd Kaviar</td><td>17</td><td>8</td><td>24 - 150 g jars</td><td>15.0</td><td>101</td><td>0</td><td>5</td><td>false</td></tr><tr><td>76</td><td>Lakkalikööri</td><td>23</td><td>1</td><td>500 ml</td><td>18.0</td><td>57</td><td>0</td><td>20</td><td>false</td></tr></tbody></table></div>"
      ]
     },
     "metadata": {
      "application/vnd.databricks.v1+output": {
       "addedWidgets": {},
       "aggData": [],
       "aggError": "",
       "aggOverflow": false,
       "aggSchema": [],
       "aggSeriesLimitReached": false,
       "aggType": "",
       "arguments": {},
       "columnCustomDisplayInfos": {},
       "data": [
        [
         1,
         "Chai",
         1,
         1,
         "10 boxes x 20 bags",
         18.0,
         39,
         0,
         10,
         false
        ],
        [
         2,
         "Chang",
         1,
         1,
         "24 - 12 oz bottles",
         19.0,
         17,
         40,
         25,
         false
        ],
        [
         4,
         "Chef Anton's Cajun Seasoning",
         2,
         2,
         "48 - 6 oz jars",
         22.0,
         53,
         0,
         0,
         false
        ],
        [
         5,
         "Chef Anton's Gumbo Mix",
         2,
         2,
         "36 boxes",
         21.35,
         0,
         0,
         0,
         true
        ],
        [
         6,
         "Grandma's Boysenberry Spread",
         3,
         2,
         "12 - 8 oz jars",
         25.0,
         120,
         0,
         25,
         false
        ],
        [
         11,
         "Queso Cabrales",
         5,
         4,
         "1 kg pkg.",
         21.0,
         22,
         30,
         30,
         false
        ],
        [
         14,
         "Tofu",
         6,
         7,
         "40 - 100 g pkgs.",
         23.25,
         35,
         0,
         0,
         false
        ],
        [
         15,
         "Genen Shouyu",
         6,
         2,
         "24 - 250 ml bottles",
         15.5,
         39,
         0,
         5,
         false
        ],
        [
         16,
         "Pavlova",
         7,
         3,
         "32 - 500 g boxes",
         17.45,
         29,
         0,
         10,
         false
        ],
        [
         22,
         "Gustaf's Knäckebröd",
         9,
         5,
         "24 - 500 g pkgs.",
         21.0,
         104,
         0,
         25,
         false
        ],
        [
         35,
         "Steeleye Stout",
         16,
         1,
         "24 - 12 oz bottles",
         18.0,
         20,
         0,
         15,
         false
        ],
        [
         36,
         "Inlagd Sill",
         17,
         8,
         "24 - 250 g  jars",
         19.0,
         112,
         0,
         20,
         false
        ],
        [
         39,
         "Chartreuse verte",
         18,
         1,
         "750 cc per bottle",
         18.0,
         69,
         0,
         5,
         false
        ],
        [
         40,
         "Boston Crab Meat",
         19,
         8,
         "24 - 4 oz tins",
         18.4,
         123,
         0,
         30,
         false
        ],
        [
         44,
         "Gula Malacca",
         20,
         2,
         "20 - 2 kg bags",
         19.45,
         27,
         0,
         15,
         false
        ],
        [
         49,
         "Maxilaku",
         23,
         3,
         "24 - 50 g pkgs.",
         20.0,
         10,
         60,
         15,
         false
        ],
        [
         50,
         "Valkoinen suklaa",
         23,
         3,
         "12 - 100 g bars",
         16.25,
         65,
         0,
         30,
         false
        ],
        [
         55,
         "Pâté chinois",
         25,
         6,
         "24 boxes x 2 pies",
         24.0,
         115,
         0,
         20,
         false
        ],
        [
         57,
         "Ravioli Angelo",
         26,
         5,
         "24 - 250 g pkgs.",
         19.5,
         36,
         0,
         20,
         false
        ],
        [
         65,
         "Louisiana Fiery Hot Pepper Sauce",
         2,
         2,
         "32 - 8 oz bottles",
         21.05,
         76,
         0,
         0,
         false
        ],
        [
         66,
         "Louisiana Hot Spiced Okra",
         2,
         2,
         "24 - 8 oz jars",
         17.0,
         4,
         100,
         20,
         false
        ],
        [
         70,
         "Outback Lager",
         7,
         1,
         "24 - 355 ml bottles",
         15.0,
         15,
         10,
         30,
         false
        ],
        [
         71,
         "Flotemysost",
         15,
         4,
         "10 - 500 g pkgs.",
         21.5,
         26,
         0,
         0,
         false
        ],
        [
         73,
         "Röd Kaviar",
         17,
         8,
         "24 - 150 g jars",
         15.0,
         101,
         0,
         5,
         false
        ],
        [
         76,
         "Lakkalikööri",
         23,
         1,
         "500 ml",
         18.0,
         57,
         0,
         20,
         false
        ]
       ],
       "datasetInfos": [],
       "dbfsResultPath": null,
       "isJsonSchema": true,
       "metadata": {},
       "overflow": false,
       "plotOptions": {
        "customPlotOptions": {},
        "displayType": "table",
        "pivotAggregation": null,
        "pivotColumns": null,
        "xColumns": null,
        "yColumns": null
       },
       "removedWidgets": [],
       "schema": [
        {
         "metadata": "{}",
         "name": "ProductID",
         "type": "\"integer\""
        },
        {
         "metadata": "{}",
         "name": "ProductName",
         "type": "\"string\""
        },
        {
         "metadata": "{}",
         "name": "SupplierID",
         "type": "\"integer\""
        },
        {
         "metadata": "{}",
         "name": "CategoryID",
         "type": "\"integer\""
        },
        {
         "metadata": "{}",
         "name": "QuantityPerUnit",
         "type": "\"string\""
        },
        {
         "metadata": "{}",
         "name": "UnitPrice",
         "type": "\"double\""
        },
        {
         "metadata": "{}",
         "name": "UnitsInStock",
         "type": "\"integer\""
        },
        {
         "metadata": "{}",
         "name": "UnitsOnOrder",
         "type": "\"integer\""
        },
        {
         "metadata": "{}",
         "name": "ReorderLevel",
         "type": "\"integer\""
        },
        {
         "metadata": "{}",
         "name": "Discontinued",
         "type": "\"boolean\""
        }
       ],
       "type": "table"
      }
     },
     "output_type": "display_data"
    }
   ],
   "source": [
    "# 1. Use the filter condition on Unit Price to filter out the results\n",
    "products.filter((col(\"UnitPrice\") >=15) & (col('UnitPrice') <= 25)).display()"
   ]
  },
  {
   "cell_type": "code",
   "execution_count": 0,
   "metadata": {
    "application/vnd.databricks.v1+cell": {
     "cellMetadata": {
      "byteLimit": 2048000,
      "rowLimit": 10000
     },
     "inputWidgets": {},
     "nuid": "53ec9c6e-e86f-496f-8cac-7521ee179446",
     "showTitle": false,
     "title": ""
    }
   },
   "outputs": [
    {
     "output_type": "execute_result",
     "data": {
      "text/plain": [
       "25"
      ]
     },
     "execution_count": 15,
     "metadata": {},
     "output_type": "execute_result"
    }
   ],
   "source": [
    "products.filter((col(\"UnitPrice\") >=15) & (col('UnitPrice') <= 25)).count()"
   ]
  },
  {
   "cell_type": "markdown",
   "metadata": {
    "application/vnd.databricks.v1+cell": {
     "cellMetadata": {
      "byteLimit": 2048000,
      "rowLimit": 10000
     },
     "inputWidgets": {},
     "nuid": "330d2f88-ca77-442d-90ba-f407d9f55391",
     "showTitle": false,
     "title": ""
    }
   },
   "source": [
    "\n",
    "### 6. What is the average number of products (not qty) per order?"
   ]
  },
  {
   "cell_type": "code",
   "execution_count": 0,
   "metadata": {
    "application/vnd.databricks.v1+cell": {
     "cellMetadata": {
      "byteLimit": 2048000,
      "rowLimit": 10000
     },
     "inputWidgets": {},
     "nuid": "e81458fb-bc28-4f30-9533-5070b8025de7",
     "showTitle": false,
     "title": ""
    }
   },
   "outputs": [
    {
     "output_type": "display_data",
     "data": {
      "text/html": [
       "<style scoped>\n",
       "  .table-result-container {\n",
       "    max-height: 300px;\n",
       "    overflow: auto;\n",
       "  }\n",
       "  table, th, td {\n",
       "    border: 1px solid black;\n",
       "    border-collapse: collapse;\n",
       "  }\n",
       "  th, td {\n",
       "    padding: 5px;\n",
       "  }\n",
       "  th {\n",
       "    text-align: left;\n",
       "  }\n",
       "</style><div class='table-result-container'><table class='table-result'><thead style='background-color: white'><tr><th>AvgProductCountPerOrder</th></tr></thead><tbody><tr><td>2.6</td></tr></tbody></table></div>"
      ]
     },
     "metadata": {
      "application/vnd.databricks.v1+output": {
       "addedWidgets": {},
       "aggData": [],
       "aggError": "",
       "aggOverflow": false,
       "aggSchema": [],
       "aggSeriesLimitReached": false,
       "aggType": "",
       "arguments": {},
       "columnCustomDisplayInfos": {},
       "data": [
        [
         2.6
        ]
       ],
       "datasetInfos": [],
       "dbfsResultPath": null,
       "isJsonSchema": true,
       "metadata": {},
       "overflow": false,
       "plotOptions": {
        "customPlotOptions": {},
        "displayType": "table",
        "pivotAggregation": null,
        "pivotColumns": null,
        "xColumns": null,
        "yColumns": null
       },
       "removedWidgets": [],
       "schema": [
        {
         "metadata": "{}",
         "name": "AvgProductCountPerOrder",
         "type": "\"double\""
        }
       ],
       "type": "table"
      }
     },
     "output_type": "display_data"
    }
   ],
   "source": [
    "# 1. Select only the relevant columns (order_id, product_id)\n",
    "# 2. Perform group by on order_id and count the number of product_id's per order_id\n",
    "# 3. Sort the result by order_id in ascending order\n",
    "# 4. Take the resulted query and perform average of the product count and display the result\n",
    "orders.select('OrderID', 'ProductID')\\\n",
    "    .groupBy('OrderID').agg(count('ProductID').alias('ProductCount')).sort('OrderID')\\\n",
    "    .agg(round(avg('ProductCount'),2).alias('AvgProductCountPerOrder'))\\\n",
    "    .display()"
   ]
  },
  {
   "cell_type": "markdown",
   "metadata": {
    "application/vnd.databricks.v1+cell": {
     "cellMetadata": {
      "byteLimit": 2048000,
      "rowLimit": 10000
     },
     "inputWidgets": {},
     "nuid": "86ab96f3-040e-404e-ac4a-12ebcd6dd1d3",
     "showTitle": false,
     "title": ""
    }
   },
   "source": [
    "### 7. What is Order Value in $ of open orders? (Not Shipped Yet)"
   ]
  },
  {
   "cell_type": "code",
   "execution_count": 0,
   "metadata": {
    "application/vnd.databricks.v1+cell": {
     "cellMetadata": {
      "byteLimit": 2048000,
      "rowLimit": 10000
     },
     "inputWidgets": {},
     "nuid": "94ed968c-460f-46e4-ad64-3dccbaa9bfb1",
     "showTitle": false,
     "title": ""
    }
   },
   "outputs": [
    {
     "output_type": "display_data",
     "data": {
      "text/html": [
       "<style scoped>\n",
       "  .table-result-container {\n",
       "    max-height: 300px;\n",
       "    overflow: auto;\n",
       "  }\n",
       "  table, th, td {\n",
       "    border: 1px solid black;\n",
       "    border-collapse: collapse;\n",
       "  }\n",
       "  th, td {\n",
       "    padding: 5px;\n",
       "  }\n",
       "  th {\n",
       "    text-align: left;\n",
       "  }\n",
       "</style><div class='table-result-container'><table class='table-result'><thead style='background-color: white'><tr><th>TotalSaleOrder</th></tr></thead><tbody><tr><td>27443.76</td></tr></tbody></table></div>"
      ]
     },
     "metadata": {
      "application/vnd.databricks.v1+output": {
       "addedWidgets": {},
       "aggData": [],
       "aggError": "",
       "aggOverflow": false,
       "aggSchema": [],
       "aggSeriesLimitReached": false,
       "aggType": "",
       "arguments": {},
       "columnCustomDisplayInfos": {},
       "data": [
        [
         27443.76
        ]
       ],
       "datasetInfos": [],
       "dbfsResultPath": null,
       "isJsonSchema": true,
       "metadata": {},
       "overflow": false,
       "plotOptions": {
        "customPlotOptions": {},
        "displayType": "table",
        "pivotAggregation": null,
        "pivotColumns": null,
        "xColumns": null,
        "yColumns": null
       },
       "removedWidgets": [],
       "schema": [
        {
         "metadata": "{}",
         "name": "TotalSaleOrder",
         "type": "\"double\""
        }
       ],
       "type": "table"
      }
     },
     "output_type": "display_data"
    }
   ],
   "source": [
    "# 1. Filter the columns where shipped date is null.\n",
    "# 2. Add a new column \"Total Sales\" by multiplying the UnitPrice and Quantity column on row-level\n",
    "# 3. Perform summation on the new column and display the result.\n",
    "orders.filter(col('ShippedDate').isNull())\\\n",
    "    .withColumn('TotalSales', col('UnitPrice')*col(\"Quantity\"))\\\n",
    "    .agg(round(sum('TotalSales'),2).alias('TotalSaleOrder'))\\\n",
    "    .display()"
   ]
  },
  {
   "cell_type": "markdown",
   "metadata": {
    "application/vnd.databricks.v1+cell": {
     "cellMetadata": {
      "byteLimit": 2048000,
      "rowLimit": 10000
     },
     "inputWidgets": {},
     "nuid": "3f6682da-98f2-43b6-828d-0b3c84e48aeb",
     "showTitle": false,
     "title": ""
    }
   },
   "source": [
    "### 8. How many orders are 'single item' (only one product ordered)?"
   ]
  },
  {
   "cell_type": "code",
   "execution_count": 0,
   "metadata": {
    "application/vnd.databricks.v1+cell": {
     "cellMetadata": {
      "byteLimit": 2048000,
      "rowLimit": 10000
     },
     "inputWidgets": {},
     "nuid": "c44ceec2-89e4-489f-bc8a-4acb3e6abe15",
     "showTitle": false,
     "title": ""
    }
   },
   "outputs": [
    {
     "output_type": "display_data",
     "data": {
      "text/html": [
       "<style scoped>\n",
       "  .table-result-container {\n",
       "    max-height: 300px;\n",
       "    overflow: auto;\n",
       "  }\n",
       "  table, th, td {\n",
       "    border: 1px solid black;\n",
       "    border-collapse: collapse;\n",
       "  }\n",
       "  th, td {\n",
       "    padding: 5px;\n",
       "  }\n",
       "  th {\n",
       "    text-align: left;\n",
       "  }\n",
       "</style><div class='table-result-container'><table class='table-result'><thead style='background-color: white'><tr><th>OrderID</th><th>ProductCount</th></tr></thead><tbody><tr><td>10914</td><td>1</td></tr><tr><td>10815</td><td>1</td></tr><tr><td>11014</td><td>1</td></tr><tr><td>10947</td><td>1</td></tr><tr><td>10898</td><td>1</td></tr><tr><td>11057</td><td>1</td></tr><tr><td>10371</td><td>1</td></tr><tr><td>10422</td><td>1</td></tr><tr><td>10994</td><td>1</td></tr><tr><td>10295</td><td>1</td></tr><tr><td>10732</td><td>1</td></tr><tr><td>10881</td><td>1</td></tr><tr><td>10950</td><td>1</td></tr><tr><td>10433</td><td>1</td></tr><tr><td>10683</td><td>1</td></tr><tr><td>10336</td><td>1</td></tr><tr><td>10589</td><td>1</td></tr><tr><td>10586</td><td>1</td></tr><tr><td>10376</td><td>1</td></tr><tr><td>11050</td><td>1</td></tr><tr><td>10900</td><td>1</td></tr><tr><td>10556</td><td>1</td></tr><tr><td>10639</td><td>1</td></tr><tr><td>10610</td><td>1</td></tr><tr><td>10505</td><td>1</td></tr><tr><td>10807</td><td>1</td></tr><tr><td>10907</td><td>1</td></tr><tr><td>10501</td><td>1</td></tr><tr><td>10899</td><td>1</td></tr><tr><td>11048</td><td>1</td></tr><tr><td>10963</td><td>1</td></tr><tr><td>10331</td><td>1</td></tr><tr><td>10378</td><td>1</td></tr><tr><td>11037</td><td>1</td></tr><tr><td>10271</td><td>1</td></tr><tr><td>10934</td><td>1</td></tr><tr><td>10313</td><td>1</td></tr><tr><td>10767</td><td>1</td></tr><tr><td>10996</td><td>1</td></tr><tr><td>11043</td><td>1</td></tr><tr><td>10266</td><td>1</td></tr><tr><td>10754</td><td>1</td></tr><tr><td>10412</td><td>1</td></tr><tr><td>10905</td><td>1</td></tr><tr><td>10292</td><td>1</td></tr><tr><td>10942</td><td>1</td></tr><tr><td>10721</td><td>1</td></tr><tr><td>10365</td><td>1</td></tr><tr><td>10660</td><td>1</td></tr><tr><td>10906</td><td>1</td></tr><tr><td>10531</td><td>1</td></tr><tr><td>10976</td><td>1</td></tr><tr><td>10669</td><td>1</td></tr><tr><td>10743</td><td>1</td></tr><tr><td>11067</td><td>1</td></tr><tr><td>10392</td><td>1</td></tr><tr><td>11061</td><td>1</td></tr><tr><td>10797</td><td>1</td></tr><tr><td>10765</td><td>1</td></tr><tr><td>10615</td><td>1</td></tr><tr><td>10617</td><td>1</td></tr><tr><td>10482</td><td>1</td></tr><tr><td>11020</td><td>1</td></tr><tr><td>10381</td><td>1</td></tr><tr><td>10317</td><td>1</td></tr><tr><td>10349</td><td>1</td></tr><tr><td>10391</td><td>1</td></tr><tr><td>10496</td><td>1</td></tr><tr><td>10723</td><td>1</td></tr><tr><td>10602</td><td>1</td></tr><tr><td>11069</td><td>1</td></tr><tr><td>10599</td><td>1</td></tr><tr><td>10662</td><td>1</td></tr><tr><td>10509</td><td>1</td></tr><tr><td>10427</td><td>1</td></tr><tr><td>10405</td><td>1</td></tr><tr><td>10980</td><td>1</td></tr><tr><td>10820</td><td>1</td></tr><tr><td>10457</td><td>1</td></tr><tr><td>10782</td><td>1</td></tr><tr><td>10631</td><td>1</td></tr><tr><td>11051</td><td>1</td></tr><tr><td>10770</td><td>1</td></tr><tr><td>10955</td><td>1</td></tr><tr><td>10584</td><td>1</td></tr><tr><td>10279</td><td>1</td></tr><tr><td>10320</td><td>1</td></tr><tr><td>10965</td><td>1</td></tr><tr><td>10920</td><td>1</td></tr><tr><td>10771</td><td>1</td></tr><tr><td>10441</td><td>1</td></tr><tr><td>10545</td><td>1</td></tr><tr><td>10674</td><td>1</td></tr><tr><td>11040</td><td>1</td></tr><tr><td>10974</td><td>1</td></tr><tr><td>10585</td><td>1</td></tr><tr><td>10699</td><td>1</td></tr><tr><td>10844</td><td>1</td></tr><tr><td>10568</td><td>1</td></tr><tr><td>10692</td><td>1</td></tr><tr><td>10608</td><td>1</td></tr><tr><td>10777</td><td>1</td></tr><tr><td>10971</td><td>1</td></tr><tr><td>10322</td><td>1</td></tr><tr><td>11044</td><td>1</td></tr><tr><td>10428</td><td>1</td></tr><tr><td>10891</td><td>1</td></tr><tr><td>10478</td><td>1</td></tr><tr><td>10759</td><td>1</td></tr><tr><td>10874</td><td>1</td></tr><tr><td>10981</td><td>1</td></tr><tr><td>10738</td><td>1</td></tr><tr><td>10679</td><td>1</td></tr><tr><td>10992</td><td>1</td></tr><tr><td>10321</td><td>1</td></tr><tr><td>10969</td><td>1</td></tr><tr><td>10741</td><td>1</td></tr><tr><td>10892</td><td>1</td></tr><tr><td>10843</td><td>1</td></tr><tr><td>10778</td><td>1</td></tr><tr><td>10883</td><td>1</td></tr><tr><td>10689</td><td>1</td></tr><tr><td>10655</td><td>1</td></tr><tr><td>10628</td><td>1</td></tr><tr><td>10970</td><td>1</td></tr><tr><td>10744</td><td>1</td></tr><tr><td>10959</td><td>1</td></tr><tr><td>10494</td><td>1</td></tr><tr><td>10437</td><td>1</td></tr><tr><td>10809</td><td>1</td></tr><tr><td>11074</td><td>1</td></tr><tr><td>10853</td><td>1</td></tr><tr><td>10581</td><td>1</td></tr><tr><td>10887</td><td>1</td></tr><tr><td>10936</td><td>1</td></tr><tr><td>10878</td><td>1</td></tr><tr><td>10867</td><td>1</td></tr></tbody></table></div>"
      ]
     },
     "metadata": {
      "application/vnd.databricks.v1+output": {
       "addedWidgets": {},
       "aggData": [],
       "aggError": "",
       "aggOverflow": false,
       "aggSchema": [],
       "aggSeriesLimitReached": false,
       "aggType": "",
       "arguments": {},
       "columnCustomDisplayInfos": {},
       "data": [
        [
         10914,
         1
        ],
        [
         10815,
         1
        ],
        [
         11014,
         1
        ],
        [
         10947,
         1
        ],
        [
         10898,
         1
        ],
        [
         11057,
         1
        ],
        [
         10371,
         1
        ],
        [
         10422,
         1
        ],
        [
         10994,
         1
        ],
        [
         10295,
         1
        ],
        [
         10732,
         1
        ],
        [
         10881,
         1
        ],
        [
         10950,
         1
        ],
        [
         10433,
         1
        ],
        [
         10683,
         1
        ],
        [
         10336,
         1
        ],
        [
         10589,
         1
        ],
        [
         10586,
         1
        ],
        [
         10376,
         1
        ],
        [
         11050,
         1
        ],
        [
         10900,
         1
        ],
        [
         10556,
         1
        ],
        [
         10639,
         1
        ],
        [
         10610,
         1
        ],
        [
         10505,
         1
        ],
        [
         10807,
         1
        ],
        [
         10907,
         1
        ],
        [
         10501,
         1
        ],
        [
         10899,
         1
        ],
        [
         11048,
         1
        ],
        [
         10963,
         1
        ],
        [
         10331,
         1
        ],
        [
         10378,
         1
        ],
        [
         11037,
         1
        ],
        [
         10271,
         1
        ],
        [
         10934,
         1
        ],
        [
         10313,
         1
        ],
        [
         10767,
         1
        ],
        [
         10996,
         1
        ],
        [
         11043,
         1
        ],
        [
         10266,
         1
        ],
        [
         10754,
         1
        ],
        [
         10412,
         1
        ],
        [
         10905,
         1
        ],
        [
         10292,
         1
        ],
        [
         10942,
         1
        ],
        [
         10721,
         1
        ],
        [
         10365,
         1
        ],
        [
         10660,
         1
        ],
        [
         10906,
         1
        ],
        [
         10531,
         1
        ],
        [
         10976,
         1
        ],
        [
         10669,
         1
        ],
        [
         10743,
         1
        ],
        [
         11067,
         1
        ],
        [
         10392,
         1
        ],
        [
         11061,
         1
        ],
        [
         10797,
         1
        ],
        [
         10765,
         1
        ],
        [
         10615,
         1
        ],
        [
         10617,
         1
        ],
        [
         10482,
         1
        ],
        [
         11020,
         1
        ],
        [
         10381,
         1
        ],
        [
         10317,
         1
        ],
        [
         10349,
         1
        ],
        [
         10391,
         1
        ],
        [
         10496,
         1
        ],
        [
         10723,
         1
        ],
        [
         10602,
         1
        ],
        [
         11069,
         1
        ],
        [
         10599,
         1
        ],
        [
         10662,
         1
        ],
        [
         10509,
         1
        ],
        [
         10427,
         1
        ],
        [
         10405,
         1
        ],
        [
         10980,
         1
        ],
        [
         10820,
         1
        ],
        [
         10457,
         1
        ],
        [
         10782,
         1
        ],
        [
         10631,
         1
        ],
        [
         11051,
         1
        ],
        [
         10770,
         1
        ],
        [
         10955,
         1
        ],
        [
         10584,
         1
        ],
        [
         10279,
         1
        ],
        [
         10320,
         1
        ],
        [
         10965,
         1
        ],
        [
         10920,
         1
        ],
        [
         10771,
         1
        ],
        [
         10441,
         1
        ],
        [
         10545,
         1
        ],
        [
         10674,
         1
        ],
        [
         11040,
         1
        ],
        [
         10974,
         1
        ],
        [
         10585,
         1
        ],
        [
         10699,
         1
        ],
        [
         10844,
         1
        ],
        [
         10568,
         1
        ],
        [
         10692,
         1
        ],
        [
         10608,
         1
        ],
        [
         10777,
         1
        ],
        [
         10971,
         1
        ],
        [
         10322,
         1
        ],
        [
         11044,
         1
        ],
        [
         10428,
         1
        ],
        [
         10891,
         1
        ],
        [
         10478,
         1
        ],
        [
         10759,
         1
        ],
        [
         10874,
         1
        ],
        [
         10981,
         1
        ],
        [
         10738,
         1
        ],
        [
         10679,
         1
        ],
        [
         10992,
         1
        ],
        [
         10321,
         1
        ],
        [
         10969,
         1
        ],
        [
         10741,
         1
        ],
        [
         10892,
         1
        ],
        [
         10843,
         1
        ],
        [
         10778,
         1
        ],
        [
         10883,
         1
        ],
        [
         10689,
         1
        ],
        [
         10655,
         1
        ],
        [
         10628,
         1
        ],
        [
         10970,
         1
        ],
        [
         10744,
         1
        ],
        [
         10959,
         1
        ],
        [
         10494,
         1
        ],
        [
         10437,
         1
        ],
        [
         10809,
         1
        ],
        [
         11074,
         1
        ],
        [
         10853,
         1
        ],
        [
         10581,
         1
        ],
        [
         10887,
         1
        ],
        [
         10936,
         1
        ],
        [
         10878,
         1
        ],
        [
         10867,
         1
        ]
       ],
       "datasetInfos": [],
       "dbfsResultPath": null,
       "isJsonSchema": true,
       "metadata": {},
       "overflow": false,
       "plotOptions": {
        "customPlotOptions": {},
        "displayType": "table",
        "pivotAggregation": null,
        "pivotColumns": null,
        "xColumns": null,
        "yColumns": null
       },
       "removedWidgets": [],
       "schema": [
        {
         "metadata": "{}",
         "name": "OrderID",
         "type": "\"integer\""
        },
        {
         "metadata": "{}",
         "name": "ProductCount",
         "type": "\"long\""
        }
       ],
       "type": "table"
      }
     },
     "output_type": "display_data"
    }
   ],
   "source": [
    "#1. Perform the group by on the \"Order_id\" and count the number of products per order\n",
    "# 2. Filter out orders with only product and display the result\n",
    "orders.groupBy('OrderID').agg(count('ProductID').alias('ProductCount'))\\\n",
    "    .filter(col('ProductCount')==1)\\\n",
    "    .display()"
   ]
  },
  {
   "cell_type": "code",
   "execution_count": 0,
   "metadata": {
    "application/vnd.databricks.v1+cell": {
     "cellMetadata": {
      "byteLimit": 2048000,
      "rowLimit": 10000
     },
     "inputWidgets": {},
     "nuid": "d2f4aedb-751c-4668-a3ba-6e14895e20f2",
     "showTitle": false,
     "title": ""
    }
   },
   "outputs": [
    {
     "output_type": "execute_result",
     "data": {
      "text/plain": [
       "137"
      ]
     },
     "execution_count": 19,
     "metadata": {},
     "output_type": "execute_result"
    }
   ],
   "source": [
    "orders.groupBy('OrderID').agg(count('ProductID').alias('ProductCount'))\\\n",
    "    .filter(col('ProductCount')==1).count()"
   ]
  },
  {
   "cell_type": "markdown",
   "metadata": {
    "application/vnd.databricks.v1+cell": {
     "cellMetadata": {
      "byteLimit": 2048000,
      "rowLimit": 10000
     },
     "inputWidgets": {},
     "nuid": "47f8d0b2-bc23-4bd9-85e3-0c32607e3259",
     "showTitle": false,
     "title": ""
    }
   },
   "source": [
    "### 9. Average Sales per Transaction (orderID) for \"Romero y Tomillo\""
   ]
  },
  {
   "cell_type": "code",
   "execution_count": 0,
   "metadata": {
    "application/vnd.databricks.v1+cell": {
     "cellMetadata": {
      "byteLimit": 2048000,
      "rowLimit": 10000
     },
     "inputWidgets": {},
     "nuid": "f64ffed4-0bfc-4053-973a-16183f65da9c",
     "showTitle": false,
     "title": ""
    }
   },
   "outputs": [
    {
     "output_type": "display_data",
     "data": {
      "text/html": [
       "<style scoped>\n",
       "  .table-result-container {\n",
       "    max-height: 300px;\n",
       "    overflow: auto;\n",
       "  }\n",
       "  table, th, td {\n",
       "    border: 1px solid black;\n",
       "    border-collapse: collapse;\n",
       "  }\n",
       "  th, td {\n",
       "    padding: 5px;\n",
       "  }\n",
       "  th {\n",
       "    text-align: left;\n",
       "  }\n",
       "</style><div class='table-result-container'><table class='table-result'><thead style='background-color: white'><tr><th>AvgSalesPerTransaction</th></tr></thead><tbody><tr><td>293.46</td></tr></tbody></table></div>"
      ]
     },
     "metadata": {
      "application/vnd.databricks.v1+output": {
       "addedWidgets": {},
       "aggData": [],
       "aggError": "",
       "aggOverflow": false,
       "aggSchema": [],
       "aggSeriesLimitReached": false,
       "aggType": "",
       "arguments": {},
       "columnCustomDisplayInfos": {},
       "data": [
        [
         293.46
        ]
       ],
       "datasetInfos": [],
       "dbfsResultPath": null,
       "isJsonSchema": true,
       "metadata": {},
       "overflow": false,
       "plotOptions": {
        "customPlotOptions": {},
        "displayType": "table",
        "pivotAggregation": null,
        "pivotColumns": null,
        "xColumns": null,
        "yColumns": null
       },
       "removedWidgets": [],
       "schema": [
        {
         "metadata": "{}",
         "name": "AvgSalesPerTransaction",
         "type": "\"double\""
        }
       ],
       "type": "table"
      }
     },
     "output_type": "display_data"
    }
   ],
   "source": [
    "# 1. Filter the orders table where ship name is \"Romero y tomillo\"\n",
    "# 2. Perform group by on the filtered table and apply summation on the \"_Sales\" column\n",
    "# 3. We get total sales per every order\n",
    "# 4. Perform Avg on the resulted query and display the result\n",
    "orders.filter(col('ShipName')==\"Romero y tomillo\")\\\n",
    "    .groupBy('OrderID').agg(sum(\"_Sales\").alias('sales_by_order'))\\\n",
    "    .agg(round(avg('sales_by_order'),2).alias('AvgSalesPerTransaction'))\\\n",
    "    .display()"
   ]
  },
  {
   "cell_type": "markdown",
   "metadata": {
    "application/vnd.databricks.v1+cell": {
     "cellMetadata": {
      "byteLimit": 2048000,
      "rowLimit": 10000
     },
     "inputWidgets": {},
     "nuid": "3da0a0a6-76ab-49e1-993c-e55a414bd2bb",
     "showTitle": false,
     "title": ""
    }
   },
   "source": [
    "### 10. How many days since \"North/South\" last purchase?"
   ]
  },
  {
   "cell_type": "code",
   "execution_count": 0,
   "metadata": {
    "application/vnd.databricks.v1+cell": {
     "cellMetadata": {
      "byteLimit": 2048000,
      "rowLimit": 10000
     },
     "inputWidgets": {},
     "nuid": "ab9733e6-d18b-4c19-9005-c94e35e9d5dc",
     "showTitle": false,
     "title": ""
    }
   },
   "outputs": [
    {
     "output_type": "display_data",
     "data": {
      "text/html": [
       "<style scoped>\n",
       "  .table-result-container {\n",
       "    max-height: 300px;\n",
       "    overflow: auto;\n",
       "  }\n",
       "  table, th, td {\n",
       "    border: 1px solid black;\n",
       "    border-collapse: collapse;\n",
       "  }\n",
       "  th, td {\n",
       "    padding: 5px;\n",
       "  }\n",
       "  th {\n",
       "    text-align: left;\n",
       "  }\n",
       "</style><div class='table-result-container'><table class='table-result'><thead style='background-color: white'><tr><th>OrderDate</th><th>CurrentDate</th><th>days</th></tr></thead><tbody><tr><td>2024-06-12</td><td>2024-09-19</td><td>-99</td></tr></tbody></table></div>"
      ]
     },
     "metadata": {
      "application/vnd.databricks.v1+output": {
       "addedWidgets": {},
       "aggData": [],
       "aggError": "",
       "aggOverflow": false,
       "aggSchema": [],
       "aggSeriesLimitReached": false,
       "aggType": "",
       "arguments": {},
       "columnCustomDisplayInfos": {},
       "data": [
        [
         "2024-06-12",
         "2024-09-19",
         -99
        ]
       ],
       "datasetInfos": [],
       "dbfsResultPath": null,
       "isJsonSchema": true,
       "metadata": {},
       "overflow": false,
       "plotOptions": {
        "customPlotOptions": {},
        "displayType": "table",
        "pivotAggregation": null,
        "pivotColumns": null,
        "xColumns": null,
        "yColumns": null
       },
       "removedWidgets": [],
       "schema": [
        {
         "metadata": "{\"__detected_date_formats\":\"d-M-yyyy\"}",
         "name": "OrderDate",
         "type": "\"date\""
        },
        {
         "metadata": "{}",
         "name": "CurrentDate",
         "type": "\"date\""
        },
        {
         "metadata": "{}",
         "name": "days",
         "type": "\"integer\""
        }
       ],
       "type": "table"
      }
     },
     "output_type": "display_data"
    }
   ],
   "source": [
    "# 1. Filter the customers table where company name is \"North/South\" and take the customer_id and save it in a variable\n",
    "# 2. Filter the orders table with the above customer id\n",
    "# 3. Sort the filtered table with the order_date in descending order and limit it to the first order\n",
    "# 4. Add \"Current Date\" column, which displays today's date\n",
    "# 5. Perform date difference between last purchase date and current date, we will get the query result in number of days.\n",
    "customer_id = customers.filter(col('CompanyName')==\"North/South\")\\\n",
    "                     .select(\"CustomerID\").collect()[0]['CustomerID']\n",
    "\n",
    "orders.filter(col('CustomerID') == customer_id)\\\n",
    "    .sort(desc(col(\"OrderDate\"))).limit(1).select(\"OrderDate\")\\\n",
    "    .withColumn('CurrentDate', current_date())\\\n",
    "    .withColumn('days', datediff(col('OrderDate'), col(\"CurrentDate\")))\\\n",
    "    .display()"
   ]
  },
  {
   "cell_type": "code",
   "execution_count": 0,
   "metadata": {
    "application/vnd.databricks.v1+cell": {
     "cellMetadata": {
      "byteLimit": 2048000,
      "rowLimit": 10000
     },
     "inputWidgets": {},
     "nuid": "3e6c53e9-54fc-400b-b813-92af86878b2c",
     "showTitle": false,
     "title": ""
    }
   },
   "outputs": [],
   "source": []
  },
  {
   "cell_type": "markdown",
   "metadata": {
    "application/vnd.databricks.v1+cell": {
     "cellMetadata": {
      "byteLimit": 2048000,
      "rowLimit": 10000
     },
     "inputWidgets": {},
     "nuid": "ce1055d8-612a-4a2f-a3c6-d4e2fe60d2e1",
     "showTitle": false,
     "title": ""
    }
   },
   "source": [
    "### 11. How many customers have ordered only once?"
   ]
  },
  {
   "cell_type": "markdown",
   "metadata": {
    "application/vnd.databricks.v1+cell": {
     "cellMetadata": {
      "byteLimit": 2048000,
      "rowLimit": 10000
     },
     "inputWidgets": {},
     "nuid": "a0724853-522e-4b46-af3d-7950314e1060",
     "showTitle": false,
     "title": ""
    }
   },
   "source": [
    "#### Method 1"
   ]
  },
  {
   "cell_type": "code",
   "execution_count": 0,
   "metadata": {
    "application/vnd.databricks.v1+cell": {
     "cellMetadata": {
      "byteLimit": 2048000,
      "rowLimit": 10000
     },
     "inputWidgets": {},
     "nuid": "50c1684e-97d8-44fb-bb52-680e1db87a3c",
     "showTitle": false,
     "title": ""
    }
   },
   "outputs": [
    {
     "output_type": "display_data",
     "data": {
      "text/html": [
       "<style scoped>\n",
       "  .table-result-container {\n",
       "    max-height: 300px;\n",
       "    overflow: auto;\n",
       "  }\n",
       "  table, th, td {\n",
       "    border: 1px solid black;\n",
       "    border-collapse: collapse;\n",
       "  }\n",
       "  th, td {\n",
       "    padding: 5px;\n",
       "  }\n",
       "  th {\n",
       "    text-align: left;\n",
       "  }\n",
       "</style><div class='table-result-container'><table class='table-result'><thead style='background-color: white'><tr><th>CustomerID</th><th>NumberOfOrders</th></tr></thead><tbody><tr><td>CENTC</td><td>1</td></tr></tbody></table></div>"
      ]
     },
     "metadata": {
      "application/vnd.databricks.v1+output": {
       "addedWidgets": {},
       "aggData": [],
       "aggError": "",
       "aggOverflow": false,
       "aggSchema": [],
       "aggSeriesLimitReached": false,
       "aggType": "",
       "arguments": {},
       "columnCustomDisplayInfos": {},
       "data": [
        [
         "CENTC",
         1
        ]
       ],
       "datasetInfos": [],
       "dbfsResultPath": null,
       "isJsonSchema": true,
       "metadata": {},
       "overflow": false,
       "plotOptions": {
        "customPlotOptions": {},
        "displayType": "table",
        "pivotAggregation": null,
        "pivotColumns": null,
        "xColumns": null,
        "yColumns": null
       },
       "removedWidgets": [],
       "schema": [
        {
         "metadata": "{}",
         "name": "CustomerID",
         "type": "\"string\""
        },
        {
         "metadata": "{}",
         "name": "NumberOfOrders",
         "type": "\"long\""
        }
       ],
       "type": "table"
      }
     },
     "output_type": "display_data"
    }
   ],
   "source": [
    "# 1. GroupBy on Orders table with \"Order_id\", and \"Customer_id\" and count the number of customers\n",
    "# 2. Again GroupBy over \"Customer_id\" and count the number of orders\n",
    "# 3. Filter the data where number_of_orders is 1 and display the result\n",
    "orders.groupBy('OrderID', 'CustomerID').agg(count('CustomerID'))\\\n",
    "    .groupBy('CustomerID').agg(count('CustomerID').alias('NumberOfOrders'))\\\n",
    "    .filter(col('NumberOfOrders')==1)\\\n",
    "    .display()"
   ]
  },
  {
   "cell_type": "markdown",
   "metadata": {
    "application/vnd.databricks.v1+cell": {
     "cellMetadata": {
      "byteLimit": 2048000,
      "rowLimit": 10000
     },
     "inputWidgets": {},
     "nuid": "8e8bc643-16b8-4287-8124-7f455ca8253b",
     "showTitle": false,
     "title": ""
    }
   },
   "source": [
    "#### Method 2"
   ]
  },
  {
   "cell_type": "code",
   "execution_count": 0,
   "metadata": {
    "application/vnd.databricks.v1+cell": {
     "cellMetadata": {
      "byteLimit": 2048000,
      "rowLimit": 10000
     },
     "inputWidgets": {},
     "nuid": "e17c0225-377a-4734-95c7-5c430989b2b8",
     "showTitle": false,
     "title": ""
    }
   },
   "outputs": [
    {
     "output_type": "display_data",
     "data": {
      "text/html": [
       "<style scoped>\n",
       "  .table-result-container {\n",
       "    max-height: 300px;\n",
       "    overflow: auto;\n",
       "  }\n",
       "  table, th, td {\n",
       "    border: 1px solid black;\n",
       "    border-collapse: collapse;\n",
       "  }\n",
       "  th, td {\n",
       "    padding: 5px;\n",
       "  }\n",
       "  th {\n",
       "    text-align: left;\n",
       "  }\n",
       "</style><div class='table-result-container'><table class='table-result'><thead style='background-color: white'><tr><th>CustomerID</th><th>NumberOfUniqueOrders</th></tr></thead><tbody><tr><td>CENTC</td><td>1</td></tr></tbody></table></div>"
      ]
     },
     "metadata": {
      "application/vnd.databricks.v1+output": {
       "addedWidgets": {},
       "aggData": [],
       "aggError": "",
       "aggOverflow": false,
       "aggSchema": [],
       "aggSeriesLimitReached": false,
       "aggType": "",
       "arguments": {},
       "columnCustomDisplayInfos": {},
       "data": [
        [
         "CENTC",
         1
        ]
       ],
       "datasetInfos": [],
       "dbfsResultPath": null,
       "isJsonSchema": true,
       "metadata": {},
       "overflow": false,
       "plotOptions": {
        "customPlotOptions": {},
        "displayType": "table",
        "pivotAggregation": null,
        "pivotColumns": null,
        "xColumns": null,
        "yColumns": null
       },
       "removedWidgets": [],
       "schema": [
        {
         "metadata": "{}",
         "name": "CustomerID",
         "type": "\"string\""
        },
        {
         "metadata": "{}",
         "name": "NumberOfUniqueOrders",
         "type": "\"long\""
        }
       ],
       "type": "table"
      }
     },
     "output_type": "display_data"
    }
   ],
   "source": [
    "# 1. GroupBy on orders table over \"Customer_id\"\n",
    "# 2. Count the distinct order_id which gives the number of orders made by each customer\n",
    "# 3. Filter the number of order to be 1 and display the result.\n",
    "orders.groupBy('CustomerID').agg(countDistinct('OrderID').alias('NumberOfUniqueOrders'))\\\n",
    "    .filter(col(\"NumberofUniqueOrders\")==1)\\\n",
    "    .display()"
   ]
  },
  {
   "cell_type": "markdown",
   "metadata": {
    "application/vnd.databricks.v1+cell": {
     "cellMetadata": {
      "byteLimit": 2048000,
      "rowLimit": 10000
     },
     "inputWidgets": {},
     "nuid": "2bb2089f-2b9d-48de-980b-700bf4260de5",
     "showTitle": false,
     "title": ""
    }
   },
   "source": [
    "### 12. How many new customers in 2023?"
   ]
  },
  {
   "cell_type": "code",
   "execution_count": 0,
   "metadata": {
    "application/vnd.databricks.v1+cell": {
     "cellMetadata": {
      "byteLimit": 2048000,
      "rowLimit": 10000
     },
     "inputWidgets": {},
     "nuid": "f9cfacfd-646e-4350-a7d8-14c07f7b6d9b",
     "showTitle": false,
     "title": ""
    }
   },
   "outputs": [
    {
     "output_type": "execute_result",
     "data": {
      "text/plain": [
       "32"
      ]
     },
     "execution_count": 24,
     "metadata": {},
     "output_type": "execute_result"
    }
   ],
   "source": [
    "# 1. \n",
    "\n",
    "window = Window.partitionBy('CustomerID').orderBy(col('OrderDate'))\n",
    "\n",
    "orders.withColumn('FirstOrderDate', dense_rank().over(window))\\\n",
    "    .filter((col('FirstOrderDate')==1) & (year('OrderDate')==2023))\\\n",
    "    .select('CustomerID').distinct().count()"
   ]
  },
  {
   "cell_type": "markdown",
   "metadata": {
    "application/vnd.databricks.v1+cell": {
     "cellMetadata": {
      "byteLimit": 2048000,
      "rowLimit": 10000
     },
     "inputWidgets": {},
     "nuid": "761a77d9-7823-4f30-90de-26a4953884d3",
     "showTitle": false,
     "title": ""
    }
   },
   "source": [
    "### 13. How many Lost Customers in 2023?"
   ]
  },
  {
   "cell_type": "code",
   "execution_count": 0,
   "metadata": {
    "application/vnd.databricks.v1+cell": {
     "cellMetadata": {
      "byteLimit": 2048000,
      "rowLimit": 10000
     },
     "inputWidgets": {},
     "nuid": "2279d4ff-2d0a-4001-8ba1-db54b341ef72",
     "showTitle": false,
     "title": ""
    }
   },
   "outputs": [
    {
     "output_type": "display_data",
     "data": {
      "text/html": [
       "<style scoped>\n",
       "  .table-result-container {\n",
       "    max-height: 300px;\n",
       "    overflow: auto;\n",
       "  }\n",
       "  table, th, td {\n",
       "    border: 1px solid black;\n",
       "    border-collapse: collapse;\n",
       "  }\n",
       "  th, td {\n",
       "    padding: 5px;\n",
       "  }\n",
       "  th {\n",
       "    text-align: left;\n",
       "  }\n",
       "</style><div class='table-result-container'><table class='table-result'><thead style='background-color: white'><tr><th>CustomerID</th><th>first_order_date</th><th>last_order_date</th></tr></thead><tbody><tr><td>FAMIA</td><td>2022-12-21</td><td>2023-12-15</td></tr><tr><td>HUNGC</td><td>2023-01-20</td><td>2023-10-23</td></tr><tr><td>LAZYK</td><td>2023-05-05</td><td>2023-07-06</td></tr><tr><td>MEREP</td><td>2022-12-01</td><td>2023-12-14</td></tr><tr><td>VINET</td><td>2022-08-18</td><td>2023-12-27</td></tr></tbody></table></div>"
      ]
     },
     "metadata": {
      "application/vnd.databricks.v1+output": {
       "addedWidgets": {},
       "aggData": [],
       "aggError": "",
       "aggOverflow": false,
       "aggSchema": [],
       "aggSeriesLimitReached": false,
       "aggType": "",
       "arguments": {},
       "columnCustomDisplayInfos": {},
       "data": [
        [
         "FAMIA",
         "2022-12-21",
         "2023-12-15"
        ],
        [
         "HUNGC",
         "2023-01-20",
         "2023-10-23"
        ],
        [
         "LAZYK",
         "2023-05-05",
         "2023-07-06"
        ],
        [
         "MEREP",
         "2022-12-01",
         "2023-12-14"
        ],
        [
         "VINET",
         "2022-08-18",
         "2023-12-27"
        ]
       ],
       "datasetInfos": [],
       "dbfsResultPath": null,
       "isJsonSchema": true,
       "metadata": {},
       "overflow": false,
       "plotOptions": {
        "customPlotOptions": {},
        "displayType": "table",
        "pivotAggregation": null,
        "pivotColumns": null,
        "xColumns": null,
        "yColumns": null
       },
       "removedWidgets": [],
       "schema": [
        {
         "metadata": "{}",
         "name": "CustomerID",
         "type": "\"string\""
        },
        {
         "metadata": "{}",
         "name": "first_order_date",
         "type": "\"date\""
        },
        {
         "metadata": "{}",
         "name": "last_order_date",
         "type": "\"date\""
        }
       ],
       "type": "table"
      }
     },
     "output_type": "display_data"
    }
   ],
   "source": [
    "# 1. Create a Partition over \"Customer_id\" and order by \"order_date\" with window frame being unbounded preceding and unbounded following.\n",
    "\n",
    "# 2. For Orders table, get the first order date and latest order date for every customer\n",
    "# 3. Apply distinct to get the unique customers\n",
    "# 4. Filter the data where latest order should be with in the 2023 and display the result\n",
    "window = Window.partitionBy('CustomerID').orderBy('OrderDate').rowsBetween(\n",
    "    Window.unboundedPreceding, Window.unboundedFollowing)\n",
    "\n",
    "orders.withColumn('first_order_date', first('OrderDate').over(window))\\\n",
    "    .withColumn('last_order_date', last(\"OrderDate\").over(window))\\\n",
    "    .select('CustomerID', \"first_order_date\", \"last_order_date\").distinct()\\\n",
    "    .filter((col('last_order_date') <= \"2023-12-31\") & (col('last_order_date') >='2023-01-01'))\\\n",
    ".display()"
   ]
  },
  {
   "cell_type": "markdown",
   "metadata": {
    "application/vnd.databricks.v1+cell": {
     "cellMetadata": {
      "byteLimit": 2048000,
      "rowLimit": 10000
     },
     "inputWidgets": {},
     "nuid": "ef6da9a3-5caf-4391-9569-513492f6a0ed",
     "showTitle": false,
     "title": ""
    }
   },
   "source": [
    "\n",
    "### 14. How many customers have never purchased Queso Cabrales?"
   ]
  },
  {
   "cell_type": "markdown",
   "metadata": {
    "application/vnd.databricks.v1+cell": {
     "cellMetadata": {
      "byteLimit": 2048000,
      "rowLimit": 10000
     },
     "inputWidgets": {},
     "nuid": "614c4afe-fd49-4e52-b5e2-8801ce9f09b3",
     "showTitle": false,
     "title": ""
    }
   },
   "source": [
    "#### Method 1"
   ]
  },
  {
   "cell_type": "code",
   "execution_count": 0,
   "metadata": {
    "application/vnd.databricks.v1+cell": {
     "cellMetadata": {
      "byteLimit": 2048000,
      "rowLimit": 10000
     },
     "inputWidgets": {},
     "nuid": "3d420aad-4f0a-43a6-a415-4fe219db6686",
     "showTitle": false,
     "title": ""
    }
   },
   "outputs": [],
   "source": [
    "# 1. Get the product_id from the products table where product name is \"Queso Cabrales\"\n",
    "# 2. Filter the orders table for the same product_id and get the distinct customers list.\n",
    "# 3. Perform a left_anti join on the customers list with customer_table and get the customers who never brought this product.\n",
    "product_id = products.filter(col('ProductName') == \"Queso Cabrales\").select(\"ProductID\").collect()[0][\"ProductID\"]"
   ]
  },
  {
   "cell_type": "code",
   "execution_count": 0,
   "metadata": {
    "application/vnd.databricks.v1+cell": {
     "cellMetadata": {
      "byteLimit": 2048000,
      "rowLimit": 10000
     },
     "inputWidgets": {},
     "nuid": "bf824f0d-9dc6-4acd-97d9-31063ddb486d",
     "showTitle": false,
     "title": ""
    }
   },
   "outputs": [],
   "source": [
    "customers_with_queso = orders.filter(col(\"ProductID\")==product_id).select(col(\"CustomerID\")).distinct()"
   ]
  },
  {
   "cell_type": "code",
   "execution_count": 0,
   "metadata": {
    "application/vnd.databricks.v1+cell": {
     "cellMetadata": {
      "byteLimit": 2048000,
      "rowLimit": 10000
     },
     "inputWidgets": {},
     "nuid": "526f2bf7-7f4d-481f-a0db-83d7966b4654",
     "showTitle": false,
     "title": ""
    }
   },
   "outputs": [
    {
     "output_type": "display_data",
     "data": {
      "text/html": [
       "<style scoped>\n",
       "  .table-result-container {\n",
       "    max-height: 300px;\n",
       "    overflow: auto;\n",
       "  }\n",
       "  table, th, td {\n",
       "    border: 1px solid black;\n",
       "    border-collapse: collapse;\n",
       "  }\n",
       "  th, td {\n",
       "    padding: 5px;\n",
       "  }\n",
       "  th {\n",
       "    text-align: left;\n",
       "  }\n",
       "</style><div class='table-result-container'><table class='table-result'><thead style='background-color: white'><tr><th>CustomerID</th><th>CompanyName</th><th>ContactName</th><th>ContactTitle</th><th>Address</th><th>City</th><th>Region</th><th>PostalCode</th><th>Country</th><th>Phone</th><th>Fax</th></tr></thead><tbody><tr><td>ALFKI</td><td>Alfreds Futterkiste</td><td>Maria Anders</td><td>Sales Representative</td><td>Obere Str. 57</td><td>Berlin</td><td>null</td><td>12209</td><td>Germany</td><td>030-0074321</td><td>030-0076545</td></tr><tr><td>AROUT</td><td>Around the Horn</td><td>Thomas Hardy</td><td>Sales Representative</td><td>120 Hanover Sq.</td><td>London</td><td>null</td><td>WA1 1DP</td><td>UK</td><td>(171) 555-7788</td><td>(171) 555-6750</td></tr><tr><td>BERGS</td><td>Berglunds snabbköp</td><td>Christina Berglund</td><td>Order Administrator</td><td>Berguvsvägen  8</td><td>Luleå</td><td>null</td><td>S-958 22</td><td>Sweden</td><td>0921-12 34 65</td><td>0921-12 34 67</td></tr><tr><td>BOLID</td><td>Bólido Comidas preparadas</td><td>Martín Sommer</td><td>Owner</td><td>C/ Araquil, 67</td><td>Madrid</td><td>null</td><td>28023</td><td>Spain</td><td>(91) 555 22 82</td><td>(91) 555 91 99</td></tr><tr><td>BONAP</td><td>Bon app'</td><td>Laurence Lebihan</td><td>Owner</td><td>12, rue des Bouchers</td><td>Marseille</td><td>null</td><td>13008</td><td>France</td><td>91.24.45.40</td><td>91.24.45.41</td></tr><tr><td>BSBEV</td><td>B's Beverages</td><td>Victoria Ashworth</td><td>Sales Representative</td><td>Fauntleroy Circus</td><td>London</td><td>null</td><td>EC2 5NT</td><td>UK</td><td>(171) 555-1212</td><td>null</td></tr><tr><td>CACTU</td><td>Cactus Comidas para llevar</td><td>Patricio Simpson</td><td>Sales Agent</td><td>Cerrito 333</td><td>Buenos Aires</td><td>null</td><td>1010</td><td>Argentina</td><td>(1) 135-5555</td><td>(1) 135-4892</td></tr><tr><td>CENTC</td><td>Centro comercial Moctezuma</td><td>Francisco Chang</td><td>Marketing Manager</td><td>Sierras de Granada 9993</td><td>México D.F.</td><td>null</td><td>05022</td><td>Mexico</td><td>(5) 555-3392</td><td>(5) 555-7293</td></tr><tr><td>CHOPS</td><td>Chop-suey Chinese</td><td>Yang Wang</td><td>Owner</td><td>Hauptstr. 29</td><td>Bern</td><td>null</td><td>3012</td><td>Switzerland</td><td>0452-076545</td><td>null</td></tr><tr><td>CONSH</td><td>Consolidated Holdings</td><td>Elizabeth Brown</td><td>Sales Representative</td><td>Berkeley Gardens 12  Brewery</td><td>London</td><td>null</td><td>WX1 6LT</td><td>UK</td><td>(171) 555-2282</td><td>(171) 555-9199</td></tr><tr><td>DUMON</td><td>Du monde entier</td><td>Janine Labrune</td><td>Owner</td><td>67, rue des Cinquante Otages</td><td>Nantes</td><td>null</td><td>44000</td><td>France</td><td>40.67.88.88</td><td>40.67.89.89</td></tr><tr><td>FAMIA</td><td>Familia Arquibaldo</td><td>Aria Cruz</td><td>Marketing Assistant</td><td>Rua Orós, 92</td><td>Sao Paulo</td><td>SP</td><td>05442-030</td><td>Brazil</td><td>(11) 555-9857</td><td>null</td></tr><tr><td>FISSA</td><td>FISSA Fabrica Inter. Salchichas S.A.</td><td>Diego Roel</td><td>Accounting Manager</td><td>C/ Moralzarzal, 86</td><td>Madrid</td><td>null</td><td>28034</td><td>Spain</td><td>(91) 555 94 44</td><td>(91) 555 55 93</td></tr><tr><td>FOLIG</td><td>Folies gourmandes</td><td>Martine Rancé</td><td>Assistant Sales Agent</td><td>184, chaussée de Tournai</td><td>Lille</td><td>null</td><td>59000</td><td>France</td><td>20.16.10.16</td><td>20.16.10.17</td></tr><tr><td>FRANK</td><td>Frankenversand</td><td>Peter Franken</td><td>Marketing Manager</td><td>Berliner Platz 43</td><td>München</td><td>null</td><td>80805</td><td>Germany</td><td>089-0877310</td><td>089-0877451</td></tr><tr><td>FRANR</td><td>France restauration</td><td>Carine Schmitt</td><td>Marketing Manager</td><td>54, rue Royale</td><td>Nantes</td><td>null</td><td>44000</td><td>France</td><td>40.32.21.21</td><td>40.32.21.20</td></tr><tr><td>FRANS</td><td>Franchi S.p.A.</td><td>Paolo Accorti</td><td>Sales Representative</td><td>Via Monte Bianco 34</td><td>Torino</td><td>null</td><td>10100</td><td>Italy</td><td>011-4988260</td><td>011-4988261</td></tr><tr><td>FURIB</td><td>Furia Bacalhau e Frutos do Mar</td><td>Lino Rodriguez</td><td>Sales Manager</td><td>Jardim das rosas n. 32</td><td>Lisboa</td><td>null</td><td>1675</td><td>Portugal</td><td>(1) 354-2534</td><td>(1) 354-2535</td></tr><tr><td>GALED</td><td>Galería del gastrónomo</td><td>Eduardo Saavedra</td><td>Marketing Manager</td><td>Rambla de Cataluña, 23</td><td>Barcelona</td><td>null</td><td>08022</td><td>Spain</td><td>(93) 203 4560</td><td>(93) 203 4561</td></tr><tr><td>GODOS</td><td>Godos Cocina Típica</td><td>José Pedro Freyre</td><td>Sales Manager</td><td>C/ Romero, 33</td><td>Sevilla</td><td>null</td><td>41101</td><td>Spain</td><td>(95) 555 82 82</td><td>null</td></tr><tr><td>GOURL</td><td>Gourmet Lanchonetes</td><td>André Fonseca</td><td>Sales Associate</td><td>Av. Brasil, 442</td><td>Campinas</td><td>SP</td><td>04876-786</td><td>Brazil</td><td>(11) 555-9482</td><td>null</td></tr><tr><td>GROSR</td><td>GROSELLA-Restaurante</td><td>Manuel Pereira</td><td>Owner</td><td>5ª Ave. Los Palos Grandes</td><td>Caracas</td><td>DF</td><td>1081</td><td>Venezuela</td><td>(2) 283-2951</td><td>(2) 283-3397</td></tr><tr><td>HUNGC</td><td>Hungry Coyote Import Store</td><td>Yoshi Latimer</td><td>Sales Representative</td><td>City Center Plaza 516 Main St.</td><td>Elgin</td><td>OR</td><td>97827</td><td>USA</td><td>(503) 555-6874</td><td>(503) 555-2376</td></tr><tr><td>ISLAT</td><td>Island Trading</td><td>Helen Bennett</td><td>Marketing Manager</td><td>Garden House Crowther Way</td><td>Cowes</td><td>Isle of Wight</td><td>PO31 7PJ</td><td>UK</td><td>(198) 555-8888</td><td>null</td></tr><tr><td>LACOR</td><td>La corne d'abondance</td><td>Daniel Tonini</td><td>Sales Representative</td><td>67, avenue de l'Europe</td><td>Versailles</td><td>null</td><td>78000</td><td>France</td><td>30.59.84.10</td><td>30.59.85.11</td></tr><tr><td>LAMAI</td><td>La maison d'Asie</td><td>Annette Roulet</td><td>Sales Manager</td><td>1 rue Alsace-Lorraine</td><td>Toulouse</td><td>null</td><td>31000</td><td>France</td><td>61.77.61.10</td><td>61.77.61.11</td></tr><tr><td>LAUGB</td><td>Laughing Bacchus Wine Cellars</td><td>Yoshi Tannamuri</td><td>Marketing Assistant</td><td>1900 Oak St.</td><td>Vancouver</td><td>BC</td><td>V3F 2K1</td><td>Canada</td><td>(604) 555-3392</td><td>(604) 555-7293</td></tr><tr><td>LETSS</td><td>Let's Stop N Shop</td><td>Jaime Yorres</td><td>Owner</td><td>87 Polk St. Suite 5</td><td>San Francisco</td><td>CA</td><td>94117</td><td>USA</td><td>(415) 555-5938</td><td>null</td></tr><tr><td>LINOD</td><td>LINO-Delicateses</td><td>Felipe Izquierdo</td><td>Owner</td><td>Ave. 5 de Mayo Porlamar</td><td>I. de Margarita</td><td>Nueva Esparta</td><td>4980</td><td>Venezuela</td><td>(8) 34-56-12</td><td>(8) 34-93-93</td></tr><tr><td>LONEP</td><td>Lonesome Pine Restaurant</td><td>Fran Wilson</td><td>Sales Manager</td><td>89 Chiaroscuro Rd.</td><td>Portland</td><td>OR</td><td>97219</td><td>USA</td><td>(503) 555-9573</td><td>(503) 555-9646</td></tr><tr><td>MAGAA</td><td>Magazzini Alimentari Riuniti</td><td>Giovanni Rovelli</td><td>Marketing Manager</td><td>Via Ludovico il Moro 22</td><td>Bergamo</td><td>null</td><td>24100</td><td>Italy</td><td>035-640230</td><td>035-640231</td></tr><tr><td>MAISD</td><td>Maison Dewey</td><td>Catherine Dewey</td><td>Sales Agent</td><td>Rue Joseph-Bens 532</td><td>Bruxelles</td><td>null</td><td>B-1180</td><td>Belgium</td><td>(02) 201 24 67</td><td>(02) 201 24 68</td></tr><tr><td>MORGK</td><td>Morgenstern Gesundkost</td><td>Alexander Feuer</td><td>Marketing Assistant</td><td>Heerstr. 22</td><td>Leipzig</td><td>null</td><td>04179</td><td>Germany</td><td>0342-023176</td><td>null</td></tr><tr><td>NORTS</td><td>North/South</td><td>Simon Crowther</td><td>Sales Associate</td><td>South House 300 Queensbridge</td><td>London</td><td>null</td><td>SW7 1RZ</td><td>UK</td><td>(171) 555-7733</td><td>(171) 555-2530</td></tr><tr><td>OLDWO</td><td>Old World Delicatessen</td><td>Rene Phillips</td><td>Sales Representative</td><td>2743 Bering St.</td><td>Anchorage</td><td>AK</td><td>99508</td><td>USA</td><td>(907) 555-7584</td><td>(907) 555-2880</td></tr><tr><td>PARIS</td><td>Paris spécialités</td><td>Marie Bertrand</td><td>Owner</td><td>265, boulevard Charonne</td><td>Paris</td><td>null</td><td>75012</td><td>France</td><td>(1) 42.34.22.66</td><td>(1) 42.34.22.77</td></tr><tr><td>PRINI</td><td>Princesa Isabel Vinhos</td><td>Isabel de Castro</td><td>Sales Representative</td><td>Estrada da saúde n. 58</td><td>Lisboa</td><td>null</td><td>1756</td><td>Portugal</td><td>(1) 356-5634</td><td>null</td></tr><tr><td>QUICK</td><td>QUICK-Stop</td><td>Horst Kloss</td><td>Accounting Manager</td><td>Taucherstraße 10</td><td>Cunewalde</td><td>null</td><td>01307</td><td>Germany</td><td>0372-035188</td><td>null</td></tr><tr><td>RANCH</td><td>Rancho grande</td><td>Sergio Gutiérrez</td><td>Sales Representative</td><td>Av. del Libertador 900</td><td>Buenos Aires</td><td>null</td><td>1010</td><td>Argentina</td><td>(1) 123-5555</td><td>(1) 123-5556</td></tr><tr><td>RICAR</td><td>Ricardo Adocicados</td><td>Janete Limeira</td><td>Assistant Sales Agent</td><td>Av. Copacabana, 267</td><td>Rio de Janeiro</td><td>RJ</td><td>02389-890</td><td>Brazil</td><td>(21) 555-3412</td><td>null</td></tr><tr><td>RICSU</td><td>Richter Supermarkt</td><td>Michael Holz</td><td>Sales Manager</td><td>Grenzacherweg 237</td><td>Genève</td><td>null</td><td>1203</td><td>Switzerland</td><td>0897-034214</td><td>null</td></tr><tr><td>ROMEY</td><td>Romero y tomillo</td><td>Alejandra Camino</td><td>Accounting Manager</td><td>Gran Vía, 1</td><td>Madrid</td><td>null</td><td>28001</td><td>Spain</td><td>(91) 745 6200</td><td>(91) 745 6210</td></tr><tr><td>SANTG</td><td>Santé Gourmet</td><td>Jonas Bergulfsen</td><td>Owner</td><td>Erling Skakkes gate 78</td><td>Stavern</td><td>null</td><td>4110</td><td>Norway</td><td>07-98 92 35</td><td>07-98 92 47</td></tr><tr><td>SAVEA</td><td>Save-a-lot Markets</td><td>Jose Pavarotti</td><td>Sales Representative</td><td>187 Suffolk Ln.</td><td>Boise</td><td>ID</td><td>83720</td><td>USA</td><td>(208) 555-8097</td><td>null</td></tr><tr><td>SIMOB</td><td>Simons bistro</td><td>Jytte Petersen</td><td>Owner</td><td>Vinbæltet 34</td><td>Kobenhavn</td><td>null</td><td>1734</td><td>Denmark</td><td>31 12 34 56</td><td>31 13 35 57</td></tr><tr><td>SPLIR</td><td>Split Rail Beer & Ale</td><td>Art Braunschweiger</td><td>Sales Manager</td><td>P.O. Box 555</td><td>Lander</td><td>WY</td><td>82520</td><td>USA</td><td>(307) 555-4680</td><td>(307) 555-6525</td></tr><tr><td>SUPRD</td><td>Suprêmes délices</td><td>Pascale Cartrain</td><td>Accounting Manager</td><td>Boulevard Tirou, 255</td><td>Charleroi</td><td>null</td><td>B-6000</td><td>Belgium</td><td>(071) 23 67 22 20</td><td>(071) 23 67 22 21</td></tr><tr><td>THEBI</td><td>The Big Cheese</td><td>Liz Nixon</td><td>Marketing Manager</td><td>89 Jefferson Way Suite 2</td><td>Portland</td><td>OR</td><td>97201</td><td>USA</td><td>(503) 555-3612</td><td>null</td></tr><tr><td>THECR</td><td>The Cracker Box</td><td>Liu Wong</td><td>Marketing Assistant</td><td>55 Grizzly Peak Rd.</td><td>Butte</td><td>MT</td><td>59801</td><td>USA</td><td>(406) 555-5834</td><td>(406) 555-8083</td></tr><tr><td>TOMSP</td><td>Toms Spezialitäten</td><td>Karin Josephs</td><td>Marketing Manager</td><td>Luisenstr. 48</td><td>Münster</td><td>null</td><td>44087</td><td>Germany</td><td>0251-031259</td><td>0251-035695</td></tr><tr><td>TRADH</td><td>Tradição Hipermercados</td><td>Anabela Domingues</td><td>Sales Representative</td><td>Av. Inês de Castro, 414</td><td>Sao Paulo</td><td>SP</td><td>05634-030</td><td>Brazil</td><td>(11) 555-2167</td><td>(11) 555-2168</td></tr><tr><td>TRAIH</td><td>Trail's Head Gourmet Provisioners</td><td>Helvetius Nagy</td><td>Sales Associate</td><td>722 DaVinci Blvd.</td><td>Kirkland</td><td>WA</td><td>98034</td><td>USA</td><td>(206) 555-8257</td><td>(206) 555-2174</td></tr><tr><td>VAFFE</td><td>Vaffeljernet</td><td>Palle Ibsen</td><td>Sales Manager</td><td>Smagsloget 45</td><td>Århus</td><td>null</td><td>8200</td><td>Denmark</td><td>86 21 32 43</td><td>86 22 33 44</td></tr><tr><td>VICTE</td><td>Victuailles en stock</td><td>Mary Saveley</td><td>Sales Agent</td><td>2, rue du Commerce</td><td>Lyon</td><td>null</td><td>69004</td><td>France</td><td>78.32.54.86</td><td>78.32.54.87</td></tr><tr><td>WANDK</td><td>Die Wandernde Kuh</td><td>Rita Müller</td><td>Sales Representative</td><td>Adenauerallee 900</td><td>Stuttgart</td><td>null</td><td>70563</td><td>Germany</td><td>0711-020361</td><td>0711-035428</td></tr><tr><td>WELLI</td><td>Wellington Importadora</td><td>Paula Parente</td><td>Sales Manager</td><td>Rua do Mercado, 12</td><td>Resende</td><td>SP</td><td>08737-363</td><td>Brazil</td><td>(14) 555-8122</td><td>null</td></tr><tr><td>WHITC</td><td>White Clover Markets</td><td>Karl Jablonski</td><td>Owner</td><td>305 - 14th Ave. S. Suite 3B</td><td>Seattle</td><td>WA</td><td>98128</td><td>USA</td><td>(206) 555-4112</td><td>(206) 555-4115</td></tr><tr><td>WILMK</td><td>Wilman Kala</td><td>Matti Karttunen</td><td>Owner/Marketing Assistant</td><td>Keskuskatu 45</td><td>Helsinki</td><td>null</td><td>21240</td><td>Finland</td><td>90-224 8858</td><td>90-224 8858</td></tr><tr><td>WOLZA</td><td>Wolski  Zajazd</td><td>Zbyszek Piestrzeniewicz</td><td>Owner</td><td>ul. Filtrowa 68</td><td>Warszawa</td><td>null</td><td>01-012</td><td>Poland</td><td>(26) 642-7012</td><td>(26) 642-7012</td></tr></tbody></table></div>"
      ]
     },
     "metadata": {
      "application/vnd.databricks.v1+output": {
       "addedWidgets": {},
       "aggData": [],
       "aggError": "",
       "aggOverflow": false,
       "aggSchema": [],
       "aggSeriesLimitReached": false,
       "aggType": "",
       "arguments": {},
       "columnCustomDisplayInfos": {},
       "data": [
        [
         "ALFKI",
         "Alfreds Futterkiste",
         "Maria Anders",
         "Sales Representative",
         "Obere Str. 57",
         "Berlin",
         null,
         "12209",
         "Germany",
         "030-0074321",
         "030-0076545"
        ],
        [
         "AROUT",
         "Around the Horn",
         "Thomas Hardy",
         "Sales Representative",
         "120 Hanover Sq.",
         "London",
         null,
         "WA1 1DP",
         "UK",
         "(171) 555-7788",
         "(171) 555-6750"
        ],
        [
         "BERGS",
         "Berglunds snabbköp",
         "Christina Berglund",
         "Order Administrator",
         "Berguvsvägen  8",
         "Luleå",
         null,
         "S-958 22",
         "Sweden",
         "0921-12 34 65",
         "0921-12 34 67"
        ],
        [
         "BOLID",
         "Bólido Comidas preparadas",
         "Martín Sommer",
         "Owner",
         "C/ Araquil, 67",
         "Madrid",
         null,
         "28023",
         "Spain",
         "(91) 555 22 82",
         "(91) 555 91 99"
        ],
        [
         "BONAP",
         "Bon app'",
         "Laurence Lebihan",
         "Owner",
         "12, rue des Bouchers",
         "Marseille",
         null,
         "13008",
         "France",
         "91.24.45.40",
         "91.24.45.41"
        ],
        [
         "BSBEV",
         "B's Beverages",
         "Victoria Ashworth",
         "Sales Representative",
         "Fauntleroy Circus",
         "London",
         null,
         "EC2 5NT",
         "UK",
         "(171) 555-1212",
         null
        ],
        [
         "CACTU",
         "Cactus Comidas para llevar",
         "Patricio Simpson",
         "Sales Agent",
         "Cerrito 333",
         "Buenos Aires",
         null,
         "1010",
         "Argentina",
         "(1) 135-5555",
         "(1) 135-4892"
        ],
        [
         "CENTC",
         "Centro comercial Moctezuma",
         "Francisco Chang",
         "Marketing Manager",
         "Sierras de Granada 9993",
         "México D.F.",
         null,
         "05022",
         "Mexico",
         "(5) 555-3392",
         "(5) 555-7293"
        ],
        [
         "CHOPS",
         "Chop-suey Chinese",
         "Yang Wang",
         "Owner",
         "Hauptstr. 29",
         "Bern",
         null,
         "3012",
         "Switzerland",
         "0452-076545",
         null
        ],
        [
         "CONSH",
         "Consolidated Holdings",
         "Elizabeth Brown",
         "Sales Representative",
         "Berkeley Gardens 12  Brewery",
         "London",
         null,
         "WX1 6LT",
         "UK",
         "(171) 555-2282",
         "(171) 555-9199"
        ],
        [
         "DUMON",
         "Du monde entier",
         "Janine Labrune",
         "Owner",
         "67, rue des Cinquante Otages",
         "Nantes",
         null,
         "44000",
         "France",
         "40.67.88.88",
         "40.67.89.89"
        ],
        [
         "FAMIA",
         "Familia Arquibaldo",
         "Aria Cruz",
         "Marketing Assistant",
         "Rua Orós, 92",
         "Sao Paulo",
         "SP",
         "05442-030",
         "Brazil",
         "(11) 555-9857",
         null
        ],
        [
         "FISSA",
         "FISSA Fabrica Inter. Salchichas S.A.",
         "Diego Roel",
         "Accounting Manager",
         "C/ Moralzarzal, 86",
         "Madrid",
         null,
         "28034",
         "Spain",
         "(91) 555 94 44",
         "(91) 555 55 93"
        ],
        [
         "FOLIG",
         "Folies gourmandes",
         "Martine Rancé",
         "Assistant Sales Agent",
         "184, chaussée de Tournai",
         "Lille",
         null,
         "59000",
         "France",
         "20.16.10.16",
         "20.16.10.17"
        ],
        [
         "FRANK",
         "Frankenversand",
         "Peter Franken",
         "Marketing Manager",
         "Berliner Platz 43",
         "München",
         null,
         "80805",
         "Germany",
         "089-0877310",
         "089-0877451"
        ],
        [
         "FRANR",
         "France restauration",
         "Carine Schmitt",
         "Marketing Manager",
         "54, rue Royale",
         "Nantes",
         null,
         "44000",
         "France",
         "40.32.21.21",
         "40.32.21.20"
        ],
        [
         "FRANS",
         "Franchi S.p.A.",
         "Paolo Accorti",
         "Sales Representative",
         "Via Monte Bianco 34",
         "Torino",
         null,
         "10100",
         "Italy",
         "011-4988260",
         "011-4988261"
        ],
        [
         "FURIB",
         "Furia Bacalhau e Frutos do Mar",
         "Lino Rodriguez",
         "Sales Manager",
         "Jardim das rosas n. 32",
         "Lisboa",
         null,
         "1675",
         "Portugal",
         "(1) 354-2534",
         "(1) 354-2535"
        ],
        [
         "GALED",
         "Galería del gastrónomo",
         "Eduardo Saavedra",
         "Marketing Manager",
         "Rambla de Cataluña, 23",
         "Barcelona",
         null,
         "08022",
         "Spain",
         "(93) 203 4560",
         "(93) 203 4561"
        ],
        [
         "GODOS",
         "Godos Cocina Típica",
         "José Pedro Freyre",
         "Sales Manager",
         "C/ Romero, 33",
         "Sevilla",
         null,
         "41101",
         "Spain",
         "(95) 555 82 82",
         null
        ],
        [
         "GOURL",
         "Gourmet Lanchonetes",
         "André Fonseca",
         "Sales Associate",
         "Av. Brasil, 442",
         "Campinas",
         "SP",
         "04876-786",
         "Brazil",
         "(11) 555-9482",
         null
        ],
        [
         "GROSR",
         "GROSELLA-Restaurante",
         "Manuel Pereira",
         "Owner",
         "5ª Ave. Los Palos Grandes",
         "Caracas",
         "DF",
         "1081",
         "Venezuela",
         "(2) 283-2951",
         "(2) 283-3397"
        ],
        [
         "HUNGC",
         "Hungry Coyote Import Store",
         "Yoshi Latimer",
         "Sales Representative",
         "City Center Plaza 516 Main St.",
         "Elgin",
         "OR",
         "97827",
         "USA",
         "(503) 555-6874",
         "(503) 555-2376"
        ],
        [
         "ISLAT",
         "Island Trading",
         "Helen Bennett",
         "Marketing Manager",
         "Garden House Crowther Way",
         "Cowes",
         "Isle of Wight",
         "PO31 7PJ",
         "UK",
         "(198) 555-8888",
         null
        ],
        [
         "LACOR",
         "La corne d'abondance",
         "Daniel Tonini",
         "Sales Representative",
         "67, avenue de l'Europe",
         "Versailles",
         null,
         "78000",
         "France",
         "30.59.84.10",
         "30.59.85.11"
        ],
        [
         "LAMAI",
         "La maison d'Asie",
         "Annette Roulet",
         "Sales Manager",
         "1 rue Alsace-Lorraine",
         "Toulouse",
         null,
         "31000",
         "France",
         "61.77.61.10",
         "61.77.61.11"
        ],
        [
         "LAUGB",
         "Laughing Bacchus Wine Cellars",
         "Yoshi Tannamuri",
         "Marketing Assistant",
         "1900 Oak St.",
         "Vancouver",
         "BC",
         "V3F 2K1",
         "Canada",
         "(604) 555-3392",
         "(604) 555-7293"
        ],
        [
         "LETSS",
         "Let's Stop N Shop",
         "Jaime Yorres",
         "Owner",
         "87 Polk St. Suite 5",
         "San Francisco",
         "CA",
         "94117",
         "USA",
         "(415) 555-5938",
         null
        ],
        [
         "LINOD",
         "LINO-Delicateses",
         "Felipe Izquierdo",
         "Owner",
         "Ave. 5 de Mayo Porlamar",
         "I. de Margarita",
         "Nueva Esparta",
         "4980",
         "Venezuela",
         "(8) 34-56-12",
         "(8) 34-93-93"
        ],
        [
         "LONEP",
         "Lonesome Pine Restaurant",
         "Fran Wilson",
         "Sales Manager",
         "89 Chiaroscuro Rd.",
         "Portland",
         "OR",
         "97219",
         "USA",
         "(503) 555-9573",
         "(503) 555-9646"
        ],
        [
         "MAGAA",
         "Magazzini Alimentari Riuniti",
         "Giovanni Rovelli",
         "Marketing Manager",
         "Via Ludovico il Moro 22",
         "Bergamo",
         null,
         "24100",
         "Italy",
         "035-640230",
         "035-640231"
        ],
        [
         "MAISD",
         "Maison Dewey",
         "Catherine Dewey",
         "Sales Agent",
         "Rue Joseph-Bens 532",
         "Bruxelles",
         null,
         "B-1180",
         "Belgium",
         "(02) 201 24 67",
         "(02) 201 24 68"
        ],
        [
         "MORGK",
         "Morgenstern Gesundkost",
         "Alexander Feuer",
         "Marketing Assistant",
         "Heerstr. 22",
         "Leipzig",
         null,
         "04179",
         "Germany",
         "0342-023176",
         null
        ],
        [
         "NORTS",
         "North/South",
         "Simon Crowther",
         "Sales Associate",
         "South House 300 Queensbridge",
         "London",
         null,
         "SW7 1RZ",
         "UK",
         "(171) 555-7733",
         "(171) 555-2530"
        ],
        [
         "OLDWO",
         "Old World Delicatessen",
         "Rene Phillips",
         "Sales Representative",
         "2743 Bering St.",
         "Anchorage",
         "AK",
         "99508",
         "USA",
         "(907) 555-7584",
         "(907) 555-2880"
        ],
        [
         "PARIS",
         "Paris spécialités",
         "Marie Bertrand",
         "Owner",
         "265, boulevard Charonne",
         "Paris",
         null,
         "75012",
         "France",
         "(1) 42.34.22.66",
         "(1) 42.34.22.77"
        ],
        [
         "PRINI",
         "Princesa Isabel Vinhos",
         "Isabel de Castro",
         "Sales Representative",
         "Estrada da saúde n. 58",
         "Lisboa",
         null,
         "1756",
         "Portugal",
         "(1) 356-5634",
         null
        ],
        [
         "QUICK",
         "QUICK-Stop",
         "Horst Kloss",
         "Accounting Manager",
         "Taucherstraße 10",
         "Cunewalde",
         null,
         "01307",
         "Germany",
         "0372-035188",
         null
        ],
        [
         "RANCH",
         "Rancho grande",
         "Sergio Gutiérrez",
         "Sales Representative",
         "Av. del Libertador 900",
         "Buenos Aires",
         null,
         "1010",
         "Argentina",
         "(1) 123-5555",
         "(1) 123-5556"
        ],
        [
         "RICAR",
         "Ricardo Adocicados",
         "Janete Limeira",
         "Assistant Sales Agent",
         "Av. Copacabana, 267",
         "Rio de Janeiro",
         "RJ",
         "02389-890",
         "Brazil",
         "(21) 555-3412",
         null
        ],
        [
         "RICSU",
         "Richter Supermarkt",
         "Michael Holz",
         "Sales Manager",
         "Grenzacherweg 237",
         "Genève",
         null,
         "1203",
         "Switzerland",
         "0897-034214",
         null
        ],
        [
         "ROMEY",
         "Romero y tomillo",
         "Alejandra Camino",
         "Accounting Manager",
         "Gran Vía, 1",
         "Madrid",
         null,
         "28001",
         "Spain",
         "(91) 745 6200",
         "(91) 745 6210"
        ],
        [
         "SANTG",
         "Santé Gourmet",
         "Jonas Bergulfsen",
         "Owner",
         "Erling Skakkes gate 78",
         "Stavern",
         null,
         "4110",
         "Norway",
         "07-98 92 35",
         "07-98 92 47"
        ],
        [
         "SAVEA",
         "Save-a-lot Markets",
         "Jose Pavarotti",
         "Sales Representative",
         "187 Suffolk Ln.",
         "Boise",
         "ID",
         "83720",
         "USA",
         "(208) 555-8097",
         null
        ],
        [
         "SIMOB",
         "Simons bistro",
         "Jytte Petersen",
         "Owner",
         "Vinbæltet 34",
         "Kobenhavn",
         null,
         "1734",
         "Denmark",
         "31 12 34 56",
         "31 13 35 57"
        ],
        [
         "SPLIR",
         "Split Rail Beer & Ale",
         "Art Braunschweiger",
         "Sales Manager",
         "P.O. Box 555",
         "Lander",
         "WY",
         "82520",
         "USA",
         "(307) 555-4680",
         "(307) 555-6525"
        ],
        [
         "SUPRD",
         "Suprêmes délices",
         "Pascale Cartrain",
         "Accounting Manager",
         "Boulevard Tirou, 255",
         "Charleroi",
         null,
         "B-6000",
         "Belgium",
         "(071) 23 67 22 20",
         "(071) 23 67 22 21"
        ],
        [
         "THEBI",
         "The Big Cheese",
         "Liz Nixon",
         "Marketing Manager",
         "89 Jefferson Way Suite 2",
         "Portland",
         "OR",
         "97201",
         "USA",
         "(503) 555-3612",
         null
        ],
        [
         "THECR",
         "The Cracker Box",
         "Liu Wong",
         "Marketing Assistant",
         "55 Grizzly Peak Rd.",
         "Butte",
         "MT",
         "59801",
         "USA",
         "(406) 555-5834",
         "(406) 555-8083"
        ],
        [
         "TOMSP",
         "Toms Spezialitäten",
         "Karin Josephs",
         "Marketing Manager",
         "Luisenstr. 48",
         "Münster",
         null,
         "44087",
         "Germany",
         "0251-031259",
         "0251-035695"
        ],
        [
         "TRADH",
         "Tradição Hipermercados",
         "Anabela Domingues",
         "Sales Representative",
         "Av. Inês de Castro, 414",
         "Sao Paulo",
         "SP",
         "05634-030",
         "Brazil",
         "(11) 555-2167",
         "(11) 555-2168"
        ],
        [
         "TRAIH",
         "Trail's Head Gourmet Provisioners",
         "Helvetius Nagy",
         "Sales Associate",
         "722 DaVinci Blvd.",
         "Kirkland",
         "WA",
         "98034",
         "USA",
         "(206) 555-8257",
         "(206) 555-2174"
        ],
        [
         "VAFFE",
         "Vaffeljernet",
         "Palle Ibsen",
         "Sales Manager",
         "Smagsloget 45",
         "Århus",
         null,
         "8200",
         "Denmark",
         "86 21 32 43",
         "86 22 33 44"
        ],
        [
         "VICTE",
         "Victuailles en stock",
         "Mary Saveley",
         "Sales Agent",
         "2, rue du Commerce",
         "Lyon",
         null,
         "69004",
         "France",
         "78.32.54.86",
         "78.32.54.87"
        ],
        [
         "WANDK",
         "Die Wandernde Kuh",
         "Rita Müller",
         "Sales Representative",
         "Adenauerallee 900",
         "Stuttgart",
         null,
         "70563",
         "Germany",
         "0711-020361",
         "0711-035428"
        ],
        [
         "WELLI",
         "Wellington Importadora",
         "Paula Parente",
         "Sales Manager",
         "Rua do Mercado, 12",
         "Resende",
         "SP",
         "08737-363",
         "Brazil",
         "(14) 555-8122",
         null
        ],
        [
         "WHITC",
         "White Clover Markets",
         "Karl Jablonski",
         "Owner",
         "305 - 14th Ave. S. Suite 3B",
         "Seattle",
         "WA",
         "98128",
         "USA",
         "(206) 555-4112",
         "(206) 555-4115"
        ],
        [
         "WILMK",
         "Wilman Kala",
         "Matti Karttunen",
         "Owner/Marketing Assistant",
         "Keskuskatu 45",
         "Helsinki",
         null,
         "21240",
         "Finland",
         "90-224 8858",
         "90-224 8858"
        ],
        [
         "WOLZA",
         "Wolski  Zajazd",
         "Zbyszek Piestrzeniewicz",
         "Owner",
         "ul. Filtrowa 68",
         "Warszawa",
         null,
         "01-012",
         "Poland",
         "(26) 642-7012",
         "(26) 642-7012"
        ]
       ],
       "datasetInfos": [],
       "dbfsResultPath": null,
       "isJsonSchema": true,
       "metadata": {},
       "overflow": false,
       "plotOptions": {
        "customPlotOptions": {},
        "displayType": "table",
        "pivotAggregation": null,
        "pivotColumns": null,
        "xColumns": null,
        "yColumns": null
       },
       "removedWidgets": [],
       "schema": [
        {
         "metadata": "{}",
         "name": "CustomerID",
         "type": "\"string\""
        },
        {
         "metadata": "{}",
         "name": "CompanyName",
         "type": "\"string\""
        },
        {
         "metadata": "{}",
         "name": "ContactName",
         "type": "\"string\""
        },
        {
         "metadata": "{}",
         "name": "ContactTitle",
         "type": "\"string\""
        },
        {
         "metadata": "{}",
         "name": "Address",
         "type": "\"string\""
        },
        {
         "metadata": "{}",
         "name": "City",
         "type": "\"string\""
        },
        {
         "metadata": "{}",
         "name": "Region",
         "type": "\"string\""
        },
        {
         "metadata": "{}",
         "name": "PostalCode",
         "type": "\"string\""
        },
        {
         "metadata": "{}",
         "name": "Country",
         "type": "\"string\""
        },
        {
         "metadata": "{}",
         "name": "Phone",
         "type": "\"string\""
        },
        {
         "metadata": "{}",
         "name": "Fax",
         "type": "\"string\""
        }
       ],
       "type": "table"
      }
     },
     "output_type": "display_data"
    }
   ],
   "source": [
    "customers.join(customers_with_queso, \n",
    "               customers['CustomerID'] == customers_with_queso['CustomerID'], 'left_anti').display()"
   ]
  },
  {
   "cell_type": "markdown",
   "metadata": {
    "application/vnd.databricks.v1+cell": {
     "cellMetadata": {
      "byteLimit": 2048000,
      "rowLimit": 10000
     },
     "inputWidgets": {},
     "nuid": "75a88a27-b85b-4549-8ce1-10965918e575",
     "showTitle": false,
     "title": ""
    }
   },
   "source": [
    "#### Method 2"
   ]
  },
  {
   "cell_type": "code",
   "execution_count": 0,
   "metadata": {
    "application/vnd.databricks.v1+cell": {
     "cellMetadata": {
      "byteLimit": 2048000,
      "rowLimit": 10000
     },
     "inputWidgets": {},
     "nuid": "13897f75-ee13-49f5-8404-3d84f732f5cd",
     "showTitle": false,
     "title": ""
    }
   },
   "outputs": [
    {
     "output_type": "execute_result",
     "data": {
      "text/plain": [
       "59"
      ]
     },
     "execution_count": 29,
     "metadata": {},
     "output_type": "execute_result"
    }
   ],
   "source": [
    "# 1. Join Orders and Products table where product_name in products table is Queso Cabrales and get the distinct customers id list.\n",
    "# 2. Perform a left_anti join  on the Customers with the resulted customers ids and get the customers who didn't brought the Queso Cabrales.\n",
    "customers.join(orders.join(products.filter(col('ProductName')==\"Queso Cabrales\").select(\"ProductID\"), \n",
    "            products['ProductID']==orders['ProductID'], 'inner').select(\"CustomerID\").distinct(),\n",
    "            on='CustomerID', how='left_anti').count()"
   ]
  },
  {
   "cell_type": "markdown",
   "metadata": {
    "application/vnd.databricks.v1+cell": {
     "cellMetadata": {
      "byteLimit": 2048000,
      "rowLimit": 10000
     },
     "inputWidgets": {},
     "nuid": "95297221-23a5-4ee7-aacd-38efa14a4dcd",
     "showTitle": false,
     "title": ""
    }
   },
   "source": [
    "### 15. How many customers have purchased only Queso Cabrales (per OrderID)?"
   ]
  },
  {
   "cell_type": "code",
   "execution_count": 0,
   "metadata": {
    "application/vnd.databricks.v1+cell": {
     "cellMetadata": {
      "byteLimit": 2048000,
      "rowLimit": 10000
     },
     "inputWidgets": {},
     "nuid": "4bd24e0c-4aae-4532-a3ca-d4b88d2004eb",
     "showTitle": false,
     "title": ""
    }
   },
   "outputs": [
    {
     "output_type": "display_data",
     "data": {
      "text/html": [
       "<style scoped>\n",
       "  .table-result-container {\n",
       "    max-height: 300px;\n",
       "    overflow: auto;\n",
       "  }\n",
       "  table, th, td {\n",
       "    border: 1px solid black;\n",
       "    border-collapse: collapse;\n",
       "  }\n",
       "  th, td {\n",
       "    padding: 5px;\n",
       "  }\n",
       "  th {\n",
       "    text-align: left;\n",
       "  }\n",
       "</style><div class='table-result-container'><table class='table-result'><thead style='background-color: white'><tr><th>CustomerID</th></tr></thead><tbody><tr><td>SPECD</td></tr><tr><td>LAZYK</td></tr><tr><td>ANTON</td></tr><tr><td>HANAR</td></tr><tr><td>DRACD</td></tr></tbody></table></div>"
      ]
     },
     "metadata": {
      "application/vnd.databricks.v1+output": {
       "addedWidgets": {},
       "aggData": [],
       "aggError": "",
       "aggOverflow": false,
       "aggSchema": [],
       "aggSeriesLimitReached": false,
       "aggType": "",
       "arguments": {},
       "columnCustomDisplayInfos": {},
       "data": [
        [
         "SPECD"
        ],
        [
         "LAZYK"
        ],
        [
         "ANTON"
        ],
        [
         "HANAR"
        ],
        [
         "DRACD"
        ]
       ],
       "datasetInfos": [],
       "dbfsResultPath": null,
       "isJsonSchema": true,
       "metadata": {},
       "overflow": false,
       "plotOptions": {
        "customPlotOptions": {},
        "displayType": "table",
        "pivotAggregation": null,
        "pivotColumns": null,
        "xColumns": null,
        "yColumns": null
       },
       "removedWidgets": [],
       "schema": [
        {
         "metadata": "{}",
         "name": "CustomerID",
         "type": "\"string\""
        }
       ],
       "type": "table"
      }
     },
     "output_type": "display_data"
    }
   ],
   "source": [
    "# 1. find the customers who only brought one product in a given order\n",
    "# 2. filter the orders table with product_id for Queso Cabrales\n",
    "# 3. Join the customers and orders table and display the result.\n",
    "\n",
    "Customers_with_one_product = orders.groupBy('CustomerID', 'OrderID').agg(count('ProductID').alias(\"ProductCount\")).filter(col(\"ProductCount\")==1)\n",
    "\n",
    "orders_with_only_queso = orders.filter(col(\"ProductID\") == product_id)\n",
    "\n",
    "Customers_with_one_product.join(orders_with_only_queso, on='OrderID', how=\"inner\")\\\n",
    "    .select(Customers_with_one_product['CustomerID']).display()"
   ]
  },
  {
   "cell_type": "markdown",
   "metadata": {
    "application/vnd.databricks.v1+cell": {
     "cellMetadata": {
      "byteLimit": 2048000,
      "rowLimit": 10000
     },
     "inputWidgets": {},
     "nuid": "a9eab23b-cddb-4fa6-b6aa-6c3f24ceb90a",
     "showTitle": false,
     "title": ""
    }
   },
   "source": [
    "\n",
    "### 16. How many products are out of stock?"
   ]
  },
  {
   "cell_type": "code",
   "execution_count": 0,
   "metadata": {
    "application/vnd.databricks.v1+cell": {
     "cellMetadata": {
      "byteLimit": 2048000,
      "rowLimit": 10000
     },
     "inputWidgets": {},
     "nuid": "c8c79744-a04a-485b-857d-03bad7f0faa2",
     "showTitle": false,
     "title": ""
    }
   },
   "outputs": [
    {
     "output_type": "display_data",
     "data": {
      "text/html": [
       "<style scoped>\n",
       "  .table-result-container {\n",
       "    max-height: 300px;\n",
       "    overflow: auto;\n",
       "  }\n",
       "  table, th, td {\n",
       "    border: 1px solid black;\n",
       "    border-collapse: collapse;\n",
       "  }\n",
       "  th, td {\n",
       "    padding: 5px;\n",
       "  }\n",
       "  th {\n",
       "    text-align: left;\n",
       "  }\n",
       "</style><div class='table-result-container'><table class='table-result'><thead style='background-color: white'><tr><th>ProductID</th><th>ProductName</th><th>SupplierID</th><th>CategoryID</th><th>QuantityPerUnit</th><th>UnitPrice</th><th>UnitsInStock</th><th>UnitsOnOrder</th><th>ReorderLevel</th><th>Discontinued</th></tr></thead><tbody><tr><td>31</td><td>Gorgonzola Telino</td><td>14</td><td>4</td><td>12 - 100 g pkgs</td><td>12.5</td><td>0</td><td>70</td><td>20</td><td>false</td></tr></tbody></table></div>"
      ]
     },
     "metadata": {
      "application/vnd.databricks.v1+output": {
       "addedWidgets": {},
       "aggData": [],
       "aggError": "",
       "aggOverflow": false,
       "aggSchema": [],
       "aggSeriesLimitReached": false,
       "aggType": "",
       "arguments": {},
       "columnCustomDisplayInfos": {},
       "data": [
        [
         31,
         "Gorgonzola Telino",
         14,
         4,
         "12 - 100 g pkgs",
         12.5,
         0,
         70,
         20,
         false
        ]
       ],
       "datasetInfos": [],
       "dbfsResultPath": null,
       "isJsonSchema": true,
       "metadata": {},
       "overflow": false,
       "plotOptions": {
        "customPlotOptions": {},
        "displayType": "table",
        "pivotAggregation": null,
        "pivotColumns": null,
        "xColumns": null,
        "yColumns": null
       },
       "removedWidgets": [],
       "schema": [
        {
         "metadata": "{}",
         "name": "ProductID",
         "type": "\"integer\""
        },
        {
         "metadata": "{}",
         "name": "ProductName",
         "type": "\"string\""
        },
        {
         "metadata": "{}",
         "name": "SupplierID",
         "type": "\"integer\""
        },
        {
         "metadata": "{}",
         "name": "CategoryID",
         "type": "\"integer\""
        },
        {
         "metadata": "{}",
         "name": "QuantityPerUnit",
         "type": "\"string\""
        },
        {
         "metadata": "{}",
         "name": "UnitPrice",
         "type": "\"double\""
        },
        {
         "metadata": "{}",
         "name": "UnitsInStock",
         "type": "\"integer\""
        },
        {
         "metadata": "{}",
         "name": "UnitsOnOrder",
         "type": "\"integer\""
        },
        {
         "metadata": "{}",
         "name": "ReorderLevel",
         "type": "\"integer\""
        },
        {
         "metadata": "{}",
         "name": "Discontinued",
         "type": "\"boolean\""
        }
       ],
       "type": "table"
      }
     },
     "output_type": "display_data"
    }
   ],
   "source": [
    "# 1. Filter the products table where Units in Stock is zero and discontinued is false and display the result\n",
    "products.filter((col(\"UnitsInStock\")==0) & (col(\"Discontinued\")==False)).display()"
   ]
  },
  {
   "cell_type": "markdown",
   "metadata": {
    "application/vnd.databricks.v1+cell": {
     "cellMetadata": {
      "byteLimit": 2048000,
      "rowLimit": 10000
     },
     "inputWidgets": {},
     "nuid": "b2898949-5b5b-45aa-827b-f7678f5ad703",
     "showTitle": false,
     "title": ""
    }
   },
   "source": [
    "### 17. How many products need to be restocked? (based on restock levels)"
   ]
  },
  {
   "cell_type": "code",
   "execution_count": 0,
   "metadata": {
    "application/vnd.databricks.v1+cell": {
     "cellMetadata": {
      "byteLimit": 2048000,
      "rowLimit": 10000
     },
     "inputWidgets": {},
     "nuid": "7c1a279a-baf0-49cd-913e-05994a055e89",
     "showTitle": false,
     "title": ""
    }
   },
   "outputs": [
    {
     "output_type": "display_data",
     "data": {
      "text/html": [
       "<style scoped>\n",
       "  .table-result-container {\n",
       "    max-height: 300px;\n",
       "    overflow: auto;\n",
       "  }\n",
       "  table, th, td {\n",
       "    border: 1px solid black;\n",
       "    border-collapse: collapse;\n",
       "  }\n",
       "  th, td {\n",
       "    padding: 5px;\n",
       "  }\n",
       "  th {\n",
       "    text-align: left;\n",
       "  }\n",
       "</style><div class='table-result-container'><table class='table-result'><thead style='background-color: white'><tr><th>ProductID</th><th>ProductName</th><th>SupplierID</th><th>CategoryID</th><th>QuantityPerUnit</th><th>UnitPrice</th><th>UnitsInStock</th><th>UnitsOnOrder</th><th>ReorderLevel</th><th>Discontinued</th></tr></thead><tbody><tr><td>2</td><td>Chang</td><td>1</td><td>1</td><td>24 - 12 oz bottles</td><td>19.0</td><td>17</td><td>40</td><td>25</td><td>false</td></tr><tr><td>3</td><td>Aniseed Syrup</td><td>1</td><td>2</td><td>12 - 550 ml bottles</td><td>10.0</td><td>13</td><td>70</td><td>25</td><td>false</td></tr><tr><td>11</td><td>Queso Cabrales</td><td>5</td><td>4</td><td>1 kg pkg.</td><td>21.0</td><td>22</td><td>30</td><td>30</td><td>false</td></tr><tr><td>21</td><td>Sir Rodney's Scones</td><td>8</td><td>3</td><td>24 pkgs. x 4 pieces</td><td>10.0</td><td>3</td><td>40</td><td>5</td><td>false</td></tr><tr><td>30</td><td>Nord-Ost Matjeshering</td><td>13</td><td>8</td><td>10 - 200 g glasses</td><td>25.89</td><td>10</td><td>0</td><td>15</td><td>false</td></tr><tr><td>31</td><td>Gorgonzola Telino</td><td>14</td><td>4</td><td>12 - 100 g pkgs</td><td>12.5</td><td>0</td><td>70</td><td>20</td><td>false</td></tr><tr><td>32</td><td>Mascarpone Fabioli</td><td>14</td><td>4</td><td>24 - 200 g pkgs.</td><td>32.0</td><td>9</td><td>40</td><td>25</td><td>false</td></tr><tr><td>37</td><td>Gravad lax</td><td>17</td><td>8</td><td>12 - 500 g pkgs.</td><td>26.0</td><td>11</td><td>50</td><td>25</td><td>false</td></tr><tr><td>43</td><td>Ipoh Coffee</td><td>20</td><td>1</td><td>16 - 500 g tins</td><td>46.0</td><td>17</td><td>10</td><td>25</td><td>false</td></tr><tr><td>45</td><td>Rogede sild</td><td>21</td><td>8</td><td>1k pkg.</td><td>9.5</td><td>5</td><td>70</td><td>15</td><td>false</td></tr><tr><td>48</td><td>Chocolade</td><td>22</td><td>3</td><td>10 pkgs.</td><td>12.75</td><td>15</td><td>70</td><td>25</td><td>false</td></tr><tr><td>49</td><td>Maxilaku</td><td>23</td><td>3</td><td>24 - 50 g pkgs.</td><td>20.0</td><td>10</td><td>60</td><td>15</td><td>false</td></tr><tr><td>56</td><td>Gnocchi di nonna Alice</td><td>26</td><td>5</td><td>24 - 250 g pkgs.</td><td>38.0</td><td>21</td><td>10</td><td>30</td><td>false</td></tr><tr><td>64</td><td>Wimmers gute Semmelknödel</td><td>12</td><td>5</td><td>20 bags x 4 pieces</td><td>33.25</td><td>22</td><td>80</td><td>30</td><td>false</td></tr><tr><td>66</td><td>Louisiana Hot Spiced Okra</td><td>2</td><td>2</td><td>24 - 8 oz jars</td><td>17.0</td><td>4</td><td>100</td><td>20</td><td>false</td></tr><tr><td>68</td><td>Scottish Longbreads</td><td>8</td><td>3</td><td>10 boxes x 8 pieces</td><td>12.5</td><td>6</td><td>10</td><td>15</td><td>false</td></tr><tr><td>70</td><td>Outback Lager</td><td>7</td><td>1</td><td>24 - 355 ml bottles</td><td>15.0</td><td>15</td><td>10</td><td>30</td><td>false</td></tr><tr><td>74</td><td>Longlife Tofu</td><td>4</td><td>7</td><td>5 kg pkg.</td><td>10.0</td><td>4</td><td>20</td><td>5</td><td>false</td></tr></tbody></table></div>"
      ]
     },
     "metadata": {
      "application/vnd.databricks.v1+output": {
       "addedWidgets": {},
       "aggData": [],
       "aggError": "",
       "aggOverflow": false,
       "aggSchema": [],
       "aggSeriesLimitReached": false,
       "aggType": "",
       "arguments": {},
       "columnCustomDisplayInfos": {},
       "data": [
        [
         2,
         "Chang",
         1,
         1,
         "24 - 12 oz bottles",
         19.0,
         17,
         40,
         25,
         false
        ],
        [
         3,
         "Aniseed Syrup",
         1,
         2,
         "12 - 550 ml bottles",
         10.0,
         13,
         70,
         25,
         false
        ],
        [
         11,
         "Queso Cabrales",
         5,
         4,
         "1 kg pkg.",
         21.0,
         22,
         30,
         30,
         false
        ],
        [
         21,
         "Sir Rodney's Scones",
         8,
         3,
         "24 pkgs. x 4 pieces",
         10.0,
         3,
         40,
         5,
         false
        ],
        [
         30,
         "Nord-Ost Matjeshering",
         13,
         8,
         "10 - 200 g glasses",
         25.89,
         10,
         0,
         15,
         false
        ],
        [
         31,
         "Gorgonzola Telino",
         14,
         4,
         "12 - 100 g pkgs",
         12.5,
         0,
         70,
         20,
         false
        ],
        [
         32,
         "Mascarpone Fabioli",
         14,
         4,
         "24 - 200 g pkgs.",
         32.0,
         9,
         40,
         25,
         false
        ],
        [
         37,
         "Gravad lax",
         17,
         8,
         "12 - 500 g pkgs.",
         26.0,
         11,
         50,
         25,
         false
        ],
        [
         43,
         "Ipoh Coffee",
         20,
         1,
         "16 - 500 g tins",
         46.0,
         17,
         10,
         25,
         false
        ],
        [
         45,
         "Rogede sild",
         21,
         8,
         "1k pkg.",
         9.5,
         5,
         70,
         15,
         false
        ],
        [
         48,
         "Chocolade",
         22,
         3,
         "10 pkgs.",
         12.75,
         15,
         70,
         25,
         false
        ],
        [
         49,
         "Maxilaku",
         23,
         3,
         "24 - 50 g pkgs.",
         20.0,
         10,
         60,
         15,
         false
        ],
        [
         56,
         "Gnocchi di nonna Alice",
         26,
         5,
         "24 - 250 g pkgs.",
         38.0,
         21,
         10,
         30,
         false
        ],
        [
         64,
         "Wimmers gute Semmelknödel",
         12,
         5,
         "20 bags x 4 pieces",
         33.25,
         22,
         80,
         30,
         false
        ],
        [
         66,
         "Louisiana Hot Spiced Okra",
         2,
         2,
         "24 - 8 oz jars",
         17.0,
         4,
         100,
         20,
         false
        ],
        [
         68,
         "Scottish Longbreads",
         8,
         3,
         "10 boxes x 8 pieces",
         12.5,
         6,
         10,
         15,
         false
        ],
        [
         70,
         "Outback Lager",
         7,
         1,
         "24 - 355 ml bottles",
         15.0,
         15,
         10,
         30,
         false
        ],
        [
         74,
         "Longlife Tofu",
         4,
         7,
         "5 kg pkg.",
         10.0,
         4,
         20,
         5,
         false
        ]
       ],
       "datasetInfos": [],
       "dbfsResultPath": null,
       "isJsonSchema": true,
       "metadata": {},
       "overflow": false,
       "plotOptions": {
        "customPlotOptions": {},
        "displayType": "table",
        "pivotAggregation": null,
        "pivotColumns": null,
        "xColumns": null,
        "yColumns": null
       },
       "removedWidgets": [],
       "schema": [
        {
         "metadata": "{}",
         "name": "ProductID",
         "type": "\"integer\""
        },
        {
         "metadata": "{}",
         "name": "ProductName",
         "type": "\"string\""
        },
        {
         "metadata": "{}",
         "name": "SupplierID",
         "type": "\"integer\""
        },
        {
         "metadata": "{}",
         "name": "CategoryID",
         "type": "\"integer\""
        },
        {
         "metadata": "{}",
         "name": "QuantityPerUnit",
         "type": "\"string\""
        },
        {
         "metadata": "{}",
         "name": "UnitPrice",
         "type": "\"double\""
        },
        {
         "metadata": "{}",
         "name": "UnitsInStock",
         "type": "\"integer\""
        },
        {
         "metadata": "{}",
         "name": "UnitsOnOrder",
         "type": "\"integer\""
        },
        {
         "metadata": "{}",
         "name": "ReorderLevel",
         "type": "\"integer\""
        },
        {
         "metadata": "{}",
         "name": "Discontinued",
         "type": "\"boolean\""
        }
       ],
       "type": "table"
      }
     },
     "output_type": "display_data"
    }
   ],
   "source": [
    "# 1. filter the products where units in stock is less than the reorder level.\n",
    "products.filter(col(\"UnitsInStock\") < col(\"ReorderLevel\")).display()"
   ]
  },
  {
   "cell_type": "markdown",
   "metadata": {
    "application/vnd.databricks.v1+cell": {
     "cellMetadata": {
      "byteLimit": 2048000,
      "rowLimit": 10000
     },
     "inputWidgets": {},
     "nuid": "4722d550-f07b-4e87-9b1c-cb2102962096",
     "showTitle": false,
     "title": ""
    }
   },
   "source": [
    "### 18. How many products on order we need to restock?"
   ]
  },
  {
   "cell_type": "code",
   "execution_count": 0,
   "metadata": {
    "application/vnd.databricks.v1+cell": {
     "cellMetadata": {
      "byteLimit": 2048000,
      "rowLimit": 10000
     },
     "inputWidgets": {},
     "nuid": "5e6f228f-201f-44db-8510-0c7b5d45074b",
     "showTitle": false,
     "title": ""
    }
   },
   "outputs": [
    {
     "output_type": "display_data",
     "data": {
      "text/html": [
       "<style scoped>\n",
       "  .table-result-container {\n",
       "    max-height: 300px;\n",
       "    overflow: auto;\n",
       "  }\n",
       "  table, th, td {\n",
       "    border: 1px solid black;\n",
       "    border-collapse: collapse;\n",
       "  }\n",
       "  th, td {\n",
       "    padding: 5px;\n",
       "  }\n",
       "  th {\n",
       "    text-align: left;\n",
       "  }\n",
       "</style><div class='table-result-container'><table class='table-result'><thead style='background-color: white'><tr><th>ProductID</th><th>ProductName</th><th>SupplierID</th><th>CategoryID</th><th>QuantityPerUnit</th><th>UnitPrice</th><th>UnitsInStock</th><th>UnitsOnOrder</th><th>ReorderLevel</th><th>Discontinued</th></tr></thead><tbody><tr><td>2</td><td>Chang</td><td>1</td><td>1</td><td>24 - 12 oz bottles</td><td>19.0</td><td>17</td><td>40</td><td>25</td><td>false</td></tr><tr><td>3</td><td>Aniseed Syrup</td><td>1</td><td>2</td><td>12 - 550 ml bottles</td><td>10.0</td><td>13</td><td>70</td><td>25</td><td>false</td></tr><tr><td>11</td><td>Queso Cabrales</td><td>5</td><td>4</td><td>1 kg pkg.</td><td>21.0</td><td>22</td><td>30</td><td>30</td><td>false</td></tr><tr><td>21</td><td>Sir Rodney's Scones</td><td>8</td><td>3</td><td>24 pkgs. x 4 pieces</td><td>10.0</td><td>3</td><td>40</td><td>5</td><td>false</td></tr><tr><td>31</td><td>Gorgonzola Telino</td><td>14</td><td>4</td><td>12 - 100 g pkgs</td><td>12.5</td><td>0</td><td>70</td><td>20</td><td>false</td></tr><tr><td>32</td><td>Mascarpone Fabioli</td><td>14</td><td>4</td><td>24 - 200 g pkgs.</td><td>32.0</td><td>9</td><td>40</td><td>25</td><td>false</td></tr><tr><td>37</td><td>Gravad lax</td><td>17</td><td>8</td><td>12 - 500 g pkgs.</td><td>26.0</td><td>11</td><td>50</td><td>25</td><td>false</td></tr><tr><td>45</td><td>Rogede sild</td><td>21</td><td>8</td><td>1k pkg.</td><td>9.5</td><td>5</td><td>70</td><td>15</td><td>false</td></tr><tr><td>48</td><td>Chocolade</td><td>22</td><td>3</td><td>10 pkgs.</td><td>12.75</td><td>15</td><td>70</td><td>25</td><td>false</td></tr><tr><td>49</td><td>Maxilaku</td><td>23</td><td>3</td><td>24 - 50 g pkgs.</td><td>20.0</td><td>10</td><td>60</td><td>15</td><td>false</td></tr><tr><td>64</td><td>Wimmers gute Semmelknödel</td><td>12</td><td>5</td><td>20 bags x 4 pieces</td><td>33.25</td><td>22</td><td>80</td><td>30</td><td>false</td></tr><tr><td>66</td><td>Louisiana Hot Spiced Okra</td><td>2</td><td>2</td><td>24 - 8 oz jars</td><td>17.0</td><td>4</td><td>100</td><td>20</td><td>false</td></tr><tr><td>68</td><td>Scottish Longbreads</td><td>8</td><td>3</td><td>10 boxes x 8 pieces</td><td>12.5</td><td>6</td><td>10</td><td>15</td><td>false</td></tr><tr><td>74</td><td>Longlife Tofu</td><td>4</td><td>7</td><td>5 kg pkg.</td><td>10.0</td><td>4</td><td>20</td><td>5</td><td>false</td></tr></tbody></table></div>"
      ]
     },
     "metadata": {
      "application/vnd.databricks.v1+output": {
       "addedWidgets": {},
       "aggData": [],
       "aggError": "",
       "aggOverflow": false,
       "aggSchema": [],
       "aggSeriesLimitReached": false,
       "aggType": "",
       "arguments": {},
       "columnCustomDisplayInfos": {},
       "data": [
        [
         2,
         "Chang",
         1,
         1,
         "24 - 12 oz bottles",
         19.0,
         17,
         40,
         25,
         false
        ],
        [
         3,
         "Aniseed Syrup",
         1,
         2,
         "12 - 550 ml bottles",
         10.0,
         13,
         70,
         25,
         false
        ],
        [
         11,
         "Queso Cabrales",
         5,
         4,
         "1 kg pkg.",
         21.0,
         22,
         30,
         30,
         false
        ],
        [
         21,
         "Sir Rodney's Scones",
         8,
         3,
         "24 pkgs. x 4 pieces",
         10.0,
         3,
         40,
         5,
         false
        ],
        [
         31,
         "Gorgonzola Telino",
         14,
         4,
         "12 - 100 g pkgs",
         12.5,
         0,
         70,
         20,
         false
        ],
        [
         32,
         "Mascarpone Fabioli",
         14,
         4,
         "24 - 200 g pkgs.",
         32.0,
         9,
         40,
         25,
         false
        ],
        [
         37,
         "Gravad lax",
         17,
         8,
         "12 - 500 g pkgs.",
         26.0,
         11,
         50,
         25,
         false
        ],
        [
         45,
         "Rogede sild",
         21,
         8,
         "1k pkg.",
         9.5,
         5,
         70,
         15,
         false
        ],
        [
         48,
         "Chocolade",
         22,
         3,
         "10 pkgs.",
         12.75,
         15,
         70,
         25,
         false
        ],
        [
         49,
         "Maxilaku",
         23,
         3,
         "24 - 50 g pkgs.",
         20.0,
         10,
         60,
         15,
         false
        ],
        [
         64,
         "Wimmers gute Semmelknödel",
         12,
         5,
         "20 bags x 4 pieces",
         33.25,
         22,
         80,
         30,
         false
        ],
        [
         66,
         "Louisiana Hot Spiced Okra",
         2,
         2,
         "24 - 8 oz jars",
         17.0,
         4,
         100,
         20,
         false
        ],
        [
         68,
         "Scottish Longbreads",
         8,
         3,
         "10 boxes x 8 pieces",
         12.5,
         6,
         10,
         15,
         false
        ],
        [
         74,
         "Longlife Tofu",
         4,
         7,
         "5 kg pkg.",
         10.0,
         4,
         20,
         5,
         false
        ]
       ],
       "datasetInfos": [],
       "dbfsResultPath": null,
       "isJsonSchema": true,
       "metadata": {},
       "overflow": false,
       "plotOptions": {
        "customPlotOptions": {},
        "displayType": "table",
        "pivotAggregation": null,
        "pivotColumns": null,
        "xColumns": null,
        "yColumns": null
       },
       "removedWidgets": [],
       "schema": [
        {
         "metadata": "{}",
         "name": "ProductID",
         "type": "\"integer\""
        },
        {
         "metadata": "{}",
         "name": "ProductName",
         "type": "\"string\""
        },
        {
         "metadata": "{}",
         "name": "SupplierID",
         "type": "\"integer\""
        },
        {
         "metadata": "{}",
         "name": "CategoryID",
         "type": "\"integer\""
        },
        {
         "metadata": "{}",
         "name": "QuantityPerUnit",
         "type": "\"string\""
        },
        {
         "metadata": "{}",
         "name": "UnitPrice",
         "type": "\"double\""
        },
        {
         "metadata": "{}",
         "name": "UnitsInStock",
         "type": "\"integer\""
        },
        {
         "metadata": "{}",
         "name": "UnitsOnOrder",
         "type": "\"integer\""
        },
        {
         "metadata": "{}",
         "name": "ReorderLevel",
         "type": "\"integer\""
        },
        {
         "metadata": "{}",
         "name": "Discontinued",
         "type": "\"boolean\""
        }
       ],
       "type": "table"
      }
     },
     "output_type": "display_data"
    }
   ],
   "source": [
    "# 1. Filter the products where unitsonorder is greater than unitsinstock and unitsonorder is more than zero.\n",
    "products.filter((col(\"UnitsOnOrder\") >= col(\"UnitsInStock\")) & \n",
    "                (col(\"UnitsOnOrder\") > 0)).display()"
   ]
  },
  {
   "cell_type": "markdown",
   "metadata": {
    "application/vnd.databricks.v1+cell": {
     "cellMetadata": {
      "byteLimit": 2048000,
      "rowLimit": 10000
     },
     "inputWidgets": {},
     "nuid": "2b697fd7-9466-4bf0-a728-8916da35b832",
     "showTitle": false,
     "title": ""
    }
   },
   "source": [
    "### 19. What is the stocked value of the discontinued products?"
   ]
  },
  {
   "cell_type": "code",
   "execution_count": 0,
   "metadata": {
    "application/vnd.databricks.v1+cell": {
     "cellMetadata": {
      "byteLimit": 2048000,
      "rowLimit": 10000
     },
     "inputWidgets": {},
     "nuid": "3c74f41b-adff-4b56-b873-8bfde60931c9",
     "showTitle": false,
     "title": ""
    }
   },
   "outputs": [
    {
     "output_type": "display_data",
     "data": {
      "text/html": [
       "<style scoped>\n",
       "  .table-result-container {\n",
       "    max-height: 300px;\n",
       "    overflow: auto;\n",
       "  }\n",
       "  table, th, td {\n",
       "    border: 1px solid black;\n",
       "    border-collapse: collapse;\n",
       "  }\n",
       "  th, td {\n",
       "    padding: 5px;\n",
       "  }\n",
       "  th {\n",
       "    text-align: left;\n",
       "  }\n",
       "</style><div class='table-result-container'><table class='table-result'><thead style='background-color: white'><tr><th>TotalStockValue</th></tr></thead><tbody><tr><td>4452.6</td></tr></tbody></table></div>"
      ]
     },
     "metadata": {
      "application/vnd.databricks.v1+output": {
       "addedWidgets": {},
       "aggData": [],
       "aggError": "",
       "aggOverflow": false,
       "aggSchema": [],
       "aggSeriesLimitReached": false,
       "aggType": "",
       "arguments": {},
       "columnCustomDisplayInfos": {},
       "data": [
        [
         4452.6
        ]
       ],
       "datasetInfos": [],
       "dbfsResultPath": null,
       "isJsonSchema": true,
       "metadata": {},
       "overflow": false,
       "plotOptions": {
        "customPlotOptions": {},
        "displayType": "table",
        "pivotAggregation": null,
        "pivotColumns": null,
        "xColumns": null,
        "yColumns": null
       },
       "removedWidgets": [],
       "schema": [
        {
         "metadata": "{}",
         "name": "TotalStockValue",
         "type": "\"double\""
        }
       ],
       "type": "table"
      }
     },
     "output_type": "display_data"
    }
   ],
   "source": [
    "# 1. filter the products table where the discontinued is true\n",
    "# 2. multiply the unit price and units in stock columns by row level\n",
    "# 3. perform the summation on the resulted column and display the result.\n",
    "products.filter(col(\"Discontinued\")=='True')\\\n",
    "    .withColumn('Stock_Value', col(\"UnitPrice\")*col(\"UnitsInstock\"))\\\n",
    "    .agg(sum('Stock_Value').alias('TotalStockValue'))\\\n",
    "    .display()"
   ]
  },
  {
   "cell_type": "markdown",
   "metadata": {
    "application/vnd.databricks.v1+cell": {
     "cellMetadata": {
      "byteLimit": 2048000,
      "rowLimit": 10000
     },
     "inputWidgets": {},
     "nuid": "95c40d4f-63a0-42a0-bfb8-ebabe15f166d",
     "showTitle": false,
     "title": ""
    }
   },
   "source": [
    "### 20. Which vendor has the highest stock value?"
   ]
  },
  {
   "cell_type": "code",
   "execution_count": 0,
   "metadata": {
    "application/vnd.databricks.v1+cell": {
     "cellMetadata": {
      "byteLimit": 2048000,
      "rowLimit": 10000
     },
     "inputWidgets": {},
     "nuid": "7d40d8e3-a70c-429c-bdcc-fc92b3e8b3b5",
     "showTitle": false,
     "title": ""
    }
   },
   "outputs": [
    {
     "output_type": "display_data",
     "data": {
      "text/html": [
       "<style scoped>\n",
       "  .table-result-container {\n",
       "    max-height: 300px;\n",
       "    overflow: auto;\n",
       "  }\n",
       "  table, th, td {\n",
       "    border: 1px solid black;\n",
       "    border-collapse: collapse;\n",
       "  }\n",
       "  th, td {\n",
       "    padding: 5px;\n",
       "  }\n",
       "  th {\n",
       "    text-align: left;\n",
       "  }\n",
       "</style><div class='table-result-container'><table class='table-result'><thead style='background-color: white'><tr><th>SupplierID</th><th>CompanyName</th><th>ContactName</th><th>ContactTitle</th><th>Address</th><th>City</th><th>Region</th><th>PostalCode</th><th>Country</th><th>Phone</th><th>Fax</th><th>HomePage</th></tr></thead><tbody><tr><td>18</td><td>Aux joyeux ecclésiastiques</td><td>Guylène Nodier</td><td>Sales Manager</td><td>203, Rue des Francs-Bourgeois</td><td>Paris</td><td>null</td><td>75004</td><td>France</td><td>(1) 03.83.00.68</td><td>(1) 03.83.00.62</td><td>null</td></tr></tbody></table></div>"
      ]
     },
     "metadata": {
      "application/vnd.databricks.v1+output": {
       "addedWidgets": {},
       "aggData": [],
       "aggError": "",
       "aggOverflow": false,
       "aggSchema": [],
       "aggSeriesLimitReached": false,
       "aggType": "",
       "arguments": {},
       "columnCustomDisplayInfos": {},
       "data": [
        [
         18,
         "Aux joyeux ecclésiastiques",
         "Guylène Nodier",
         "Sales Manager",
         "203, Rue des Francs-Bourgeois",
         "Paris",
         null,
         "75004",
         "France",
         "(1) 03.83.00.68",
         "(1) 03.83.00.62",
         null
        ]
       ],
       "datasetInfos": [],
       "dbfsResultPath": null,
       "isJsonSchema": true,
       "metadata": {},
       "overflow": false,
       "plotOptions": {
        "customPlotOptions": {},
        "displayType": "table",
        "pivotAggregation": null,
        "pivotColumns": null,
        "xColumns": null,
        "yColumns": null
       },
       "removedWidgets": [],
       "schema": [
        {
         "metadata": "{}",
         "name": "SupplierID",
         "type": "\"integer\""
        },
        {
         "metadata": "{}",
         "name": "CompanyName",
         "type": "\"string\""
        },
        {
         "metadata": "{}",
         "name": "ContactName",
         "type": "\"string\""
        },
        {
         "metadata": "{}",
         "name": "ContactTitle",
         "type": "\"string\""
        },
        {
         "metadata": "{}",
         "name": "Address",
         "type": "\"string\""
        },
        {
         "metadata": "{}",
         "name": "City",
         "type": "\"string\""
        },
        {
         "metadata": "{}",
         "name": "Region",
         "type": "\"string\""
        },
        {
         "metadata": "{}",
         "name": "PostalCode",
         "type": "\"string\""
        },
        {
         "metadata": "{}",
         "name": "Country",
         "type": "\"string\""
        },
        {
         "metadata": "{}",
         "name": "Phone",
         "type": "\"string\""
        },
        {
         "metadata": "{}",
         "name": "Fax",
         "type": "\"string\""
        },
        {
         "metadata": "{}",
         "name": "HomePage",
         "type": "\"string\""
        }
       ],
       "type": "table"
      }
     },
     "output_type": "display_data"
    }
   ],
   "source": [
    "# 1. multiply units in stock and unit price on products table and group by over the supplier id\n",
    "# 2. perform summation over the resulted column and sort the supplier with highest stock value and fetch the result.\n",
    "\n",
    "highest_supplier_id = products.withColumn(\"StockValue\", col(\"UnitsInStock\")*col(\"UnitPrice\"))\\\n",
    "                .groupBy(\"SupplierID\").agg(sum(\"StockValue\").alias(\"StockValueBySupplier\"))\\\n",
    "                .sort(desc(\"StockValueBySupplier\")).select('SupplierID')\\\n",
    "                .limit(1).collect()[0]['SupplierID']\n",
    "\n",
    "\n",
    "suppliers.filter(col(\"SupplierID\") == highest_supplier_id).display()"
   ]
  },
  {
   "cell_type": "markdown",
   "metadata": {
    "application/vnd.databricks.v1+cell": {
     "cellMetadata": {
      "byteLimit": 2048000,
      "rowLimit": 10000
     },
     "inputWidgets": {},
     "nuid": "c0254494-9804-42b2-b771-c9183b4ba7d8",
     "showTitle": false,
     "title": ""
    }
   },
   "source": [
    "\n",
    "### 21. How many employees are female?"
   ]
  },
  {
   "cell_type": "code",
   "execution_count": 0,
   "metadata": {
    "application/vnd.databricks.v1+cell": {
     "cellMetadata": {
      "byteLimit": 2048000,
      "rowLimit": 10000
     },
     "inputWidgets": {},
     "nuid": "475d22e6-5e74-4258-943d-aa7684705344",
     "showTitle": false,
     "title": ""
    }
   },
   "outputs": [
    {
     "output_type": "display_data",
     "data": {
      "text/html": [
       "<style scoped>\n",
       "  .table-result-container {\n",
       "    max-height: 300px;\n",
       "    overflow: auto;\n",
       "  }\n",
       "  table, th, td {\n",
       "    border: 1px solid black;\n",
       "    border-collapse: collapse;\n",
       "  }\n",
       "  th, td {\n",
       "    padding: 5px;\n",
       "  }\n",
       "  th {\n",
       "    text-align: left;\n",
       "  }\n",
       "</style><div class='table-result-container'><table class='table-result'><thead style='background-color: white'><tr><th>gender</th><th>total</th><th>pct</th></tr></thead><tbody><tr><td>Female</td><td>5</td><td>55.56</td></tr><tr><td>Male</td><td>4</td><td>44.44</td></tr></tbody></table></div>"
      ]
     },
     "metadata": {
      "application/vnd.databricks.v1+output": {
       "addedWidgets": {},
       "aggData": [],
       "aggError": "",
       "aggOverflow": false,
       "aggSchema": [],
       "aggSeriesLimitReached": false,
       "aggType": "",
       "arguments": {},
       "columnCustomDisplayInfos": {},
       "data": [
        [
         "Female",
         5,
         55.56
        ],
        [
         "Male",
         4,
         44.44
        ]
       ],
       "datasetInfos": [],
       "dbfsResultPath": null,
       "isJsonSchema": true,
       "metadata": {},
       "overflow": false,
       "plotOptions": {
        "customPlotOptions": {},
        "displayType": "table",
        "pivotAggregation": null,
        "pivotColumns": null,
        "xColumns": null,
        "yColumns": null
       },
       "removedWidgets": [],
       "schema": [
        {
         "metadata": "{}",
         "name": "gender",
         "type": "\"string\""
        },
        {
         "metadata": "{}",
         "name": "total",
         "type": "\"long\""
        },
        {
         "metadata": "{}",
         "name": "pct",
         "type": "\"double\""
        }
       ],
       "type": "table"
      }
     },
     "output_type": "display_data"
    }
   ],
   "source": [
    "# 1. Create a order by window on \"gender\" column with window frame being unbounded preceding and unbounded following\n",
    "\n",
    "# 2. GroupBy employees column by \"gender\" \n",
    "window = Window.orderBy('gender').rowsBetween(Window.unboundedPreceding, Window.unboundedFollowing)\n",
    "employees.groupBy('gender').agg(count('gender').alias('total'))\\\n",
    "    .withColumn(\"pct\", round(100*(col('total')/sum(col(\"total\")).over(window)),2))\\\n",
    "    .display()"
   ]
  },
  {
   "cell_type": "code",
   "execution_count": 0,
   "metadata": {
    "application/vnd.databricks.v1+cell": {
     "cellMetadata": {},
     "inputWidgets": {},
     "nuid": "a78a3739-3c47-412b-bd99-797aa292ab5a",
     "showTitle": false,
     "title": ""
    }
   },
   "outputs": [],
   "source": [
    "# Perform aggregation to count the total number of employees by gender\n",
    "gender_count = employees.groupBy('gender').agg(count('gender').alias('total'))\n",
    "\n",
    "# Calculate the percentage in one step without a complex window function\n",
    "total_count = gender_count.agg(sum('total').alias('total_sum')).collect()[0]['total_sum']\n",
    "\n",
    "# Add a column to calculate the percentage for each gender\n",
    "gender_pct = gender_count.withColumn(\"pct\", F.round(100 * (col('total') / total_count), 2))\n",
    "\n",
    "# Display the result\n",
    "gender_pct.display()\n"
   ]
  },
  {
   "cell_type": "markdown",
   "metadata": {
    "application/vnd.databricks.v1+cell": {
     "cellMetadata": {
      "byteLimit": 2048000,
      "rowLimit": 10000
     },
     "inputWidgets": {},
     "nuid": "8b73a4b0-451a-42c2-9520-0ddc82b5fc30",
     "showTitle": false,
     "title": ""
    }
   },
   "source": [
    "\n",
    "### 22. How many employees are 60 years old or over?"
   ]
  },
  {
   "cell_type": "code",
   "execution_count": 0,
   "metadata": {
    "application/vnd.databricks.v1+cell": {
     "cellMetadata": {
      "byteLimit": 2048000,
      "rowLimit": 10000
     },
     "inputWidgets": {},
     "nuid": "5ed43146-c1a7-4d7d-9bec-189bcbbc76b1",
     "showTitle": false,
     "title": ""
    }
   },
   "outputs": [
    {
     "output_type": "display_data",
     "data": {
      "text/html": [
       "<style scoped>\n",
       "  .table-result-container {\n",
       "    max-height: 300px;\n",
       "    overflow: auto;\n",
       "  }\n",
       "  table, th, td {\n",
       "    border: 1px solid black;\n",
       "    border-collapse: collapse;\n",
       "  }\n",
       "  th, td {\n",
       "    padding: 5px;\n",
       "  }\n",
       "  th {\n",
       "    text-align: left;\n",
       "  }\n",
       "</style><div class='table-result-container'><table class='table-result'><thead style='background-color: white'><tr><th>EmployeeID</th><th>LastName</th><th>FirstName</th><th>Title</th><th>TitleOfCourtesy</th><th>BirthDate</th><th>HireDate</th><th>City</th><th>Region</th><th>PostalCode</th><th>Country</th><th>HomePhone</th><th>Extension</th><th>ReportsTo</th><th>PhotoPath</th><th>Full Name</th><th>Gender</th><th>today</th><th>age</th></tr></thead><tbody><tr><td>1</td><td>Davolio</td><td>Nancy</td><td>Sales Representative</td><td>Ms.</td><td>1948-12-08</td><td>1992-05-01</td><td>Seattle</td><td>WA</td><td>98122</td><td>USA</td><td>(206) 555-9857</td><td>5467</td><td>2</td><td>http://accweb/emmployees/davolio.bmp</td><td>Nancy Davolio</td><td>Female</td><td>2024-09-19</td><td>75.78</td></tr><tr><td>2</td><td>Fuller</td><td>Andrew</td><td>Vice President, Sales</td><td>Dr.</td><td>1952-02-19</td><td>1992-08-14</td><td>Tacoma</td><td>WA</td><td>98401</td><td>USA</td><td>(206) 555-9482</td><td>3457</td><td>null</td><td>http://accweb/emmployees/fuller.bmp</td><td>Andrew Fuller</td><td>Male</td><td>2024-09-19</td><td>72.58</td></tr><tr><td>3</td><td>Leverling</td><td>Janet</td><td>Sales Representative</td><td>Ms.</td><td>1963-08-30</td><td>1992-04-01</td><td>Kirkland</td><td>WA</td><td>98033</td><td>USA</td><td>(206) 555-3412</td><td>3355</td><td>2</td><td>http://accweb/emmployees/leverling.bmp</td><td>Janet Leverling</td><td>Female</td><td>2024-09-19</td><td>61.06</td></tr><tr><td>4</td><td>Peacock</td><td>Margaret</td><td>Sales Representative</td><td>Mrs.</td><td>1937-09-19</td><td>1993-05-03</td><td>Redmond</td><td>WA</td><td>98052</td><td>USA</td><td>(206) 555-8122</td><td>5176</td><td>2</td><td>http://accweb/emmployees/peacock.bmp</td><td>Margaret Peacock</td><td>Female</td><td>2024-09-19</td><td>87.0</td></tr><tr><td>5</td><td>Buchanan</td><td>Steven</td><td>Sales Manager</td><td>Mr.</td><td>1955-03-04</td><td>1993-10-17</td><td>London</td><td>null</td><td>SW1 8JR</td><td>UK</td><td>(71) 555-4848</td><td>3453</td><td>2</td><td>http://accweb/emmployees/buchanan.bmp</td><td>Steven Buchanan</td><td>Male</td><td>2024-09-19</td><td>69.55</td></tr><tr><td>6</td><td>Suyama</td><td>Michael</td><td>Sales Representative</td><td>Mr.</td><td>1963-07-02</td><td>1993-10-17</td><td>London</td><td>null</td><td>EC2 7JR</td><td>UK</td><td>(71) 555-7773</td><td>428</td><td>5</td><td>http://accweb/emmployees/davolio.bmp</td><td>Michael Suyama</td><td>Male</td><td>2024-09-19</td><td>61.22</td></tr><tr><td>7</td><td>King</td><td>Robert</td><td>Sales Representative</td><td>Mr.</td><td>1960-05-29</td><td>1994-01-02</td><td>London</td><td>null</td><td>RG1 9SP</td><td>UK</td><td>(71) 555-5598</td><td>465</td><td>5</td><td>http://accweb/emmployees/davolio.bmp</td><td>Robert King</td><td>Male</td><td>2024-09-19</td><td>64.31</td></tr><tr><td>8</td><td>Callahan</td><td>Laura</td><td>Inside Sales Coordinator</td><td>Ms.</td><td>1958-01-09</td><td>1994-03-05</td><td>Seattle</td><td>WA</td><td>98105</td><td>USA</td><td>(206) 555-1189</td><td>2344</td><td>2</td><td>http://accweb/emmployees/davolio.bmp</td><td>Laura Callahan</td><td>Female</td><td>2024-09-19</td><td>66.69</td></tr></tbody></table></div>"
      ]
     },
     "metadata": {
      "application/vnd.databricks.v1+output": {
       "addedWidgets": {},
       "aggData": [],
       "aggError": "",
       "aggOverflow": false,
       "aggSchema": [],
       "aggSeriesLimitReached": false,
       "aggType": "",
       "arguments": {},
       "columnCustomDisplayInfos": {},
       "data": [
        [
         1,
         "Davolio",
         "Nancy",
         "Sales Representative",
         "Ms.",
         "1948-12-08",
         "1992-05-01",
         "Seattle",
         "WA",
         "98122",
         "USA",
         "(206) 555-9857",
         5467,
         2,
         "http://accweb/emmployees/davolio.bmp",
         "Nancy Davolio",
         "Female",
         "2024-09-19",
         75.78
        ],
        [
         2,
         "Fuller",
         "Andrew",
         "Vice President, Sales",
         "Dr.",
         "1952-02-19",
         "1992-08-14",
         "Tacoma",
         "WA",
         "98401",
         "USA",
         "(206) 555-9482",
         3457,
         null,
         "http://accweb/emmployees/fuller.bmp",
         "Andrew Fuller",
         "Male",
         "2024-09-19",
         72.58
        ],
        [
         3,
         "Leverling",
         "Janet",
         "Sales Representative",
         "Ms.",
         "1963-08-30",
         "1992-04-01",
         "Kirkland",
         "WA",
         "98033",
         "USA",
         "(206) 555-3412",
         3355,
         2,
         "http://accweb/emmployees/leverling.bmp",
         "Janet Leverling",
         "Female",
         "2024-09-19",
         61.06
        ],
        [
         4,
         "Peacock",
         "Margaret",
         "Sales Representative",
         "Mrs.",
         "1937-09-19",
         "1993-05-03",
         "Redmond",
         "WA",
         "98052",
         "USA",
         "(206) 555-8122",
         5176,
         2,
         "http://accweb/emmployees/peacock.bmp",
         "Margaret Peacock",
         "Female",
         "2024-09-19",
         87.0
        ],
        [
         5,
         "Buchanan",
         "Steven",
         "Sales Manager",
         "Mr.",
         "1955-03-04",
         "1993-10-17",
         "London",
         null,
         "SW1 8JR",
         "UK",
         "(71) 555-4848",
         3453,
         2,
         "http://accweb/emmployees/buchanan.bmp",
         "Steven Buchanan",
         "Male",
         "2024-09-19",
         69.55
        ],
        [
         6,
         "Suyama",
         "Michael",
         "Sales Representative",
         "Mr.",
         "1963-07-02",
         "1993-10-17",
         "London",
         null,
         "EC2 7JR",
         "UK",
         "(71) 555-7773",
         428,
         5,
         "http://accweb/emmployees/davolio.bmp",
         "Michael Suyama",
         "Male",
         "2024-09-19",
         61.22
        ],
        [
         7,
         "King",
         "Robert",
         "Sales Representative",
         "Mr.",
         "1960-05-29",
         "1994-01-02",
         "London",
         null,
         "RG1 9SP",
         "UK",
         "(71) 555-5598",
         465,
         5,
         "http://accweb/emmployees/davolio.bmp",
         "Robert King",
         "Male",
         "2024-09-19",
         64.31
        ],
        [
         8,
         "Callahan",
         "Laura",
         "Inside Sales Coordinator",
         "Ms.",
         "1958-01-09",
         "1994-03-05",
         "Seattle",
         "WA",
         "98105",
         "USA",
         "(206) 555-1189",
         2344,
         2,
         "http://accweb/emmployees/davolio.bmp",
         "Laura Callahan",
         "Female",
         "2024-09-19",
         66.69
        ]
       ],
       "datasetInfos": [],
       "dbfsResultPath": null,
       "isJsonSchema": true,
       "metadata": {},
       "overflow": false,
       "plotOptions": {
        "customPlotOptions": {},
        "displayType": "table",
        "pivotAggregation": null,
        "pivotColumns": null,
        "xColumns": null,
        "yColumns": null
       },
       "removedWidgets": [],
       "schema": [
        {
         "metadata": "{}",
         "name": "EmployeeID",
         "type": "\"integer\""
        },
        {
         "metadata": "{}",
         "name": "LastName",
         "type": "\"string\""
        },
        {
         "metadata": "{}",
         "name": "FirstName",
         "type": "\"string\""
        },
        {
         "metadata": "{}",
         "name": "Title",
         "type": "\"string\""
        },
        {
         "metadata": "{}",
         "name": "TitleOfCourtesy",
         "type": "\"string\""
        },
        {
         "metadata": "{\"__detected_date_formats\":\"d-M-yyyy\"}",
         "name": "BirthDate",
         "type": "\"date\""
        },
        {
         "metadata": "{\"__detected_date_formats\":\"d-M-yyyy\"}",
         "name": "HireDate",
         "type": "\"date\""
        },
        {
         "metadata": "{}",
         "name": "City",
         "type": "\"string\""
        },
        {
         "metadata": "{}",
         "name": "Region",
         "type": "\"string\""
        },
        {
         "metadata": "{}",
         "name": "PostalCode",
         "type": "\"string\""
        },
        {
         "metadata": "{}",
         "name": "Country",
         "type": "\"string\""
        },
        {
         "metadata": "{}",
         "name": "HomePhone",
         "type": "\"string\""
        },
        {
         "metadata": "{}",
         "name": "Extension",
         "type": "\"integer\""
        },
        {
         "metadata": "{}",
         "name": "ReportsTo",
         "type": "\"integer\""
        },
        {
         "metadata": "{}",
         "name": "PhotoPath",
         "type": "\"string\""
        },
        {
         "metadata": "{}",
         "name": "Full Name",
         "type": "\"string\""
        },
        {
         "metadata": "{}",
         "name": "Gender",
         "type": "\"string\""
        },
        {
         "metadata": "{}",
         "name": "today",
         "type": "\"date\""
        },
        {
         "metadata": "{}",
         "name": "age",
         "type": "\"double\""
        }
       ],
       "type": "table"
      }
     },
     "output_type": "display_data"
    }
   ],
   "source": [
    "# 1. create a new columns with today's date in it\n",
    "# 2. calculate the difference between birth date and today'date, result will be number of days\n",
    "# 3. Divide the resulted days with 365.25 to convert it to years (.25 is to take leap year into account)\n",
    "# 4. Filter the rows where \"age\" is greater than 60 and fetch the result\n",
    "employees.withColumn('today', current_date())\\\n",
    "    .withColumn('age', round((datediff(col('today'), col('BirthDate')))/365.25,2))\\\n",
    "    .filter(col(\"age\") > 60)\\\n",
    "    .display()"
   ]
  },
  {
   "cell_type": "code",
   "execution_count": 0,
   "metadata": {
    "application/vnd.databricks.v1+cell": {
     "cellMetadata": {
      "byteLimit": 2048000,
      "rowLimit": 10000
     },
     "inputWidgets": {},
     "nuid": "a4578143-5c39-4d1f-80e3-d95dee4e9c40",
     "showTitle": false,
     "title": ""
    }
   },
   "outputs": [
    {
     "output_type": "execute_result",
     "data": {
      "text/plain": [
       "8"
      ]
     },
     "execution_count": 38,
     "metadata": {},
     "output_type": "execute_result"
    }
   ],
   "source": [
    "employees.withColumn('today', current_date())\\\n",
    "    .withColumn('age', round((datediff(col('today'), col('BirthDate')))/365.25,2))\\\n",
    "    .filter(col(\"age\") >= 60)\\\n",
    "    .count()"
   ]
  },
  {
   "cell_type": "markdown",
   "metadata": {
    "application/vnd.databricks.v1+cell": {
     "cellMetadata": {
      "byteLimit": 2048000,
      "rowLimit": 10000
     },
     "inputWidgets": {},
     "nuid": "05850791-c8ab-4a2e-85f9-979d79b2200a",
     "showTitle": false,
     "title": ""
    }
   },
   "source": [
    "### 23. Which employee had the highest sales in 2022?"
   ]
  },
  {
   "cell_type": "code",
   "execution_count": 0,
   "metadata": {
    "application/vnd.databricks.v1+cell": {
     "cellMetadata": {
      "byteLimit": 2048000,
      "rowLimit": 10000
     },
     "inputWidgets": {},
     "nuid": "2f7deb55-9360-4634-8eea-6e932746cd3f",
     "showTitle": false,
     "title": ""
    }
   },
   "outputs": [
    {
     "output_type": "display_data",
     "data": {
      "text/html": [
       "<style scoped>\n",
       "  .table-result-container {\n",
       "    max-height: 300px;\n",
       "    overflow: auto;\n",
       "  }\n",
       "  table, th, td {\n",
       "    border: 1px solid black;\n",
       "    border-collapse: collapse;\n",
       "  }\n",
       "  th, td {\n",
       "    padding: 5px;\n",
       "  }\n",
       "  th {\n",
       "    text-align: left;\n",
       "  }\n",
       "</style><div class='table-result-container'><table class='table-result'><thead style='background-color: white'><tr><th>EmployeeID</th><th>SaleValue</th></tr></thead><tbody><tr><td>4</td><td>131234.65</td></tr><tr><td>1</td><td>92949.23</td></tr><tr><td>3</td><td>92056.15</td></tr><tr><td>2</td><td>75115.25</td></tr><tr><td>7</td><td>66595.34</td></tr><tr><td>8</td><td>59308.52</td></tr><tr><td>5</td><td>49299.55</td></tr><tr><td>6</td><td>38910.84</td></tr><tr><td>9</td><td>21401.0</td></tr></tbody></table></div>"
      ]
     },
     "metadata": {
      "application/vnd.databricks.v1+output": {
       "addedWidgets": {},
       "aggData": [],
       "aggError": "",
       "aggOverflow": false,
       "aggSchema": [],
       "aggSeriesLimitReached": false,
       "aggType": "",
       "arguments": {},
       "columnCustomDisplayInfos": {},
       "data": [
        [
         4,
         131234.65
        ],
        [
         1,
         92949.23
        ],
        [
         3,
         92056.15
        ],
        [
         2,
         75115.25
        ],
        [
         7,
         66595.34
        ],
        [
         8,
         59308.52
        ],
        [
         5,
         49299.55
        ],
        [
         6,
         38910.84
        ],
        [
         9,
         21401.0
        ]
       ],
       "datasetInfos": [],
       "dbfsResultPath": null,
       "isJsonSchema": true,
       "metadata": {},
       "overflow": false,
       "plotOptions": {
        "customPlotOptions": {},
        "displayType": "table",
        "pivotAggregation": null,
        "pivotColumns": null,
        "xColumns": null,
        "yColumns": null
       },
       "removedWidgets": [],
       "schema": [
        {
         "metadata": "{}",
         "name": "EmployeeID",
         "type": "\"integer\""
        },
        {
         "metadata": "{}",
         "name": "SaleValue",
         "type": "\"double\""
        }
       ],
       "type": "table"
      }
     },
     "output_type": "display_data"
    }
   ],
   "source": [
    "# 1. filter data where year of order_date is 2023\n",
    "# 2. Perform groupBy over employee_id and do summation on the sales\n",
    "# 3. sort the resulted df in descending order by sales and display the reuslt.\n",
    "orders.filter(year(col(\"OrderDate\")) == 2023)\\\n",
    "    .groupBy(\"EmployeeID\").agg(round(sum(\"_Sales\"),2).alias(\"SaleValue\"))\\\n",
    "    .sort(desc(\"SaleValue\"))\\\n",
    "    .display()"
   ]
  },
  {
   "cell_type": "code",
   "execution_count": 0,
   "metadata": {
    "application/vnd.databricks.v1+cell": {
     "cellMetadata": {
      "byteLimit": 2048000,
      "rowLimit": 10000
     },
     "inputWidgets": {},
     "nuid": "2f53b005-4d5c-422c-a815-d0a0c8525fd1",
     "showTitle": false,
     "title": ""
    }
   },
   "outputs": [
    {
     "output_type": "display_data",
     "data": {
      "text/html": [
       "<style scoped>\n",
       "  .table-result-container {\n",
       "    max-height: 300px;\n",
       "    overflow: auto;\n",
       "  }\n",
       "  table, th, td {\n",
       "    border: 1px solid black;\n",
       "    border-collapse: collapse;\n",
       "  }\n",
       "  th, td {\n",
       "    padding: 5px;\n",
       "  }\n",
       "  th {\n",
       "    text-align: left;\n",
       "  }\n",
       "</style><div class='table-result-container'><table class='table-result'><thead style='background-color: white'><tr><th>EmployeeID</th><th>Full Name</th><th>Year</th><th>SaleValue</th></tr></thead><tbody><tr><td>4</td><td>Margaret Peacock</td><td>2023</td><td>131234.65</td></tr><tr><td>1</td><td>Nancy Davolio</td><td>2023</td><td>92949.23</td></tr><tr><td>3</td><td>Janet Leverling</td><td>2023</td><td>92056.15</td></tr><tr><td>2</td><td>Andrew Fuller</td><td>2023</td><td>75115.25</td></tr><tr><td>7</td><td>Robert King</td><td>2023</td><td>66595.34</td></tr><tr><td>8</td><td>Laura Callahan</td><td>2023</td><td>59308.52</td></tr><tr><td>5</td><td>Steven Buchanan</td><td>2023</td><td>49299.55</td></tr><tr><td>6</td><td>Michael Suyama</td><td>2023</td><td>38910.84</td></tr><tr><td>9</td><td>Anne Dodsworth</td><td>2023</td><td>21401.0</td></tr></tbody></table></div>"
      ]
     },
     "metadata": {
      "application/vnd.databricks.v1+output": {
       "addedWidgets": {},
       "aggData": [],
       "aggError": "",
       "aggOverflow": false,
       "aggSchema": [],
       "aggSeriesLimitReached": false,
       "aggType": "",
       "arguments": {},
       "columnCustomDisplayInfos": {},
       "data": [
        [
         4,
         "Margaret Peacock",
         2023,
         131234.65
        ],
        [
         1,
         "Nancy Davolio",
         2023,
         92949.23
        ],
        [
         3,
         "Janet Leverling",
         2023,
         92056.15
        ],
        [
         2,
         "Andrew Fuller",
         2023,
         75115.25
        ],
        [
         7,
         "Robert King",
         2023,
         66595.34
        ],
        [
         8,
         "Laura Callahan",
         2023,
         59308.52
        ],
        [
         5,
         "Steven Buchanan",
         2023,
         49299.55
        ],
        [
         6,
         "Michael Suyama",
         2023,
         38910.84
        ],
        [
         9,
         "Anne Dodsworth",
         2023,
         21401.0
        ]
       ],
       "datasetInfos": [],
       "dbfsResultPath": null,
       "isJsonSchema": true,
       "metadata": {},
       "overflow": false,
       "plotOptions": {
        "customPlotOptions": {},
        "displayType": "table",
        "pivotAggregation": null,
        "pivotColumns": null,
        "xColumns": null,
        "yColumns": null
       },
       "removedWidgets": [],
       "schema": [
        {
         "metadata": "{}",
         "name": "EmployeeID",
         "type": "\"integer\""
        },
        {
         "metadata": "{}",
         "name": "Full Name",
         "type": "\"string\""
        },
        {
         "metadata": "{}",
         "name": "Year",
         "type": "\"integer\""
        },
        {
         "metadata": "{}",
         "name": "SaleValue",
         "type": "\"double\""
        }
       ],
       "type": "table"
      }
     },
     "output_type": "display_data"
    }
   ],
   "source": [
    "employees.join(orders.groupBy(\"EmployeeID\", year(col(\"OrderDate\")).alias(\"Year\"))\\\n",
    "    .agg(round(sum(\"_Sales\"),2).alias(\"SaleValue\")),\\\n",
    "    on=\"EmployeeID\", how='inner')\\\n",
    "    .select(orders[\"EmployeeID\"], \"Full Name\", \"Year\", \"SaleValue\")\\\n",
    "    .filter(col(\"Year\") == 2023)\\\n",
    "    .sort(desc(\"Year\"),desc(\"SaleValue\"))\\\n",
    "    .display()"
   ]
  },
  {
   "cell_type": "markdown",
   "metadata": {
    "application/vnd.databricks.v1+cell": {
     "cellMetadata": {
      "byteLimit": 2048000,
      "rowLimit": 10000
     },
     "inputWidgets": {},
     "nuid": "3706e1d1-ba63-437d-8049-6caab5bd9d5b",
     "showTitle": false,
     "title": ""
    }
   },
   "source": [
    "### 24. How many employees sold over $100k in 2023?"
   ]
  },
  {
   "cell_type": "code",
   "execution_count": 0,
   "metadata": {
    "application/vnd.databricks.v1+cell": {
     "cellMetadata": {
      "byteLimit": 2048000,
      "rowLimit": 10000
     },
     "inputWidgets": {},
     "nuid": "06b79b8c-0e6b-4219-9cd7-20a6106ddeb2",
     "showTitle": false,
     "title": ""
    }
   },
   "outputs": [
    {
     "output_type": "display_data",
     "data": {
      "text/html": [
       "<style scoped>\n",
       "  .table-result-container {\n",
       "    max-height: 300px;\n",
       "    overflow: auto;\n",
       "  }\n",
       "  table, th, td {\n",
       "    border: 1px solid black;\n",
       "    border-collapse: collapse;\n",
       "  }\n",
       "  th, td {\n",
       "    padding: 5px;\n",
       "  }\n",
       "  th {\n",
       "    text-align: left;\n",
       "  }\n",
       "</style><div class='table-result-container'><table class='table-result'><thead style='background-color: white'><tr><th>EmployeeID</th><th>SaleValue</th></tr></thead><tbody><tr><td>4</td><td>131234.65</td></tr></tbody></table></div>"
      ]
     },
     "metadata": {
      "application/vnd.databricks.v1+output": {
       "addedWidgets": {},
       "aggData": [],
       "aggError": "",
       "aggOverflow": false,
       "aggSchema": [],
       "aggSeriesLimitReached": false,
       "aggType": "",
       "arguments": {},
       "columnCustomDisplayInfos": {},
       "data": [
        [
         4,
         131234.65
        ]
       ],
       "datasetInfos": [],
       "dbfsResultPath": null,
       "isJsonSchema": true,
       "metadata": {},
       "overflow": false,
       "plotOptions": {
        "customPlotOptions": {},
        "displayType": "table",
        "pivotAggregation": null,
        "pivotColumns": null,
        "xColumns": null,
        "yColumns": null
       },
       "removedWidgets": [],
       "schema": [
        {
         "metadata": "{}",
         "name": "EmployeeID",
         "type": "\"integer\""
        },
        {
         "metadata": "{}",
         "name": "SaleValue",
         "type": "\"double\""
        }
       ],
       "type": "table"
      }
     },
     "output_type": "display_data"
    }
   ],
   "source": [
    "# 1. Filter the year of order date to be 2023\n",
    "# 2. Perform group by over employee_id and do summation over sales\n",
    "# 3. Filter the result where sales is greater than 100000 and fetch the result \n",
    "orders.filter(year(col(\"OrderDate\")) == 2023)\\\n",
    "    .groupBy(\"EmployeeID\").agg(round(sum(\"_Sales\"),2).alias(\"SaleValue\"))\\\n",
    "    .sort(desc(\"SaleValue\"))\\\n",
    "    .filter(col(\"SaleValue\")>= 100000)\\\n",
    "    .display()"
   ]
  },
  {
   "cell_type": "code",
   "execution_count": 0,
   "metadata": {
    "application/vnd.databricks.v1+cell": {
     "cellMetadata": {
      "byteLimit": 2048000,
      "rowLimit": 10000
     },
     "inputWidgets": {},
     "nuid": "9b184de9-f5b8-4377-99c7-61bb7c299024",
     "showTitle": false,
     "title": ""
    }
   },
   "outputs": [
    {
     "output_type": "display_data",
     "data": {
      "text/html": [
       "<style scoped>\n",
       "  .table-result-container {\n",
       "    max-height: 300px;\n",
       "    overflow: auto;\n",
       "  }\n",
       "  table, th, td {\n",
       "    border: 1px solid black;\n",
       "    border-collapse: collapse;\n",
       "  }\n",
       "  th, td {\n",
       "    padding: 5px;\n",
       "  }\n",
       "  th {\n",
       "    text-align: left;\n",
       "  }\n",
       "</style><div class='table-result-container'><table class='table-result'><thead style='background-color: white'><tr><th>EmployeeID</th><th>Full Name</th><th>Year</th><th>SaleValue</th></tr></thead><tbody><tr><td>4</td><td>Margaret Peacock</td><td>2023</td><td>131234.65</td></tr></tbody></table></div>"
      ]
     },
     "metadata": {
      "application/vnd.databricks.v1+output": {
       "addedWidgets": {},
       "aggData": [],
       "aggError": "",
       "aggOverflow": false,
       "aggSchema": [],
       "aggSeriesLimitReached": false,
       "aggType": "",
       "arguments": {},
       "columnCustomDisplayInfos": {},
       "data": [
        [
         4,
         "Margaret Peacock",
         2023,
         131234.65
        ]
       ],
       "datasetInfos": [],
       "dbfsResultPath": null,
       "isJsonSchema": true,
       "metadata": {},
       "overflow": false,
       "plotOptions": {
        "customPlotOptions": {},
        "displayType": "table",
        "pivotAggregation": null,
        "pivotColumns": null,
        "xColumns": null,
        "yColumns": null
       },
       "removedWidgets": [],
       "schema": [
        {
         "metadata": "{}",
         "name": "EmployeeID",
         "type": "\"integer\""
        },
        {
         "metadata": "{}",
         "name": "Full Name",
         "type": "\"string\""
        },
        {
         "metadata": "{}",
         "name": "Year",
         "type": "\"integer\""
        },
        {
         "metadata": "{}",
         "name": "SaleValue",
         "type": "\"double\""
        }
       ],
       "type": "table"
      }
     },
     "output_type": "display_data"
    }
   ],
   "source": [
    "employees.join(orders.groupBy(\"EmployeeID\", year(col(\"OrderDate\")).alias(\"Year\"))\\\n",
    "    .agg(round(sum(\"_Sales\"),2).alias(\"SaleValue\")),\\\n",
    "    on=\"EmployeeID\", how='inner')\\\n",
    "    .select(orders[\"EmployeeID\"], \"Full Name\", \"Year\", \"SaleValue\")\\\n",
    "    .filter(col(\"Year\") == 2023)\\\n",
    "    .sort(desc(\"Year\"),desc(\"SaleValue\"))\\\n",
    "    .filter(col(\"SaleValue\") > 100000)\\\n",
    "    .display()"
   ]
  },
  {
   "cell_type": "markdown",
   "metadata": {
    "application/vnd.databricks.v1+cell": {
     "cellMetadata": {
      "byteLimit": 2048000,
      "rowLimit": 10000
     },
     "inputWidgets": {},
     "nuid": "8a4a0df1-ae40-4ffb-9d0b-7b1050733feb",
     "showTitle": false,
     "title": ""
    }
   },
   "source": [
    "### 25. How many employees got hired in 1994?"
   ]
  },
  {
   "cell_type": "code",
   "execution_count": 0,
   "metadata": {
    "application/vnd.databricks.v1+cell": {
     "cellMetadata": {
      "byteLimit": 2048000,
      "rowLimit": 10000
     },
     "inputWidgets": {},
     "nuid": "e6238edb-b629-442d-ad28-d184bcf0bcf0",
     "showTitle": false,
     "title": ""
    }
   },
   "outputs": [
    {
     "output_type": "display_data",
     "data": {
      "text/html": [
       "<style scoped>\n",
       "  .table-result-container {\n",
       "    max-height: 300px;\n",
       "    overflow: auto;\n",
       "  }\n",
       "  table, th, td {\n",
       "    border: 1px solid black;\n",
       "    border-collapse: collapse;\n",
       "  }\n",
       "  th, td {\n",
       "    padding: 5px;\n",
       "  }\n",
       "  th {\n",
       "    text-align: left;\n",
       "  }\n",
       "</style><div class='table-result-container'><table class='table-result'><thead style='background-color: white'><tr><th>EmployeeID</th><th>LastName</th><th>FirstName</th><th>Title</th><th>TitleOfCourtesy</th><th>BirthDate</th><th>HireDate</th><th>City</th><th>Region</th><th>PostalCode</th><th>Country</th><th>HomePhone</th><th>Extension</th><th>ReportsTo</th><th>PhotoPath</th><th>Full Name</th><th>Gender</th></tr></thead><tbody><tr><td>7</td><td>King</td><td>Robert</td><td>Sales Representative</td><td>Mr.</td><td>1960-05-29</td><td>1994-01-02</td><td>London</td><td>null</td><td>RG1 9SP</td><td>UK</td><td>(71) 555-5598</td><td>465</td><td>5</td><td>http://accweb/emmployees/davolio.bmp</td><td>Robert King</td><td>Male</td></tr><tr><td>8</td><td>Callahan</td><td>Laura</td><td>Inside Sales Coordinator</td><td>Ms.</td><td>1958-01-09</td><td>1994-03-05</td><td>Seattle</td><td>WA</td><td>98105</td><td>USA</td><td>(206) 555-1189</td><td>2344</td><td>2</td><td>http://accweb/emmployees/davolio.bmp</td><td>Laura Callahan</td><td>Female</td></tr><tr><td>9</td><td>Dodsworth</td><td>Anne</td><td>Sales Representative</td><td>Ms.</td><td>1966-01-27</td><td>1994-11-15</td><td>London</td><td>null</td><td>WG2 7LT</td><td>UK</td><td>(71) 555-4444</td><td>452</td><td>5</td><td>http://accweb/emmployees/davolio.bmp</td><td>Anne Dodsworth</td><td>Female</td></tr></tbody></table></div>"
      ]
     },
     "metadata": {
      "application/vnd.databricks.v1+output": {
       "addedWidgets": {},
       "aggData": [],
       "aggError": "",
       "aggOverflow": false,
       "aggSchema": [],
       "aggSeriesLimitReached": false,
       "aggType": "",
       "arguments": {},
       "columnCustomDisplayInfos": {},
       "data": [
        [
         7,
         "King",
         "Robert",
         "Sales Representative",
         "Mr.",
         "1960-05-29",
         "1994-01-02",
         "London",
         null,
         "RG1 9SP",
         "UK",
         "(71) 555-5598",
         465,
         5,
         "http://accweb/emmployees/davolio.bmp",
         "Robert King",
         "Male"
        ],
        [
         8,
         "Callahan",
         "Laura",
         "Inside Sales Coordinator",
         "Ms.",
         "1958-01-09",
         "1994-03-05",
         "Seattle",
         "WA",
         "98105",
         "USA",
         "(206) 555-1189",
         2344,
         2,
         "http://accweb/emmployees/davolio.bmp",
         "Laura Callahan",
         "Female"
        ],
        [
         9,
         "Dodsworth",
         "Anne",
         "Sales Representative",
         "Ms.",
         "1966-01-27",
         "1994-11-15",
         "London",
         null,
         "WG2 7LT",
         "UK",
         "(71) 555-4444",
         452,
         5,
         "http://accweb/emmployees/davolio.bmp",
         "Anne Dodsworth",
         "Female"
        ]
       ],
       "datasetInfos": [],
       "dbfsResultPath": null,
       "isJsonSchema": true,
       "metadata": {},
       "overflow": false,
       "plotOptions": {
        "customPlotOptions": {},
        "displayType": "table",
        "pivotAggregation": null,
        "pivotColumns": null,
        "xColumns": null,
        "yColumns": null
       },
       "removedWidgets": [],
       "schema": [
        {
         "metadata": "{}",
         "name": "EmployeeID",
         "type": "\"integer\""
        },
        {
         "metadata": "{}",
         "name": "LastName",
         "type": "\"string\""
        },
        {
         "metadata": "{}",
         "name": "FirstName",
         "type": "\"string\""
        },
        {
         "metadata": "{}",
         "name": "Title",
         "type": "\"string\""
        },
        {
         "metadata": "{}",
         "name": "TitleOfCourtesy",
         "type": "\"string\""
        },
        {
         "metadata": "{\"__detected_date_formats\":\"d-M-yyyy\"}",
         "name": "BirthDate",
         "type": "\"date\""
        },
        {
         "metadata": "{\"__detected_date_formats\":\"d-M-yyyy\"}",
         "name": "HireDate",
         "type": "\"date\""
        },
        {
         "metadata": "{}",
         "name": "City",
         "type": "\"string\""
        },
        {
         "metadata": "{}",
         "name": "Region",
         "type": "\"string\""
        },
        {
         "metadata": "{}",
         "name": "PostalCode",
         "type": "\"string\""
        },
        {
         "metadata": "{}",
         "name": "Country",
         "type": "\"string\""
        },
        {
         "metadata": "{}",
         "name": "HomePhone",
         "type": "\"string\""
        },
        {
         "metadata": "{}",
         "name": "Extension",
         "type": "\"integer\""
        },
        {
         "metadata": "{}",
         "name": "ReportsTo",
         "type": "\"integer\""
        },
        {
         "metadata": "{}",
         "name": "PhotoPath",
         "type": "\"string\""
        },
        {
         "metadata": "{}",
         "name": "Full Name",
         "type": "\"string\""
        },
        {
         "metadata": "{}",
         "name": "Gender",
         "type": "\"string\""
        }
       ],
       "type": "table"
      }
     },
     "output_type": "display_data"
    }
   ],
   "source": [
    "# 1. filter the data where year of hire date is 1994\n",
    "employees.filter(year(col(\"HireDate\"))==1994).display()"
   ]
  },
  {
   "cell_type": "code",
   "execution_count": 0,
   "metadata": {
    "application/vnd.databricks.v1+cell": {
     "cellMetadata": {
      "byteLimit": 2048000,
      "rowLimit": 10000
     },
     "inputWidgets": {},
     "nuid": "ea11da8f-9702-4be7-8933-18d4d14ad16e",
     "showTitle": false,
     "title": ""
    }
   },
   "outputs": [],
   "source": []
  }
 ],
 "metadata": {
  "application/vnd.databricks.v1+notebook": {
   "dashboards": [],
   "environmentMetadata": null,
   "language": "python",
   "notebookMetadata": {
    "pythonIndentUnit": 4
   },
   "notebookName": "Northwind - YouTube",
   "widgets": {}
  }
 },
 "nbformat": 4,
 "nbformat_minor": 0
}
